{
  "nbformat": 4,
  "nbformat_minor": 0,
  "metadata": {
    "colab": {
      "name": "Automated Intent Classification Using Python - Model Training and Predictions.ipynb",
      "provenance": [],
      "toc_visible": true,
      "mount_file_id": "1kUl79VpvkfoDE0KeYedLCxsJUQZfkFod",
      "authorship_tag": "ABX9TyNEG9V2fzoSOU65wR48iCq/",
      "include_colab_link": true
    },
    "kernelspec": {
      "name": "python3",
      "display_name": "Python 3"
    },
    "accelerator": "GPU"
  },
  "cells": [
    {
      "cell_type": "markdown",
      "metadata": {
        "id": "view-in-github",
        "colab_type": "text"
      },
      "source": [
        "<a href=\"https://colab.research.google.com/github/hamletbatista/daanyc/blob/master/Automated_Intent_Classification_Using_Python_Model_Training_and_Predictions.ipynb\" target=\"_parent\"><img src=\"https://colab.research.google.com/assets/colab-badge.svg\" alt=\"Open In Colab\"/></a>"
      ]
    },
    {
      "cell_type": "markdown",
      "metadata": {
        "id": "Pjc7bJs0C0-6",
        "colab_type": "text"
      },
      "source": [
        "#Automated Intent Classification Using Python - Model Training and Predictions\n",
        "\n",
        "\n",
        "---\n",
        "\n",
        "\n",
        "Check to learn more\n",
        "https://www.searchenginejournal.com/automated-intent-classification-using-deep-learning-google-sheets/353910/\n",
        "\n",
        "1. Download the prepared CSV files\n",
        "2. Train our BERT-powered predictive model using Uber’s Ludwig.\n",
        "3. Test predictive model on competing site\n"
      ]
    },
    {
      "cell_type": "markdown",
      "metadata": {
        "id": "1v9WALf5rlzZ",
        "colab_type": "text"
      },
      "source": [
        "## First competitor keywords set"
      ]
    },
    {
      "cell_type": "code",
      "metadata": {
        "id": "h7ybm5IBKwq1",
        "colab_type": "code",
        "colab": {
          "base_uri": "https://localhost:8080/",
          "height": 204
        },
        "outputId": "274c6421-bc96-4db1-e78c-735e29f60076"
      },
      "source": [
        "#Competitor 1 source keywords. Preprepared in the first notebook \n",
        "\n",
        "!wget https://raw.githubusercontent.com/hamletbatista/daanyc/master/ghostbed.csv\n"
      ],
      "execution_count": 2,
      "outputs": [
        {
          "output_type": "stream",
          "text": [
            "--2020-07-29 22:37:47--  https://raw.githubusercontent.com/hamletbatista/daanyc/master/ghostbed.csv\n",
            "Resolving raw.githubusercontent.com (raw.githubusercontent.com)... 151.101.0.133, 151.101.64.133, 151.101.128.133, ...\n",
            "Connecting to raw.githubusercontent.com (raw.githubusercontent.com)|151.101.0.133|:443... connected.\n",
            "HTTP request sent, awaiting response... 200 OK\n",
            "Length: 348009 (340K) [text/plain]\n",
            "Saving to: ‘ghostbed.csv’\n",
            "\n",
            "\rghostbed.csv          0%[                    ]       0  --.-KB/s               \rghostbed.csv        100%[===================>] 339.85K  --.-KB/s    in 0.03s   \n",
            "\n",
            "2020-07-29 22:37:48 (10.0 MB/s) - ‘ghostbed.csv’ saved [348009/348009]\n",
            "\n"
          ],
          "name": "stdout"
        }
      ]
    },
    {
      "cell_type": "markdown",
      "metadata": {
        "id": "4yt7NAGGuzjv",
        "colab_type": "text"
      },
      "source": [
        "As you download files and run the training process, you can hit refresh on the left pane to see the file and download them to your computer.\n",
        "\n",
        "![alt text](https://github.com/hamletbatista/daanyc/raw/master/refresh.png)"
      ]
    },
    {
      "cell_type": "code",
      "metadata": {
        "id": "n3xnftCpK_2x",
        "colab_type": "code",
        "colab": {}
      },
      "source": [
        "df = pd.read_csv(\"ghostbed.csv\")"
      ],
      "execution_count": null,
      "outputs": []
    },
    {
      "cell_type": "code",
      "metadata": {
        "id": "yz2wOxBND33M",
        "colab_type": "code",
        "colab": {
          "base_uri": "https://localhost:8080/",
          "height": 419
        },
        "outputId": "f20bbaae-4885-46d3-eeb2-3df844f3d6ae"
      },
      "source": [
        "df.head(500)"
      ],
      "execution_count": null,
      "outputs": [
        {
          "output_type": "execute_result",
          "data": {
            "text/html": [
              "<div>\n",
              "<style scoped>\n",
              "    .dataframe tbody tr th:only-of-type {\n",
              "        vertical-align: middle;\n",
              "    }\n",
              "\n",
              "    .dataframe tbody tr th {\n",
              "        vertical-align: top;\n",
              "    }\n",
              "\n",
              "    .dataframe thead th {\n",
              "        text-align: right;\n",
              "    }\n",
              "</style>\n",
              "<table border=\"1\" class=\"dataframe\">\n",
              "  <thead>\n",
              "    <tr style=\"text-align: right;\">\n",
              "      <th></th>\n",
              "      <th>Unnamed: 0</th>\n",
              "      <th>Keyword</th>\n",
              "    </tr>\n",
              "  </thead>\n",
              "  <tbody>\n",
              "    <tr>\n",
              "      <th>0</th>\n",
              "      <td>0</td>\n",
              "      <td>ghost bed</td>\n",
              "    </tr>\n",
              "    <tr>\n",
              "      <th>1</th>\n",
              "      <td>1</td>\n",
              "      <td>ghostbed</td>\n",
              "    </tr>\n",
              "    <tr>\n",
              "      <th>2</th>\n",
              "      <td>2</td>\n",
              "      <td>ghost mattress</td>\n",
              "    </tr>\n",
              "    <tr>\n",
              "      <th>3</th>\n",
              "      <td>3</td>\n",
              "      <td>zero gravity bed</td>\n",
              "    </tr>\n",
              "    <tr>\n",
              "      <th>4</th>\n",
              "      <td>4</td>\n",
              "      <td>mattress cover</td>\n",
              "    </tr>\n",
              "    <tr>\n",
              "      <th>...</th>\n",
              "      <td>...</td>\n",
              "      <td>...</td>\n",
              "    </tr>\n",
              "    <tr>\n",
              "      <th>495</th>\n",
              "      <td>495</td>\n",
              "      <td>mattress disinfectant spray</td>\n",
              "    </tr>\n",
              "    <tr>\n",
              "      <th>496</th>\n",
              "      <td>496</td>\n",
              "      <td>how to get blood out of a tempurpedic mattress</td>\n",
              "    </tr>\n",
              "    <tr>\n",
              "      <th>497</th>\n",
              "      <td>497</td>\n",
              "      <td>california king dimensions</td>\n",
              "    </tr>\n",
              "    <tr>\n",
              "      <th>498</th>\n",
              "      <td>498</td>\n",
              "      <td>mattress bundle</td>\n",
              "    </tr>\n",
              "    <tr>\n",
              "      <th>499</th>\n",
              "      <td>499</td>\n",
              "      <td>king mattress dimensions</td>\n",
              "    </tr>\n",
              "  </tbody>\n",
              "</table>\n",
              "<p>500 rows × 2 columns</p>\n",
              "</div>"
            ],
            "text/plain": [
              "     Unnamed: 0                                         Keyword\n",
              "0             0                                       ghost bed\n",
              "1             1                                        ghostbed\n",
              "2             2                                  ghost mattress\n",
              "3             3                                zero gravity bed\n",
              "4             4                                  mattress cover\n",
              "..          ...                                             ...\n",
              "495         495                     mattress disinfectant spray\n",
              "496         496  how to get blood out of a tempurpedic mattress\n",
              "497         497                      california king dimensions\n",
              "498         498                                 mattress bundle\n",
              "499         499                        king mattress dimensions\n",
              "\n",
              "[500 rows x 2 columns]"
            ]
          },
          "metadata": {
            "tags": []
          },
          "execution_count": 5
        }
      ]
    },
    {
      "cell_type": "code",
      "metadata": {
        "id": "sBRGRce2D4Av",
        "colab_type": "code",
        "colab": {}
      },
      "source": [
        "#df"
      ],
      "execution_count": null,
      "outputs": []
    },
    {
      "cell_type": "markdown",
      "metadata": {
        "id": "1n7C-8p9MDDu",
        "colab_type": "text"
      },
      "source": [
        "##Manually labeled intentions\n",
        "\n",
        "We used heuristics in the first notebook to produce this intent dataset"
      ]
    },
    {
      "cell_type": "code",
      "metadata": {
        "id": "lnCzgBcbLx-3",
        "colab_type": "code",
        "colab": {
          "base_uri": "https://localhost:8080/",
          "height": 204
        },
        "outputId": "e42d7037-3ca3-4101-deca-bca595a9e983"
      },
      "source": [
        "!wget https://raw.githubusercontent.com/hamletbatista/daanyc/master/ghost-bed-intent.csv"
      ],
      "execution_count": null,
      "outputs": [
        {
          "output_type": "stream",
          "text": [
            "--2020-07-29 16:51:27--  https://raw.githubusercontent.com/hamletbatista/daanyc/master/ghost-bed-intent.csv\n",
            "Resolving raw.githubusercontent.com (raw.githubusercontent.com)... 151.101.0.133, 151.101.64.133, 151.101.128.133, ...\n",
            "Connecting to raw.githubusercontent.com (raw.githubusercontent.com)|151.101.0.133|:443... connected.\n",
            "HTTP request sent, awaiting response... 200 OK\n",
            "Length: 84436 (82K) [text/plain]\n",
            "Saving to: ‘ghost-bed-intent.csv’\n",
            "\n",
            "\rghost-bed-intent.cs   0%[                    ]       0  --.-KB/s               \rghost-bed-intent.cs 100%[===================>]  82.46K  --.-KB/s    in 0.009s  \n",
            "\n",
            "2020-07-29 16:51:27 (8.93 MB/s) - ‘ghost-bed-intent.csv’ saved [84436/84436]\n",
            "\n"
          ],
          "name": "stdout"
        }
      ]
    },
    {
      "cell_type": "code",
      "metadata": {
        "id": "s4kwh4viMSBb",
        "colab_type": "code",
        "colab": {}
      },
      "source": [
        "df = pd.read_csv(\"ghost-bed-intent.csv\")"
      ],
      "execution_count": null,
      "outputs": []
    },
    {
      "cell_type": "code",
      "metadata": {
        "id": "5OJslRHvuXZg",
        "colab_type": "code",
        "colab": {
          "base_uri": "https://localhost:8080/",
          "height": 235
        },
        "outputId": "543dcb8c-5f6b-496c-8071-24ae3a1c89b0"
      },
      "source": [
        "df.groupby(\"intent\").count()"
      ],
      "execution_count": null,
      "outputs": [
        {
          "output_type": "execute_result",
          "data": {
            "text/html": [
              "<div>\n",
              "<style scoped>\n",
              "    .dataframe tbody tr th:only-of-type {\n",
              "        vertical-align: middle;\n",
              "    }\n",
              "\n",
              "    .dataframe tbody tr th {\n",
              "        vertical-align: top;\n",
              "    }\n",
              "\n",
              "    .dataframe thead th {\n",
              "        text-align: right;\n",
              "    }\n",
              "</style>\n",
              "<table border=\"1\" class=\"dataframe\">\n",
              "  <thead>\n",
              "    <tr style=\"text-align: right;\">\n",
              "      <th></th>\n",
              "      <th>Unnamed: 0</th>\n",
              "      <th>query</th>\n",
              "    </tr>\n",
              "    <tr>\n",
              "      <th>intent</th>\n",
              "      <th></th>\n",
              "      <th></th>\n",
              "    </tr>\n",
              "  </thead>\n",
              "  <tbody>\n",
              "    <tr>\n",
              "      <th>Commercial Investigation</th>\n",
              "      <td>44</td>\n",
              "      <td>44</td>\n",
              "    </tr>\n",
              "    <tr>\n",
              "      <th>Informational</th>\n",
              "      <td>1446</td>\n",
              "      <td>1446</td>\n",
              "    </tr>\n",
              "    <tr>\n",
              "      <th>Navigational</th>\n",
              "      <td>13</td>\n",
              "      <td>13</td>\n",
              "    </tr>\n",
              "    <tr>\n",
              "      <th>Transactional</th>\n",
              "      <td>137</td>\n",
              "      <td>137</td>\n",
              "    </tr>\n",
              "    <tr>\n",
              "      <th>Unknown</th>\n",
              "      <td>133</td>\n",
              "      <td>133</td>\n",
              "    </tr>\n",
              "  </tbody>\n",
              "</table>\n",
              "</div>"
            ],
            "text/plain": [
              "                          Unnamed: 0  query\n",
              "intent                                     \n",
              "Commercial Investigation          44     44\n",
              "Informational                   1446   1446\n",
              "Navigational                      13     13\n",
              "Transactional                    137    137\n",
              "Unknown                          133    133"
            ]
          },
          "metadata": {
            "tags": []
          },
          "execution_count": 8
        }
      ]
    },
    {
      "cell_type": "code",
      "metadata": {
        "id": "nAVKkH6wuXh4",
        "colab_type": "code",
        "colab": {
          "base_uri": "https://localhost:8080/",
          "height": 419
        },
        "outputId": "8192a759-ecf5-4155-e0c5-73a0edacc6a4"
      },
      "source": [
        "df.head(100)"
      ],
      "execution_count": null,
      "outputs": [
        {
          "output_type": "execute_result",
          "data": {
            "text/html": [
              "<div>\n",
              "<style scoped>\n",
              "    .dataframe tbody tr th:only-of-type {\n",
              "        vertical-align: middle;\n",
              "    }\n",
              "\n",
              "    .dataframe tbody tr th {\n",
              "        vertical-align: top;\n",
              "    }\n",
              "\n",
              "    .dataframe thead th {\n",
              "        text-align: right;\n",
              "    }\n",
              "</style>\n",
              "<table border=\"1\" class=\"dataframe\">\n",
              "  <thead>\n",
              "    <tr style=\"text-align: right;\">\n",
              "      <th></th>\n",
              "      <th>Unnamed: 0</th>\n",
              "      <th>query</th>\n",
              "      <th>intent</th>\n",
              "    </tr>\n",
              "  </thead>\n",
              "  <tbody>\n",
              "    <tr>\n",
              "      <th>0</th>\n",
              "      <td>0</td>\n",
              "      <td>ghost bed</td>\n",
              "      <td>Transactional</td>\n",
              "    </tr>\n",
              "    <tr>\n",
              "      <th>1</th>\n",
              "      <td>1</td>\n",
              "      <td>ghostbed</td>\n",
              "      <td>Commercial Investigation</td>\n",
              "    </tr>\n",
              "    <tr>\n",
              "      <th>2</th>\n",
              "      <td>2</td>\n",
              "      <td>ghost mattress</td>\n",
              "      <td>Informational</td>\n",
              "    </tr>\n",
              "    <tr>\n",
              "      <th>3</th>\n",
              "      <td>3</td>\n",
              "      <td>zero gravity bed</td>\n",
              "      <td>Unknown</td>\n",
              "    </tr>\n",
              "    <tr>\n",
              "      <th>4</th>\n",
              "      <td>4</td>\n",
              "      <td>mattress cover</td>\n",
              "      <td>Informational</td>\n",
              "    </tr>\n",
              "    <tr>\n",
              "      <th>...</th>\n",
              "      <td>...</td>\n",
              "      <td>...</td>\n",
              "      <td>...</td>\n",
              "    </tr>\n",
              "    <tr>\n",
              "      <th>95</th>\n",
              "      <td>95</td>\n",
              "      <td>purple mattress price</td>\n",
              "      <td>Informational</td>\n",
              "    </tr>\n",
              "    <tr>\n",
              "      <th>96</th>\n",
              "      <td>96</td>\n",
              "      <td>mattress size chart</td>\n",
              "      <td>Commercial Investigation</td>\n",
              "    </tr>\n",
              "    <tr>\n",
              "      <th>97</th>\n",
              "      <td>97</td>\n",
              "      <td>0 gravity bed</td>\n",
              "      <td>Informational</td>\n",
              "    </tr>\n",
              "    <tr>\n",
              "      <th>98</th>\n",
              "      <td>98</td>\n",
              "      <td>how much bigger is a king than a queen</td>\n",
              "      <td>Informational</td>\n",
              "    </tr>\n",
              "    <tr>\n",
              "      <th>99</th>\n",
              "      <td>99</td>\n",
              "      <td>sizes of weighted blankets</td>\n",
              "      <td>Commercial Investigation</td>\n",
              "    </tr>\n",
              "  </tbody>\n",
              "</table>\n",
              "<p>100 rows × 3 columns</p>\n",
              "</div>"
            ],
            "text/plain": [
              "    Unnamed: 0  ...                    intent\n",
              "0            0  ...             Transactional\n",
              "1            1  ...  Commercial Investigation\n",
              "2            2  ...             Informational\n",
              "3            3  ...                   Unknown\n",
              "4            4  ...             Informational\n",
              "..         ...  ...                       ...\n",
              "95          95  ...             Informational\n",
              "96          96  ...  Commercial Investigation\n",
              "97          97  ...             Informational\n",
              "98          98  ...             Informational\n",
              "99          99  ...  Commercial Investigation\n",
              "\n",
              "[100 rows x 3 columns]"
            ]
          },
          "metadata": {
            "tags": []
          },
          "execution_count": 9
        }
      ]
    },
    {
      "cell_type": "markdown",
      "metadata": {
        "id": "i5ZEeY_WDj74",
        "colab_type": "text"
      },
      "source": [
        "## Train our BERT-powered predictive model using Uber’s Ludwig.\n"
      ]
    },
    {
      "cell_type": "code",
      "metadata": {
        "id": "PceK0zS2Dmk2",
        "colab_type": "code",
        "colab": {
          "base_uri": "https://localhost:8080/",
          "height": 34
        },
        "outputId": "422e15fa-d7e5-40ea-ece4-8bf9e30c9145"
      },
      "source": [
        "%tensorflow_version 1.x \n",
        "\n",
        "import tensorflow as tf; print(tf.__version__)\n",
        "\n"
      ],
      "execution_count": null,
      "outputs": [
        {
          "output_type": "stream",
          "text": [
            "1.15.2\n"
          ],
          "name": "stdout"
        }
      ]
    },
    {
      "cell_type": "code",
      "metadata": {
        "id": "mkDSFw48xXPG",
        "colab_type": "code",
        "colab": {}
      },
      "source": [
        "%%capture\n",
        "!pip install ludwig\n",
        "\n"
      ],
      "execution_count": null,
      "outputs": []
    },
    {
      "cell_type": "code",
      "metadata": {
        "id": "gDPYruecxXan",
        "colab_type": "code",
        "colab": {
          "base_uri": "https://localhost:8080/",
          "height": 343
        },
        "outputId": "f77ac2fc-5a82-4055-b2e6-2ebf4a1b9825"
      },
      "source": [
        "!wget https://storage.googleapis.com/bert_models/2018_10_18/uncased_L-12_H-768_A-12.zip\n",
        "!unzip uncased_L-12_H-768_A-12.zip\n",
        "\n"
      ],
      "execution_count": null,
      "outputs": [
        {
          "output_type": "stream",
          "text": [
            "--2020-07-29 04:15:22--  https://storage.googleapis.com/bert_models/2018_10_18/uncased_L-12_H-768_A-12.zip\n",
            "Resolving storage.googleapis.com (storage.googleapis.com)... 173.194.193.128, 173.194.194.128, 172.217.212.128, ...\n",
            "Connecting to storage.googleapis.com (storage.googleapis.com)|173.194.193.128|:443... connected.\n",
            "HTTP request sent, awaiting response... 200 OK\n",
            "Length: 407727028 (389M) [application/zip]\n",
            "Saving to: ‘uncased_L-12_H-768_A-12.zip’\n",
            "\n",
            "uncased_L-12_H-768_ 100%[===================>] 388.84M  45.8MB/s    in 8.7s    \n",
            "\n",
            "2020-07-29 04:15:31 (44.6 MB/s) - ‘uncased_L-12_H-768_A-12.zip’ saved [407727028/407727028]\n",
            "\n",
            "Archive:  uncased_L-12_H-768_A-12.zip\n",
            "   creating: uncased_L-12_H-768_A-12/\n",
            "  inflating: uncased_L-12_H-768_A-12/bert_model.ckpt.meta  \n",
            "  inflating: uncased_L-12_H-768_A-12/bert_model.ckpt.data-00000-of-00001  \n",
            "  inflating: uncased_L-12_H-768_A-12/vocab.txt  \n",
            "  inflating: uncased_L-12_H-768_A-12/bert_model.ckpt.index  \n",
            "  inflating: uncased_L-12_H-768_A-12/bert_config.json  \n"
          ],
          "name": "stdout"
        }
      ]
    },
    {
      "cell_type": "code",
      "metadata": {
        "id": "FsoZXV-VxXln",
        "colab_type": "code",
        "colab": {}
      },
      "source": [
        "# create the ludwig configuration file for BERT-powered classification\n",
        "#https://uber.github.io/ludwig/user_guide/#bert-encoder\n",
        "\n",
        "template=\"\"\"\n",
        "input_features:\n",
        "    -\n",
        "        name: query\n",
        "        type: text\n",
        "        encoder: bert\n",
        "        config_path: uncased_L-12_H-768_A-12/bert_config.json\n",
        "        checkpoint_path: uncased_L-12_H-768_A-12/bert_model.ckpt\n",
        "        preprocessing:\n",
        "          word_tokenizer: bert\n",
        "          word_vocab_file: uncased_L-12_H-768_A-12/vocab.txt\n",
        "          padding_symbol: '[PAD]'\n",
        "          unknown_symbol: '[UNK]'\n",
        "\n",
        "output_features:\n",
        "    -\n",
        "        name: intent\n",
        "        type: category\n",
        "text:\n",
        "        word_sequence_length_limit: 128\n",
        "training:\n",
        "        batch_size: 32\n",
        "        learning_rate: 0.00002\n",
        "        Epoch: 1\n",
        "\n",
        "\"\"\"\n",
        "\n",
        "with open(\"model_definition.yaml\", \"w\") as f:\n",
        "  f.write(template)\n"
      ],
      "execution_count": null,
      "outputs": []
    },
    {
      "cell_type": "code",
      "metadata": {
        "id": "hGLL2TMxxXyH",
        "colab_type": "code",
        "colab": {}
      },
      "source": [
        "%%capture\n",
        "!pip install bert-tensorflow"
      ],
      "execution_count": null,
      "outputs": []
    },
    {
      "cell_type": "code",
      "metadata": {
        "id": "5zm0GAcIzKyN",
        "colab_type": "code",
        "colab": {
          "base_uri": "https://localhost:8080/",
          "height": 1000
        },
        "outputId": "3032f55f-74d3-4c74-d9da-ac38321e7a8d"
      },
      "source": [
        "!ludwig experiment \\\n",
        "  --data_csv ghost-bed-intent.csv\\\n",
        "  --model_definition_file model_definition.yaml"
      ],
      "execution_count": null,
      "outputs": [
        {
          "output_type": "stream",
          "text": [
            "WARNING:tensorflow:\n",
            "The TensorFlow contrib module will not be included in TensorFlow 2.0.\n",
            "For more information, please see:\n",
            "  * https://github.com/tensorflow/community/blob/master/rfcs/20180907-contrib-sunset.md\n",
            "  * https://github.com/tensorflow/addons\n",
            "  * https://github.com/tensorflow/io (for I/O related ops)\n",
            "If you depend on functionality not listed there, please file an issue.\n",
            "\n",
            "███████████████████████\n",
            "█ █ █ █  ▜█ █ █ █ █   █\n",
            "█ █ █ █ █ █ █ █ █ █ ███\n",
            "█ █   █ █ █ █ █ █ █ ▌ █\n",
            "█ █████ █ █ █ █ █ █ █ █\n",
            "█     █  ▟█     █ █   █\n",
            "███████████████████████\n",
            "ludwig v0.2.2.8 - Experiment\n",
            "\n",
            "Experiment name: experiment\n",
            "Model name: run\n",
            "Output path: results/experiment_run_0\n",
            "\n",
            "\n",
            "ludwig_version: '0.2.2.8'\n",
            "command: ('/usr/local/bin/ludwig experiment --data_csv intent.csv '\n",
            " '--model_definition_file model_definition.yaml')\n",
            "random_seed: 42\n",
            "input_data: 'intent.csv'\n",
            "model_definition: {   'combiner': {'type': 'concat'},\n",
            "    'input_features': [   {   'checkpoint_path': 'uncased_L-12_H-768_A-12/bert_model.ckpt',\n",
            "                              'config_path': 'uncased_L-12_H-768_A-12/bert_config.json',\n",
            "                              'encoder': 'bert',\n",
            "                              'level': 'word',\n",
            "                              'name': 'query',\n",
            "                              'preprocessing': {   'padding_symbol': '[PAD]',\n",
            "                                                   'unknown_symbol': '[UNK]',\n",
            "                                                   'word_tokenizer': 'bert',\n",
            "                                                   'word_vocab_file': 'uncased_L-12_H-768_A-12/vocab.txt'},\n",
            "                              'tied_weights': None,\n",
            "                              'type': 'text'}],\n",
            "    'output_features': [   {   'dependencies': [],\n",
            "                               'loss': {   'class_similarities_temperature': 0,\n",
            "                                           'class_weights': 1,\n",
            "                                           'confidence_penalty': 0,\n",
            "                                           'distortion': 1,\n",
            "                                           'labels_smoothing': 0,\n",
            "                                           'negative_samples': 0,\n",
            "                                           'robust_lambda': 0,\n",
            "                                           'sampler': None,\n",
            "                                           'type': 'softmax_cross_entropy',\n",
            "                                           'unique': False,\n",
            "                                           'weight': 1},\n",
            "                               'name': 'intent',\n",
            "                               'reduce_dependencies': 'sum',\n",
            "                               'reduce_input': 'sum',\n",
            "                               'top_k': 3,\n",
            "                               'type': 'category'}],\n",
            "    'preprocessing': {   'audio': {   'audio_feature': {'type': 'raw'},\n",
            "                                      'audio_file_length_limit_in_s': 7.5,\n",
            "                                      'in_memory': True,\n",
            "                                      'missing_value_strategy': 'backfill',\n",
            "                                      'norm': None,\n",
            "                                      'padding_value': 0},\n",
            "                         'bag': {   'fill_value': '<UNK>',\n",
            "                                    'lowercase': False,\n",
            "                                    'missing_value_strategy': 'fill_with_const',\n",
            "                                    'most_common': 10000,\n",
            "                                    'tokenizer': 'space'},\n",
            "                         'binary': {   'fill_value': 0,\n",
            "                                       'missing_value_strategy': 'fill_with_const'},\n",
            "                         'category': {   'fill_value': '<UNK>',\n",
            "                                         'lowercase': False,\n",
            "                                         'missing_value_strategy': 'fill_with_const',\n",
            "                                         'most_common': 10000},\n",
            "                         'date': {   'datetime_format': None,\n",
            "                                     'fill_value': '',\n",
            "                                     'missing_value_strategy': 'fill_with_const'},\n",
            "                         'force_split': False,\n",
            "                         'h3': {   'fill_value': 576495936675512319,\n",
            "                                   'missing_value_strategy': 'fill_with_const'},\n",
            "                         'image': {   'in_memory': True,\n",
            "                                      'missing_value_strategy': 'backfill',\n",
            "                                      'num_processes': 1,\n",
            "                                      'resize_method': 'interpolate',\n",
            "                                      'scaling': 'pixel_normalization'},\n",
            "                         'numerical': {   'fill_value': 0,\n",
            "                                          'missing_value_strategy': 'fill_with_const',\n",
            "                                          'normalization': None},\n",
            "                         'sequence': {   'fill_value': '<UNK>',\n",
            "                                         'lowercase': False,\n",
            "                                         'missing_value_strategy': 'fill_with_const',\n",
            "                                         'most_common': 20000,\n",
            "                                         'padding': 'right',\n",
            "                                         'padding_symbol': '<PAD>',\n",
            "                                         'sequence_length_limit': 256,\n",
            "                                         'tokenizer': 'space',\n",
            "                                         'unknown_symbol': '<UNK>',\n",
            "                                         'vocab_file': None},\n",
            "                         'set': {   'fill_value': '<UNK>',\n",
            "                                    'lowercase': False,\n",
            "                                    'missing_value_strategy': 'fill_with_const',\n",
            "                                    'most_common': 10000,\n",
            "                                    'tokenizer': 'space'},\n",
            "                         'split_probabilities': (0.7, 0.1, 0.2),\n",
            "                         'stratify': None,\n",
            "                         'text': {   'char_most_common': 70,\n",
            "                                     'char_sequence_length_limit': 1024,\n",
            "                                     'char_tokenizer': 'characters',\n",
            "                                     'char_vocab_file': None,\n",
            "                                     'fill_value': '<UNK>',\n",
            "                                     'lowercase': True,\n",
            "                                     'missing_value_strategy': 'fill_with_const',\n",
            "                                     'padding': 'right',\n",
            "                                     'padding_symbol': '<PAD>',\n",
            "                                     'unknown_symbol': '<UNK>',\n",
            "                                     'word_most_common': 20000,\n",
            "                                     'word_sequence_length_limit': 256,\n",
            "                                     'word_tokenizer': 'space_punct',\n",
            "                                     'word_vocab_file': None},\n",
            "                         'timeseries': {   'fill_value': '',\n",
            "                                           'missing_value_strategy': 'fill_with_const',\n",
            "                                           'padding': 'right',\n",
            "                                           'padding_value': 0,\n",
            "                                           'timeseries_length_limit': 256,\n",
            "                                           'tokenizer': 'space'},\n",
            "                         'vector': {   'fill_value': '',\n",
            "                                       'missing_value_strategy': 'fill_with_const'}},\n",
            "    'text': {'word_sequence_length_limit': 128},\n",
            "    'training': {   'batch_size': 32,\n",
            "                    'bucketing_field': None,\n",
            "                    'decay': False,\n",
            "                    'decay_rate': 0.96,\n",
            "                    'decay_steps': 10000,\n",
            "                    'dropout_rate': 0.0,\n",
            "                    'early_stop': 5,\n",
            "                    'epochs': 100,\n",
            "                    'eval_batch_size': 0,\n",
            "                    'gradient_clipping': None,\n",
            "                    'increase_batch_size_on_plateau': 0,\n",
            "                    'increase_batch_size_on_plateau_max': 512,\n",
            "                    'increase_batch_size_on_plateau_patience': 5,\n",
            "                    'increase_batch_size_on_plateau_rate': 2,\n",
            "                    'learning_rate': 2e-05,\n",
            "                    'learning_rate_warmup_epochs': 1,\n",
            "                    'optimizer': {   'beta1': 0.9,\n",
            "                                     'beta2': 0.999,\n",
            "                                     'epsilon': 1e-08,\n",
            "                                     'type': 'adam'},\n",
            "                    'reduce_learning_rate_on_plateau': 0,\n",
            "                    'reduce_learning_rate_on_plateau_patience': 5,\n",
            "                    'reduce_learning_rate_on_plateau_rate': 0.5,\n",
            "                    'regularization_lambda': 0,\n",
            "                    'regularizer': 'l2',\n",
            "                    'staircase': False,\n",
            "                    'validation_field': 'combined',\n",
            "                    'validation_measure': 'loss'}}\n",
            "\n",
            "\n",
            "Found hdf5 and json with the same filename of the csv, using them instead\n",
            "Using full hdf5 and json\n",
            "Loading data from: intent.hdf5\n",
            "Loading metadata from: intent.json\n",
            "Training set: 1249\n",
            "Validation set: 160\n",
            "Test set: 364\n",
            "WARNING:tensorflow:From /usr/local/lib/python3.6/dist-packages/bert/modeling.py:93: The name tf.gfile.GFile is deprecated. Please use tf.io.gfile.GFile instead.\n",
            "\n",
            "WARNING:tensorflow:From /usr/local/lib/python3.6/dist-packages/bert/modeling.py:171: The name tf.variable_scope is deprecated. Please use tf.compat.v1.variable_scope instead.\n",
            "\n",
            "WARNING:tensorflow:From /usr/local/lib/python3.6/dist-packages/bert/modeling.py:409: The name tf.get_variable is deprecated. Please use tf.compat.v1.get_variable instead.\n",
            "\n",
            "WARNING:tensorflow:From /usr/local/lib/python3.6/dist-packages/bert/modeling.py:490: The name tf.assert_less_equal is deprecated. Please use tf.compat.v1.assert_less_equal instead.\n",
            "\n",
            "WARNING:tensorflow:From /usr/local/lib/python3.6/dist-packages/bert/modeling.py:358: calling dropout (from tensorflow.python.ops.nn_ops) with keep_prob is deprecated and will be removed in a future version.\n",
            "Instructions for updating:\n",
            "Please use `rate` instead of `keep_prob`. Rate should be set to `rate = 1 - keep_prob`.\n",
            "WARNING:tensorflow:From /usr/local/lib/python3.6/dist-packages/bert/modeling.py:671: dense (from tensorflow.python.layers.core) is deprecated and will be removed in a future version.\n",
            "Instructions for updating:\n",
            "Use keras.layers.Dense instead.\n",
            "WARNING:tensorflow:From /usr/local/lib/python3.6/dist-packages/tensorflow_core/python/layers/core.py:187: Layer.apply (from tensorflow.python.keras.engine.base_layer) is deprecated and will be removed in a future version.\n",
            "Instructions for updating:\n",
            "Please use `layer.__call__` method instead.\n",
            "WARNING:tensorflow:From /usr/local/lib/python3.6/dist-packages/ludwig/models/modules/sequence_encoders.py:1731: The name tf.trainable_variables is deprecated. Please use tf.compat.v1.trainable_variables instead.\n",
            "\n",
            "WARNING:tensorflow:From /usr/local/lib/python3.6/dist-packages/ludwig/models/modules/sequence_encoders.py:1742: The name tf.train.init_from_checkpoint is deprecated. Please use tf.compat.v1.train.init_from_checkpoint instead.\n",
            "\n",
            "WARNING:tensorflow:From /usr/local/lib/python3.6/dist-packages/ludwig/models/modules/sequence_encoders.py:1749: dropout (from tensorflow.python.layers.core) is deprecated and will be removed in a future version.\n",
            "Instructions for updating:\n",
            "Use keras.layers.dropout instead.\n",
            "WARNING:tensorflow:From /usr/local/lib/python3.6/dist-packages/tensorflow_core/python/ops/math_grad.py:1375: where (from tensorflow.python.ops.array_ops) is deprecated and will be removed in a future version.\n",
            "Instructions for updating:\n",
            "Use tf.where in 2.0, which has the same broadcast rule as np.where\n",
            "\n",
            "╒══════════╕\n",
            "│ TRAINING │\n",
            "╘══════════╛\n",
            "\n",
            "2020-07-29 04:35:03.552109: I tensorflow/core/platform/cpu_feature_guard.cc:142] Your CPU supports instructions that this TensorFlow binary was not compiled to use: AVX2 FMA\n",
            "2020-07-29 04:35:03.555648: I tensorflow/core/platform/profile_utils/cpu_utils.cc:94] CPU Frequency: 2300000000 Hz\n",
            "2020-07-29 04:35:03.555841: I tensorflow/compiler/xla/service/service.cc:168] XLA service 0x2ad7800 initialized for platform Host (this does not guarantee that XLA will be used). Devices:\n",
            "2020-07-29 04:35:03.555870: I tensorflow/compiler/xla/service/service.cc:176]   StreamExecutor device (0): Host, Default Version\n",
            "\n",
            "Epoch   1\n",
            "Training: 100% 40/40 [02:49<00:00,  4.25s/it]\n",
            "Evaluation train: 100% 40/40 [00:51<00:00,  1.30s/it]\n",
            "Evaluation vali : 100% 5/5 [00:06<00:00,  1.31s/it]\n",
            "Evaluation test : 100% 12/12 [00:14<00:00,  1.25s/it]\n",
            "Took 4m 3.3776s\n",
            "╒══════════╤════════╤════════════╤═════════════╕\n",
            "│ intent   │   loss │   accuracy │   hits_at_k │\n",
            "╞══════════╪════════╪════════════╪═════════════╡\n",
            "│ training │ 0.6413 │     0.8215 │      0.9656 │\n",
            "├──────────┼────────┼────────────┼─────────────┤\n",
            "│ vali     │ 0.7107 │     0.7750 │      0.9688 │\n",
            "├──────────┼────────┼────────────┼─────────────┤\n",
            "│ test     │ 0.6515 │     0.8132 │      0.9753 │\n",
            "╘══════════╧════════╧════════════╧═════════════╛\n",
            "Validation loss on combined improved, model saved\n",
            "\n",
            "\n",
            "Epoch   2\n",
            "Training: 100% 40/40 [02:56<00:00,  4.42s/it]\n",
            "Evaluation train: 100% 40/40 [00:53<00:00,  1.33s/it]\n",
            "Evaluation vali : 100% 5/5 [00:06<00:00,  1.36s/it]\n",
            "Evaluation test : 100% 12/12 [00:15<00:00,  1.31s/it]\n",
            "Took 4m 12.4018s\n",
            "╒══════════╤════════╤════════════╤═════════════╕\n",
            "│ intent   │   loss │   accuracy │   hits_at_k │\n",
            "╞══════════╪════════╪════════════╪═════════════╡\n",
            "│ training │ 0.5589 │     0.8215 │      0.9696 │\n",
            "├──────────┼────────┼────────────┼─────────────┤\n",
            "│ vali     │ 0.6854 │     0.7750 │      0.9688 │\n",
            "├──────────┼────────┼────────────┼─────────────┤\n",
            "│ test     │ 0.6055 │     0.8132 │      0.9698 │\n",
            "╘══════════╧════════╧════════════╧═════════════╛\n",
            "Validation loss on combined improved, model saved\n",
            "\n",
            "\n",
            "Epoch   3\n",
            "Training: 100% 40/40 [03:06<00:00,  4.65s/it]\n",
            "Evaluation train: 100% 40/40 [00:54<00:00,  1.35s/it]\n",
            "Evaluation vali : 100% 5/5 [00:06<00:00,  1.38s/it]\n",
            "Evaluation test : 100% 12/12 [00:15<00:00,  1.31s/it]\n",
            "Took 4m 22.7710s\n",
            "╒══════════╤════════╤════════════╤═════════════╕\n",
            "│ intent   │   loss │   accuracy │   hits_at_k │\n",
            "╞══════════╪════════╪════════════╪═════════════╡\n",
            "│ training │ 0.4770 │     0.8343 │      0.9728 │\n",
            "├──────────┼────────┼────────────┼─────────────┤\n",
            "│ vali     │ 0.6429 │     0.7812 │      0.9563 │\n",
            "├──────────┼────────┼────────────┼─────────────┤\n",
            "│ test     │ 0.5428 │     0.8159 │      0.9670 │\n",
            "╘══════════╧════════╧════════════╧═════════════╛\n",
            "Validation loss on combined improved, model saved\n",
            "\n",
            "\n",
            "Epoch   4\n",
            "Training:  15% 6/40 [00:40<03:37,  6.41s/it]^C\n"
          ],
          "name": "stdout"
        }
      ]
    },
    {
      "cell_type": "markdown",
      "metadata": {
        "id": "S_ZKH5EODnYZ",
        "colab_type": "text"
      },
      "source": [
        "## Test predictive model on competing site"
      ]
    },
    {
      "cell_type": "code",
      "metadata": {
        "id": "QG1BL1866W-M",
        "colab_type": "code",
        "colab": {
          "base_uri": "https://localhost:8080/",
          "height": 204
        },
        "outputId": "b2bc885a-4f49-45db-ab52-4802e11fe064"
      },
      "source": [
        "#test_df = get_keywords(\"eachnight.com\")\n",
        "!wget https://raw.githubusercontent.com/hamletbatista/daanyc/master/eachnight.csv"
      ],
      "execution_count": null,
      "outputs": [
        {
          "output_type": "stream",
          "text": [
            "--2020-07-29 15:32:08--  https://raw.githubusercontent.com/hamletbatista/daanyc/master/eachnight.csv\n",
            "Resolving raw.githubusercontent.com (raw.githubusercontent.com)... 151.101.0.133, 151.101.64.133, 151.101.128.133, ...\n",
            "Connecting to raw.githubusercontent.com (raw.githubusercontent.com)|151.101.0.133|:443... connected.\n",
            "HTTP request sent, awaiting response... 200 OK\n",
            "Length: 362277 (354K) [text/plain]\n",
            "Saving to: ‘eachnight.csv.1’\n",
            "\n",
            "eachnight.csv.1     100%[===================>] 353.79K  --.-KB/s    in 0.06s   \n",
            "\n",
            "2020-07-29 15:32:09 (5.69 MB/s) - ‘eachnight.csv.1’ saved [362277/362277]\n",
            "\n"
          ],
          "name": "stdout"
        }
      ]
    },
    {
      "cell_type": "markdown",
      "metadata": {
        "id": "0RgchoS2sQdg",
        "colab_type": "text"
      },
      "source": [
        "Make sure the filename downloaded matches. For example \"eachnight.csv.1\""
      ]
    },
    {
      "cell_type": "code",
      "metadata": {
        "id": "OL9gD5L8M9fD",
        "colab_type": "code",
        "colab": {}
      },
      "source": [
        "test_df = pd.read_csv(\"eachnight.csv\")"
      ],
      "execution_count": null,
      "outputs": []
    },
    {
      "cell_type": "code",
      "metadata": {
        "id": "ZPDg-hop7W26",
        "colab_type": "code",
        "colab": {
          "base_uri": "https://localhost:8080/",
          "height": 419
        },
        "outputId": "af281dae-51aa-4afc-d578-84faf12bcc2c"
      },
      "source": [
        "test_df"
      ],
      "execution_count": null,
      "outputs": [
        {
          "output_type": "execute_result",
          "data": {
            "text/html": [
              "<div>\n",
              "<style scoped>\n",
              "    .dataframe tbody tr th:only-of-type {\n",
              "        vertical-align: middle;\n",
              "    }\n",
              "\n",
              "    .dataframe tbody tr th {\n",
              "        vertical-align: top;\n",
              "    }\n",
              "\n",
              "    .dataframe thead th {\n",
              "        text-align: right;\n",
              "    }\n",
              "</style>\n",
              "<table border=\"1\" class=\"dataframe\">\n",
              "  <thead>\n",
              "    <tr style=\"text-align: right;\">\n",
              "      <th></th>\n",
              "      <th>Unnamed: 0</th>\n",
              "      <th>Keyword</th>\n",
              "    </tr>\n",
              "  </thead>\n",
              "  <tbody>\n",
              "    <tr>\n",
              "      <th>0</th>\n",
              "      <td>0</td>\n",
              "      <td>california king bed</td>\n",
              "    </tr>\n",
              "    <tr>\n",
              "      <th>1</th>\n",
              "      <td>1</td>\n",
              "      <td>california king vs king</td>\n",
              "    </tr>\n",
              "    <tr>\n",
              "      <th>2</th>\n",
              "      <td>2</td>\n",
              "      <td>adjustable beds</td>\n",
              "    </tr>\n",
              "    <tr>\n",
              "      <th>3</th>\n",
              "      <td>3</td>\n",
              "      <td>cal king vs king</td>\n",
              "    </tr>\n",
              "    <tr>\n",
              "      <th>4</th>\n",
              "      <td>4</td>\n",
              "      <td>queen mattress</td>\n",
              "    </tr>\n",
              "    <tr>\n",
              "      <th>...</th>\n",
              "      <td>...</td>\n",
              "      <td>...</td>\n",
              "    </tr>\n",
              "    <tr>\n",
              "      <th>9996</th>\n",
              "      <td>9996</td>\n",
              "      <td>best mattress for healthy sleep</td>\n",
              "    </tr>\n",
              "    <tr>\n",
              "      <th>9997</th>\n",
              "      <td>9997</td>\n",
              "      <td>bed and mattress difference</td>\n",
              "    </tr>\n",
              "    <tr>\n",
              "      <th>9998</th>\n",
              "      <td>9998</td>\n",
              "      <td>best down mattress pad</td>\n",
              "    </tr>\n",
              "    <tr>\n",
              "      <th>9999</th>\n",
              "      <td>9999</td>\n",
              "      <td>mattress off gassing and pregnancy</td>\n",
              "    </tr>\n",
              "    <tr>\n",
              "      <th>10000</th>\n",
              "      <td>10000</td>\n",
              "      <td>NaN</td>\n",
              "    </tr>\n",
              "  </tbody>\n",
              "</table>\n",
              "<p>10001 rows × 2 columns</p>\n",
              "</div>"
            ],
            "text/plain": [
              "       Unnamed: 0                             Keyword\n",
              "0               0                 california king bed\n",
              "1               1             california king vs king\n",
              "2               2                     adjustable beds\n",
              "3               3                    cal king vs king\n",
              "4               4                      queen mattress\n",
              "...           ...                                 ...\n",
              "9996         9996     best mattress for healthy sleep\n",
              "9997         9997         bed and mattress difference\n",
              "9998         9998              best down mattress pad\n",
              "9999         9999  mattress off gassing and pregnancy\n",
              "10000       10000                                 NaN\n",
              "\n",
              "[10001 rows x 2 columns]"
            ]
          },
          "metadata": {
            "tags": []
          },
          "execution_count": 22
        }
      ]
    },
    {
      "cell_type": "code",
      "metadata": {
        "id": "xrXtE7v68Tno",
        "colab_type": "code",
        "colab": {
          "base_uri": "https://localhost:8080/",
          "height": 34
        },
        "outputId": "8e201828-ecfe-4236-eff1-674339a7e94a"
      },
      "source": [
        "!ls results"
      ],
      "execution_count": null,
      "outputs": [
        {
          "output_type": "stream",
          "text": [
            "experiment_run\texperiment_run_0\n"
          ],
          "name": "stdout"
        }
      ]
    },
    {
      "cell_type": "markdown",
      "metadata": {
        "id": "uRqwAgp1saye",
        "colab_type": "text"
      },
      "source": [
        "Herere we also have to use the right directory folder. Typically results/experiment_run/model or results/experiment_run_0/model"
      ]
    },
    {
      "cell_type": "code",
      "metadata": {
        "id": "Xmoz7qZN77ot",
        "colab_type": "code",
        "colab": {
          "base_uri": "https://localhost:8080/",
          "height": 649
        },
        "outputId": "915feb93-834f-40d0-e2b8-c4c3198b992d"
      },
      "source": [
        "from ludwig.api import LudwigModel\n",
        "model = LudwigModel.load(\"results/experiment_run_0/model\")"
      ],
      "execution_count": null,
      "outputs": [
        {
          "output_type": "stream",
          "text": [
            "WARNING:tensorflow:\n",
            "The TensorFlow contrib module will not be included in TensorFlow 2.0.\n",
            "For more information, please see:\n",
            "  * https://github.com/tensorflow/community/blob/master/rfcs/20180907-contrib-sunset.md\n",
            "  * https://github.com/tensorflow/addons\n",
            "  * https://github.com/tensorflow/io (for I/O related ops)\n",
            "If you depend on functionality not listed there, please file an issue.\n",
            "\n",
            "WARNING:tensorflow:From /usr/local/lib/python3.6/dist-packages/bert/modeling.py:93: The name tf.gfile.GFile is deprecated. Please use tf.io.gfile.GFile instead.\n",
            "\n",
            "WARNING:tensorflow:From /usr/local/lib/python3.6/dist-packages/bert/modeling.py:171: The name tf.variable_scope is deprecated. Please use tf.compat.v1.variable_scope instead.\n",
            "\n",
            "WARNING:tensorflow:From /usr/local/lib/python3.6/dist-packages/bert/modeling.py:409: The name tf.get_variable is deprecated. Please use tf.compat.v1.get_variable instead.\n",
            "\n",
            "WARNING:tensorflow:From /usr/local/lib/python3.6/dist-packages/bert/modeling.py:490: The name tf.assert_less_equal is deprecated. Please use tf.compat.v1.assert_less_equal instead.\n",
            "\n",
            "WARNING:tensorflow:From /usr/local/lib/python3.6/dist-packages/bert/modeling.py:358: calling dropout (from tensorflow.python.ops.nn_ops) with keep_prob is deprecated and will be removed in a future version.\n",
            "Instructions for updating:\n",
            "Please use `rate` instead of `keep_prob`. Rate should be set to `rate = 1 - keep_prob`.\n",
            "WARNING:tensorflow:From /usr/local/lib/python3.6/dist-packages/bert/modeling.py:671: dense (from tensorflow.python.layers.core) is deprecated and will be removed in a future version.\n",
            "Instructions for updating:\n",
            "Use keras.layers.Dense instead.\n",
            "WARNING:tensorflow:From /usr/local/lib/python3.6/dist-packages/tensorflow_core/python/layers/core.py:187: Layer.apply (from tensorflow.python.keras.engine.base_layer) is deprecated and will be removed in a future version.\n",
            "Instructions for updating:\n",
            "Please use `layer.__call__` method instead.\n",
            "WARNING:tensorflow:From /usr/local/lib/python3.6/dist-packages/ludwig/models/modules/sequence_encoders.py:1731: The name tf.trainable_variables is deprecated. Please use tf.compat.v1.trainable_variables instead.\n",
            "\n",
            "WARNING:tensorflow:From /usr/local/lib/python3.6/dist-packages/ludwig/models/modules/sequence_encoders.py:1742: The name tf.train.init_from_checkpoint is deprecated. Please use tf.compat.v1.train.init_from_checkpoint instead.\n",
            "\n",
            "WARNING:tensorflow:From /usr/local/lib/python3.6/dist-packages/ludwig/models/modules/sequence_encoders.py:1749: dropout (from tensorflow.python.layers.core) is deprecated and will be removed in a future version.\n",
            "Instructions for updating:\n",
            "Use keras.layers.dropout instead.\n",
            "WARNING:tensorflow:From /usr/local/lib/python3.6/dist-packages/tensorflow_core/python/ops/math_grad.py:1375: where (from tensorflow.python.ops.array_ops) is deprecated and will be removed in a future version.\n",
            "Instructions for updating:\n",
            "Use tf.where in 2.0, which has the same broadcast rule as np.where\n",
            "INFO:tensorflow:Restoring parameters from results/experiment_run_0/model/model_weights\n"
          ],
          "name": "stdout"
        }
      ]
    },
    {
      "cell_type": "code",
      "metadata": {
        "id": "BFkFVc3gspNZ",
        "colab_type": "code",
        "colab": {}
      },
      "source": [
        ""
      ],
      "execution_count": null,
      "outputs": []
    },
    {
      "cell_type": "markdown",
      "metadata": {
        "id": "U8AGTV6isxBE",
        "colab_type": "text"
      },
      "source": [
        "If this part fails complaining about a tensorflow library, please restart the Runtime and run the lines:\n",
        "\n",
        "```\n",
        "%tensorflow_version 1.x \n",
        "\n",
        "import tensorflow as tf; print(tf.__version__)\n",
        "\n",
        "test_df = pd.read_csv(\"eachnight.csv\")\n",
        "\n",
        "```\n",
        "\n",
        "![alt text](https://github.com/hamletbatista/daanyc/raw/master/restart.png)\n",
        "\n",
        "The try the above line again.\n",
        "\n",
        "In the worse case scenario, you can uncomment the ```!wget ``` line below to download the model I trained already."
      ]
    },
    {
      "cell_type": "code",
      "metadata": {
        "id": "nhX0aPC6Tlzi",
        "colab_type": "code",
        "colab": {}
      },
      "source": [
        "#alternative\n",
        "#download from https://www.dropbox.com/s/xvqpe34ocxyhk34/results-20200729T150959Z-001.zip?dl=0\n",
        "#!wget https://www.dropbox.com/s/xvqpe34ocxyhk34/results-20200729T150959Z-001.zip?dl=0 && !unzip results-20200729T150959Z-001.zip?dl=0"
      ],
      "execution_count": null,
      "outputs": []
    },
    {
      "cell_type": "markdown",
      "metadata": {
        "id": "JiPedlSQte5B",
        "colab_type": "text"
      },
      "source": [
        "We are only predicting on 1000 keywords out of 10000. Feel free to update the number in both cells to get more."
      ]
    },
    {
      "cell_type": "code",
      "metadata": {
        "id": "EmtiSXpiDpiK",
        "colab_type": "code",
        "colab": {}
      },
      "source": [
        "\n",
        "predictions = model.predict(test_df.head(1000).rename(columns={'Keyword': 'query'} ))\n",
        "\n"
      ],
      "execution_count": null,
      "outputs": []
    },
    {
      "cell_type": "code",
      "metadata": {
        "id": "VdlYlAYp73gL",
        "colab_type": "code",
        "colab": {
          "base_uri": "https://localhost:8080/",
          "height": 419
        },
        "outputId": "1d95ec61-1479-40af-d27c-b55d88aa6fed"
      },
      "source": [
        "test_df.head(1000).join(predictions)[[\"Keyword\", \"intent_predictions\"]]"
      ],
      "execution_count": null,
      "outputs": [
        {
          "output_type": "execute_result",
          "data": {
            "text/html": [
              "<div>\n",
              "<style scoped>\n",
              "    .dataframe tbody tr th:only-of-type {\n",
              "        vertical-align: middle;\n",
              "    }\n",
              "\n",
              "    .dataframe tbody tr th {\n",
              "        vertical-align: top;\n",
              "    }\n",
              "\n",
              "    .dataframe thead th {\n",
              "        text-align: right;\n",
              "    }\n",
              "</style>\n",
              "<table border=\"1\" class=\"dataframe\">\n",
              "  <thead>\n",
              "    <tr style=\"text-align: right;\">\n",
              "      <th></th>\n",
              "      <th>Keyword</th>\n",
              "      <th>intent_predictions</th>\n",
              "    </tr>\n",
              "  </thead>\n",
              "  <tbody>\n",
              "    <tr>\n",
              "      <th>0</th>\n",
              "      <td>california king bed</td>\n",
              "      <td>Informational</td>\n",
              "    </tr>\n",
              "    <tr>\n",
              "      <th>1</th>\n",
              "      <td>california king vs king</td>\n",
              "      <td>Informational</td>\n",
              "    </tr>\n",
              "    <tr>\n",
              "      <th>2</th>\n",
              "      <td>adjustable beds</td>\n",
              "      <td>Informational</td>\n",
              "    </tr>\n",
              "    <tr>\n",
              "      <th>3</th>\n",
              "      <td>cal king vs king</td>\n",
              "      <td>Informational</td>\n",
              "    </tr>\n",
              "    <tr>\n",
              "      <th>4</th>\n",
              "      <td>queen mattress</td>\n",
              "      <td>Informational</td>\n",
              "    </tr>\n",
              "    <tr>\n",
              "      <th>...</th>\n",
              "      <td>...</td>\n",
              "      <td>...</td>\n",
              "    </tr>\n",
              "    <tr>\n",
              "      <th>995</th>\n",
              "      <td>best mattress 2020</td>\n",
              "      <td>Informational</td>\n",
              "    </tr>\n",
              "    <tr>\n",
              "      <th>996</th>\n",
              "      <td>how do i clean my memory foam mattress</td>\n",
              "      <td>Informational</td>\n",
              "    </tr>\n",
              "    <tr>\n",
              "      <th>997</th>\n",
              "      <td>best gel mattress for side sleepers</td>\n",
              "      <td>Informational</td>\n",
              "    </tr>\n",
              "    <tr>\n",
              "      <th>998</th>\n",
              "      <td>what sort of mattress is best for a child</td>\n",
              "      <td>Informational</td>\n",
              "    </tr>\n",
              "    <tr>\n",
              "      <th>999</th>\n",
              "      <td>full mattress size in inches</td>\n",
              "      <td>Informational</td>\n",
              "    </tr>\n",
              "  </tbody>\n",
              "</table>\n",
              "<p>1000 rows × 2 columns</p>\n",
              "</div>"
            ],
            "text/plain": [
              "                                       Keyword intent_predictions\n",
              "0                          california king bed      Informational\n",
              "1                      california king vs king      Informational\n",
              "2                              adjustable beds      Informational\n",
              "3                             cal king vs king      Informational\n",
              "4                               queen mattress      Informational\n",
              "..                                         ...                ...\n",
              "995                         best mattress 2020      Informational\n",
              "996     how do i clean my memory foam mattress      Informational\n",
              "997        best gel mattress for side sleepers      Informational\n",
              "998  what sort of mattress is best for a child      Informational\n",
              "999               full mattress size in inches      Informational\n",
              "\n",
              "[1000 rows x 2 columns]"
            ]
          },
          "metadata": {
            "tags": []
          },
          "execution_count": 19
        }
      ]
    },
    {
      "cell_type": "markdown",
      "metadata": {
        "id": "E4M0-W9mtuOW",
        "colab_type": "text"
      },
      "source": [
        "This is our final output."
      ]
    },
    {
      "cell_type": "code",
      "metadata": {
        "id": "7g6pVACIA-fy",
        "colab_type": "code",
        "colab": {
          "base_uri": "https://localhost:8080/",
          "height": 173
        },
        "outputId": "fcc63c02-37c5-4ce5-ec6d-a71fb089df4e"
      },
      "source": [
        "test_df.head(1000).join(predictions)[[\"Keyword\", \"intent_predictions\"]].groupby(\"intent_predictions\").count()"
      ],
      "execution_count": null,
      "outputs": [
        {
          "output_type": "execute_result",
          "data": {
            "text/html": [
              "<div>\n",
              "<style scoped>\n",
              "    .dataframe tbody tr th:only-of-type {\n",
              "        vertical-align: middle;\n",
              "    }\n",
              "\n",
              "    .dataframe tbody tr th {\n",
              "        vertical-align: top;\n",
              "    }\n",
              "\n",
              "    .dataframe thead th {\n",
              "        text-align: right;\n",
              "    }\n",
              "</style>\n",
              "<table border=\"1\" class=\"dataframe\">\n",
              "  <thead>\n",
              "    <tr style=\"text-align: right;\">\n",
              "      <th></th>\n",
              "      <th>Keyword</th>\n",
              "    </tr>\n",
              "    <tr>\n",
              "      <th>intent_predictions</th>\n",
              "      <th></th>\n",
              "    </tr>\n",
              "  </thead>\n",
              "  <tbody>\n",
              "    <tr>\n",
              "      <th>Informational</th>\n",
              "      <td>989</td>\n",
              "    </tr>\n",
              "    <tr>\n",
              "      <th>Transactional</th>\n",
              "      <td>9</td>\n",
              "    </tr>\n",
              "    <tr>\n",
              "      <th>Unknown</th>\n",
              "      <td>2</td>\n",
              "    </tr>\n",
              "  </tbody>\n",
              "</table>\n",
              "</div>"
            ],
            "text/plain": [
              "                    Keyword\n",
              "intent_predictions         \n",
              "Informational           989\n",
              "Transactional             9\n",
              "Unknown                   2"
            ]
          },
          "metadata": {
            "tags": []
          },
          "execution_count": 20
        }
      ]
    },
    {
      "cell_type": "code",
      "metadata": {
        "id": "PsRd709zBlIr",
        "colab_type": "code",
        "colab": {}
      },
      "source": [
        "test_df.to_csv(\"competitor_predictions.csv\")"
      ],
      "execution_count": null,
      "outputs": []
    }
  ]
}
