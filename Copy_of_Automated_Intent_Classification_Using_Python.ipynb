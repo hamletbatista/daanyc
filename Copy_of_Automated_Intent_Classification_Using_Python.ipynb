{
  "nbformat": 4,
  "nbformat_minor": 0,
  "metadata": {
    "colab": {
      "name": "Copy of Automated Intent Classification Using Python.ipynb",
      "provenance": [],
      "toc_visible": true,
      "mount_file_id": "1kUl79VpvkfoDE0KeYedLCxsJUQZfkFod",
      "authorship_tag": "ABX9TyO0NXBtMKAhQ405jXt3NbBW",
      "include_colab_link": true
    },
    "kernelspec": {
      "name": "python3",
      "display_name": "Python 3"
    },
    "accelerator": "GPU"
  },
  "cells": [
    {
      "cell_type": "markdown",
      "metadata": {
        "id": "view-in-github",
        "colab_type": "text"
      },
      "source": [
        "<a href=\"https://colab.research.google.com/github/hamletbatista/daanyc/blob/master/Copy_of_Automated_Intent_Classification_Using_Python.ipynb\" target=\"_parent\"><img src=\"https://colab.research.google.com/assets/colab-badge.svg\" alt=\"Open In Colab\"/></a>"
      ]
    },
    {
      "cell_type": "markdown",
      "metadata": {
        "id": "Pjc7bJs0C0-6",
        "colab_type": "text"
      },
      "source": [
        "#Automated Intent Classification Using Python\n",
        "\n",
        "\n",
        "---\n",
        "\n",
        "\n",
        "\n",
        "https://www.searchenginejournal.com/automated-intent-classification-using-deep-learning-google-sheets/353910/\n",
        "\n",
        "1. Build a custom dataset using SEMrush\n",
        "2. Train our BERT-powered predictive model using Uber’s Ludwig.\n",
        "3. Test predictive model on competing site\n"
      ]
    },
    {
      "cell_type": "code",
      "metadata": {
        "id": "r8GRYgr3DeHy",
        "colab_type": "code",
        "colab": {}
      },
      "source": [
        ""
      ],
      "execution_count": null,
      "outputs": []
    },
    {
      "cell_type": "markdown",
      "metadata": {
        "id": "IgX3Iy6KDfAT",
        "colab_type": "text"
      },
      "source": [
        "## Build a custom dataset using SEMrush and ScaleSERP\n",
        "\n"
      ]
    },
    {
      "cell_type": "code",
      "metadata": {
        "id": "bTnh_rE1DrX6",
        "colab_type": "code",
        "cellView": "both",
        "colab": {}
      },
      "source": [
        "domain = \"ghostbed.com\" #@param {type:\"string\"}\n",
        "filename = \"ghostbed.csv\" #@param {type:\"string\"}\n",
        "\n",
        "key = \"INPUT SEMRUSH API\" #https://www.semrush.com/billing-admin/profile/subscription/api-units"
      ],
      "execution_count": 1,
      "outputs": []
    },
    {
      "cell_type": "code",
      "metadata": {
        "id": "Tuf3hqdxD3sO",
        "colab_type": "code",
        "colab": {}
      },
      "source": [
        "import requests\n",
        "from urllib.parse import urlencode, urlparse, urlunparse, quote\n",
        "import pandas as pd\n",
        "\n",
        "#def get_seo_branded_data(brand, domain, database=\"us\", export_columns=\"Ph,Po,Nq,Ur,Tg,Td,Ts\", display_limit=10000, display_filter=\"+|Ph|Co|{brand}\"):\n",
        "#Found that SERP features is -> Fl in https://www.semrush.com/api-analytics/#columns\n",
        "def get_keywords(domain, database=\"us\", export_columns=\"Ph\", display_limit=10000):\n",
        "   \n",
        "  #global key\n",
        "  \n",
        "  url_params={\"type\": \"domain_organic\",\n",
        "             \"key\": key,\n",
        "             \"display_limit\": display_limit,\n",
        "             \"export_columns\": export_columns,\n",
        "             \"domain\": domain,\n",
        "             \"database\": database\n",
        "             }\n",
        "\n",
        "  api_url=\"https://api.semrush.com/\"\n",
        "\n",
        "  qs = urlencode(url_params)\n",
        "\n",
        "  u = urlparse(api_url)\n",
        "\n",
        "  api_request = urlunparse((u.scheme, u.netloc, u.path, u.params, qs, u.fragment))\n",
        "  \n",
        "  #print(api_request)\n",
        "  \n",
        "  r = requests.get(api_request)\n",
        "  \n",
        "  if r.status_code == 200:\n",
        "\n",
        "    results = r.text.split(\"\\r\\n\") #\n",
        "    headers = results[0].split(\";\") # save result headers to list\n",
        "    table = [x.split(\";\") for x in results[1:]] #save columns to list of lists\n",
        "    \n",
        "    df = pd.DataFrame(table, columns=headers).dropna() #remove null types\n",
        "    \n",
        "    return df\n",
        "  \n",
        "  else:\n",
        "    print(\"API call failed with code {code}\".format(code=r.status_code))\n",
        "    \n",
        "    return None\n",
        "  "
      ],
      "execution_count": 2,
      "outputs": []
    },
    {
      "cell_type": "code",
      "metadata": {
        "id": "h7ybm5IBKwq1",
        "colab_type": "code",
        "colab": {
          "base_uri": "https://localhost:8080/",
          "height": 204
        },
        "outputId": "11fcfa41-38d9-43bb-b499-37752cbd80e5"
      },
      "source": [
        "#Already prepared\n",
        "\n",
        "!wget https://raw.githubusercontent.com/hamletbatista/daanyc/master/ghostbed.csv\n"
      ],
      "execution_count": 3,
      "outputs": [
        {
          "output_type": "stream",
          "text": [
            "--2020-07-29 16:47:26--  https://raw.githubusercontent.com/hamletbatista/daanyc/master/ghostbed.csv\n",
            "Resolving raw.githubusercontent.com (raw.githubusercontent.com)... 151.101.0.133, 151.101.64.133, 151.101.128.133, ...\n",
            "Connecting to raw.githubusercontent.com (raw.githubusercontent.com)|151.101.0.133|:443... connected.\n",
            "HTTP request sent, awaiting response... 200 OK\n",
            "Length: 348009 (340K) [text/plain]\n",
            "Saving to: ‘ghostbed.csv’\n",
            "\n",
            "\rghostbed.csv          0%[                    ]       0  --.-KB/s               \rghostbed.csv        100%[===================>] 339.85K  --.-KB/s    in 0.02s   \n",
            "\n",
            "2020-07-29 16:47:27 (15.7 MB/s) - ‘ghostbed.csv’ saved [348009/348009]\n",
            "\n"
          ],
          "name": "stdout"
        }
      ]
    },
    {
      "cell_type": "code",
      "metadata": {
        "id": "n3xnftCpK_2x",
        "colab_type": "code",
        "colab": {}
      },
      "source": [
        "df = pd.read_csv(\"ghostbed.csv\")"
      ],
      "execution_count": 4,
      "outputs": []
    },
    {
      "cell_type": "code",
      "metadata": {
        "id": "yz2wOxBND33M",
        "colab_type": "code",
        "colab": {
          "base_uri": "https://localhost:8080/",
          "height": 419
        },
        "outputId": "f20bbaae-4885-46d3-eeb2-3df844f3d6ae"
      },
      "source": [
        "#df = get_keywords(domain)\n",
        "\n",
        "df.head(500)"
      ],
      "execution_count": 5,
      "outputs": [
        {
          "output_type": "execute_result",
          "data": {
            "text/html": [
              "<div>\n",
              "<style scoped>\n",
              "    .dataframe tbody tr th:only-of-type {\n",
              "        vertical-align: middle;\n",
              "    }\n",
              "\n",
              "    .dataframe tbody tr th {\n",
              "        vertical-align: top;\n",
              "    }\n",
              "\n",
              "    .dataframe thead th {\n",
              "        text-align: right;\n",
              "    }\n",
              "</style>\n",
              "<table border=\"1\" class=\"dataframe\">\n",
              "  <thead>\n",
              "    <tr style=\"text-align: right;\">\n",
              "      <th></th>\n",
              "      <th>Unnamed: 0</th>\n",
              "      <th>Keyword</th>\n",
              "    </tr>\n",
              "  </thead>\n",
              "  <tbody>\n",
              "    <tr>\n",
              "      <th>0</th>\n",
              "      <td>0</td>\n",
              "      <td>ghost bed</td>\n",
              "    </tr>\n",
              "    <tr>\n",
              "      <th>1</th>\n",
              "      <td>1</td>\n",
              "      <td>ghostbed</td>\n",
              "    </tr>\n",
              "    <tr>\n",
              "      <th>2</th>\n",
              "      <td>2</td>\n",
              "      <td>ghost mattress</td>\n",
              "    </tr>\n",
              "    <tr>\n",
              "      <th>3</th>\n",
              "      <td>3</td>\n",
              "      <td>zero gravity bed</td>\n",
              "    </tr>\n",
              "    <tr>\n",
              "      <th>4</th>\n",
              "      <td>4</td>\n",
              "      <td>mattress cover</td>\n",
              "    </tr>\n",
              "    <tr>\n",
              "      <th>...</th>\n",
              "      <td>...</td>\n",
              "      <td>...</td>\n",
              "    </tr>\n",
              "    <tr>\n",
              "      <th>495</th>\n",
              "      <td>495</td>\n",
              "      <td>mattress disinfectant spray</td>\n",
              "    </tr>\n",
              "    <tr>\n",
              "      <th>496</th>\n",
              "      <td>496</td>\n",
              "      <td>how to get blood out of a tempurpedic mattress</td>\n",
              "    </tr>\n",
              "    <tr>\n",
              "      <th>497</th>\n",
              "      <td>497</td>\n",
              "      <td>california king dimensions</td>\n",
              "    </tr>\n",
              "    <tr>\n",
              "      <th>498</th>\n",
              "      <td>498</td>\n",
              "      <td>mattress bundle</td>\n",
              "    </tr>\n",
              "    <tr>\n",
              "      <th>499</th>\n",
              "      <td>499</td>\n",
              "      <td>king mattress dimensions</td>\n",
              "    </tr>\n",
              "  </tbody>\n",
              "</table>\n",
              "<p>500 rows × 2 columns</p>\n",
              "</div>"
            ],
            "text/plain": [
              "     Unnamed: 0                                         Keyword\n",
              "0             0                                       ghost bed\n",
              "1             1                                        ghostbed\n",
              "2             2                                  ghost mattress\n",
              "3             3                                zero gravity bed\n",
              "4             4                                  mattress cover\n",
              "..          ...                                             ...\n",
              "495         495                     mattress disinfectant spray\n",
              "496         496  how to get blood out of a tempurpedic mattress\n",
              "497         497                      california king dimensions\n",
              "498         498                                 mattress bundle\n",
              "499         499                        king mattress dimensions\n",
              "\n",
              "[500 rows x 2 columns]"
            ]
          },
          "metadata": {
            "tags": []
          },
          "execution_count": 5
        }
      ]
    },
    {
      "cell_type": "code",
      "metadata": {
        "id": "sBRGRce2D4Av",
        "colab_type": "code",
        "colab": {}
      },
      "source": [
        "#df"
      ],
      "execution_count": null,
      "outputs": []
    },
    {
      "cell_type": "markdown",
      "metadata": {
        "id": "H8_1eoOOSZMm",
        "colab_type": "text"
      },
      "source": [
        "#ScaleSERP to get live SERP features\n",
        "\n",
        "Skip this section it is for educational purposes only\n",
        "\n"
      ]
    },
    {
      "cell_type": "code",
      "metadata": {
        "id": "w43i982vShwk",
        "colab_type": "code",
        "colab": {}
      },
      "source": [
        "import requests\n",
        "import json\n",
        "\n",
        "queries = set()\n",
        "\n",
        "def scaleSERP(query):\n",
        "\n",
        "  if query in queries:\n",
        "    return\n",
        "  else:\n",
        "    queries.add(query)\n",
        "\n",
        "  # set up the request parameters\n",
        "  params = {\n",
        "    'api_key': 'SCALESERP API',\n",
        "    'q': query\n",
        "  }\n",
        "\n",
        "  # make the http GET request to Scale SERP\n",
        "  api_result = requests.get('https://api.scaleserp.com/search', params)\n",
        "\n",
        "  # save the JSON response from Scale SERP\n",
        "  filename = f\"keyword_{len(queries)}.json\"\n",
        "\n",
        "  with open(filename, \"w\") as f:\n",
        "    json.dump(api_result.json(), f)\n",
        "    #print(f\"saved {query}\")"
      ],
      "execution_count": null,
      "outputs": []
    },
    {
      "cell_type": "code",
      "metadata": {
        "id": "tC3QQ-KJWvCP",
        "colab_type": "code",
        "colab": {
          "base_uri": "https://localhost:8080/",
          "height": 34
        },
        "outputId": "983d87f0-9cdc-4b2f-f1f6-f02239a8de0f"
      },
      "source": [
        "scaleSERP(\"difference between full and queens\")"
      ],
      "execution_count": null,
      "outputs": [
        {
          "output_type": "stream",
          "text": [
            "saved difference between full and queens\n"
          ],
          "name": "stdout"
        }
      ]
    },
    {
      "cell_type": "code",
      "metadata": {
        "id": "KQ8DMOr0TWuQ",
        "colab_type": "code",
        "colab": {
          "base_uri": "https://localhost:8080/",
          "height": 34
        },
        "outputId": "da53e4c6-627a-4427-b9a1-578417892dd1"
      },
      "source": [
        "!ls"
      ],
      "execution_count": null,
      "outputs": [
        {
          "output_type": "stream",
          "text": [
            "drive  sample_data\n"
          ],
          "name": "stdout"
        }
      ]
    },
    {
      "cell_type": "code",
      "metadata": {
        "id": "ZcLnbpDeTXEt",
        "colab_type": "code",
        "colab": {}
      },
      "source": [
        "!cp keyword_1.json .."
      ],
      "execution_count": null,
      "outputs": []
    },
    {
      "cell_type": "code",
      "metadata": {
        "id": "U5CacMt5VXyj",
        "colab_type": "code",
        "colab": {}
      },
      "source": [
        "mkdir ghostbed"
      ],
      "execution_count": null,
      "outputs": []
    },
    {
      "cell_type": "code",
      "metadata": {
        "id": "h2vt4ed-TxV-",
        "colab_type": "code",
        "colab": {
          "base_uri": "https://localhost:8080/",
          "height": 54
        },
        "outputId": "64de0cd0-c7c4-4594-ea85-65eb25598961"
      },
      "source": [
        "!head keyword_1.json"
      ],
      "execution_count": null,
      "outputs": [
        {
          "output_type": "stream",
          "text": [
            "{\"request_info\": {\"success\": true, \"credits_used\": 1, \"credits_remaining\": 4999}, \"search_metadata\": {\"created_at\": \"2020-07-29T02:38:25.344Z\", \"processed_at\": \"2020-07-29T02:38:26.280Z\", \"total_time_taken\": 0.94, \"engine_url\": \"https://www.google.com/search?q=difference+between+full+and+queens\", \"html_url\": \"https://api.scaleserp.com/search?api_key=54D3FCAEADAA4499830E69A8DA5C9481&q=difference+between+full+and+queens&engine=google&output=html\", \"json_url\": \"https://api.scaleserp.com/search?api_key=54D3FCAEADAA4499830E69A8DA5C9481&q=difference+between+full+and+queens&engine=google&output=json\", \"timing\": [\"global_init - 0ms (total 0ms)\", \"auth_apikey - 43ms (total 43ms)\", \"auth_retrieve_plan - 46ms (total 89ms)\", \"auth_retrieve_credit_usage - 86ms (total 175ms)\", \"processing_invoking_worker - 8ms (total 184ms)\", \"processing_execution_complete - 935ms (total 1120ms)\", \"auth_credit_usage_reconcile - 43ms (total 1163ms)\", \"global_end - 0ms (total 1163ms)\"]}, \"search_parameters\": {\"q\": \"difference between full and queens\"}, \"search_information\": {\"original_query_yields_zero_results\": false, \"total_results\": 794000000, \"time_taken_displayed\": 0.54, \"query_displayed\": \"difference between full and queens\", \"detected_location\": \"United Kingdom\"}, \"answer_box\": {\"answers\": [{\"answer\": \"The full-size bed often called a double bed, that is 54\\u00d775\\\" Inches. A queen-size bed is 60\\u00d780\\\" Inches. The full-size bed is smaller and less popular than the Queen sized bed. Generally, a full or double bed is for small space room and one adult or two teenagers can use it but queen size bed is for guest or master room.\", \"source\": {\"link\": \"https://www.aanyalinen.com/blogs/aanya-blog/full-vs-queen-dimensions#:~:text=The%20full%2Dsize%20bed%20often,for%20guest%20or%20master%20room.\", \"displayed_link\": \"www.aanyalinen.com \\u203a blogs \\u203a aanya-blog \\u203a full-vs-qu...\", \"title\": \"Full Vs Queen Dimensions - See Comparison - AanyaLinen\"}, \"images\": [\"data:image/jpeg;base64,/9j/4AAQSkZJRgABAQAAAQABAAD/2wCEAAkGBwgHBgkIBwgKCgkLDRYPDQwMDRsUFRAWIB0iIiAdHx8kKDQsJCYxJx8fLT0tMTU3Ojo6Iys/RD84QzQ5OjcBCgoKDQwNGg8PGjclHyU3Nzc3Nzc3Nzc3Nzc3Nzc3Nzc3Nzc3Nzc3Nzc3Nzc3Nzc3Nzc3Nzc3Nzc3Nzc3Nzc3N//AABEIAKAA7gMBIgACEQEDEQH/xAAbAAACAwEBAQAAAAAAAAAAAAAABgEEBQMHAv/EAFQQAAECBAMDAg4OBwYGAwAAAAECAwAEBREGEiETMUFRkRQVFyI1VWFxdYGUsbPRBxYyNjdCUlRzdJOhwcMjM1NWktLTQ2Ki4fDxJCU0cqSyRGOj/8QAGQEBAAMBAQAAAAAAAAAAAAAAAAEDBAIF/8QAIxEBAQEBAAICAgIDAQAAAAAAAAECEQMhEjEEQRMiQlFxMv/aAAwDAQACEQMRAD8A9xggggCCCCAIIi9oMw5YCYi45YmFiYxlJSj021NsPsGXcbbSFZbvZ1qSFJAN8vWnU23HkMAz3gjBqWKKdS6g7Kz6nWQhlDod2ZWlWcr0625FshNyLRymMX0lidYZW4vYvKKA/s1ZAsKCBrbUEm2bd3YBjgjJpuIqXUphuXk5hTjrrSnkDYrTdAIBNyLcRpvMa0AQQRFxywEwQQQBBBC5i2arkskKw7KMzc30O4UsvO5ATdOo4E6nQkd+AY4IwqJM192jSDs7ISYmlyzanguaUhWcpBVdOz0N76cIu7Wr/MZHy1f9KAvLUEIUpRsALkwsy2NKfNISuXbddQVXKm1oVlb6zrzY6auJ0379N19cu1cgjoGR8tX/AEozJegoQ+250lp7eVebMicWSN3DZ6jrU6btBAdXcVUuXqMzITry2HmXwzdSCUqJQhd7gWAs4nfbjHM4xo6JoNPPqaaU1tEPLbWlKhvtqOSxB430i89h6lvzLsy9JNreeXncUSeuVZIuR3kJHiEVZrDVPDKUS9Ll3rDJlffWkBNiNDZXAkQFynVqn1N5bUk/tFtoStY2ak5Qb23gch04RpDdGHJyE3JOqdlqXJJcWkJUoz7hJA5SW+6Yu7Wr/MZHy1f9KA0ILxn7Wr/MZHy1f9KFyjVDFL9YmG6vIsMU5FQUiWeQ6c7iBm0y5dU6bzl8cA5wQQQBBBBAEEcphxTLKlob2hHDMB95inRKs1WZJM5KpvLrvkWFpUFWJB3chEBFbam3WWhT1JRMbUFK3EFaEnKqxUkEEi9uMZGF5TFjNNUiuVGRXOF5ZUroZSwUk9blIWmwtwtDBUJ2Wp0o7OTzyGJdlOZx1w2CRCyPZGw0tAUiamFJULhSZVwgjuaQG9saxb/rpDyJf9WM53Da3UPJd6VLDxBczyC1XsSR/a6aknxmKnVGw5+3mvJHPVB1RsOft5ryRz1QGq5QJObXt6nLS0zMqRs1uJbKAUjMALEngojfxPLEnDVIN7yLWpKtQSAcwV/7AHvxk9UbDn7ea8kc9UHVGw5+3mvJHPVAW5PD8zIutuyjtLbcbQW0KEi51qTbQfpt2g5hGgGK18/p/kK/6sYnVGw5+3mvJHPVB1RsOft5ryRz1QG3saz8/p/kK/6sL9Ok8WIxBNOVKelXaUZtKmGUMkOWyi5BzHKm99Dm8UdeqNhz9vNeSOeqLtFxfQ61O9ByM5/xWXOGXUKbWocSAoawDBFaanpaTSFTLobSeJiwRcRg45p01VMLz0nJz6pJTiDneSjMrINSkai191+S8Bsy0yzNNlbCwtINrjljlUp6TpssqaqEy1LMI9066oJA8cfNHl5iVpktLzkz0U+22EqfyZM9uJFzrCxi2VZqOOcLSM6gPSuSamNirVKnEBvKSONsxgNAY9wjb3x0zyhMHt+wj+8dM8oTGoKLSrdjpT7FPqieklK7Wyn2KfVAZXt+wj+8dM8oTB7fsI/vHTPKExq9JKV2tlPsU+qDpJSu1sp9in1QGV7fsI/vHTPKEwe37CP7x0zyhMavSWldrZT7FPqiOktK7Wyn2KfVAZft+wj+8dM8oTB7fsI/vHTPKExqdJaV2tlPsU+qDpLSu1sp9in1QGX7fsI/vHTPKExfpFfo9aUsUipSs5s/dhhwKy80duktK7Wyn2KfVCpiOnSVLxjhScp0s3LPvzTks6plOTaNltSsqrbxcA/7wD1BECJgCCCCA4T0qzPSb0pMhRZeQULCVqQSDvsUkEeIxj4IotPomH2GKWwWGnRtVI2i1jMRqRmJtu4RvmM+gdhpP6IQC97JraHaTSmXUhbTtakkOIULhaS6LgjiIb8ieQc0Kfsk9j6N4ckfSiGxSgnUkAcTfdAGVPIOaDKnkHNHB6dlmNHphpB5FLAPNHPpnKnVK3FDlQ0tQ+4RHYcW8qeQc0GVPIOaKzE+y88GkFdyCQVNqSD3iRvi0TaHRGVPIOaDKnkHNGdKqn5hkPCYaSlZJALe4X04x2y1BP8Aay6+4UEfjEfIW8qeQc0JuOkIRXsHupSkOCq5M4GuUtLuL8kMbs5Ny6cz0qhSQRdTbt+Nt1rwvY77MYQ8L/lORMvQ5RTrPYmc+hV5ouRTrPYqb+hV5okWke5HeEKde+EfC31Sd/KhsR7kd4Qp174R8LfVJ38qAbRuETFCZcmOjG2mXAhJbKtU3ub8eeJMvMWKnZ9wADXKlKR98c/JPF2CFw1Wmh3Z9M5tXKr4vPb741USy1NhTE8+UkaElKh5oibl+j41eJ0iEkKAIIIPJGQrOZCdYW4pag9sk594uE289/HFrpfJtoJKS2gXJs4pKRy6A2EPkLwiYyGFU15zZys8c53BuZJv4iYtCXmUfqpxZ7jqQrzWifl36OLsJ+NffHg7wmv0K4YRMTTcyyy+lohy4BQTc23nuD1wvY198eDvCa/QriZeoN8TERMSCCCCADGfQOw0n9EI0DGfQOw0n9EIDB9knsfRvDkj6URv1ZCXGmQqx/Tt6EXBBUAQR3iYwPZJ7H0bw5I+lEMNWITIuOXtsilzv5VBX4RGvoc5uYkqPK7VSEtpvZKW0i6jGfKYqlJh/ZuNOMgmwWogiKeMDt25d5hYcabUpK8pvlJtv5oWUoU4oNoSVLUbBI4mMfk82pvki7OJZ16NNdbNybo+WUeIj/KLLpKW1qG8AkRmhTpMnL7N1SmVJ2iyg5TZPLGi+2HWltkkBaSm43i4jVm9iq+mPPz5plAlnGQCtTaG2yd2qd/3QrtVqpNPB3opajvKVag+KGWryKFyHQj882lWimQtISEkacOFoXmaHOOOJQstIQT+tLibeK2+Mnm/k+U+K7Hx57NrswJuktPgZdrkIHIbiMHHnZjCHhf8pyNxuVmEJlpdttoSzKkkL2hJUByiw88YePOzGEPC/wCU5GvHf2ppyinWexU39CrzRcinWexU39CrzR2haR7kd4Qp134R8LfVJ38qGxHuR3hClXvhHwt9VnvyoBiPZQ/QafxRQxctTdHWEblrCV96Lz6w1UGVFQALSgok7hobmOVVnachCpaeeRZwao3m3iirf/mx1Pt59uN4dMGrWulLC75UOqSi/JYHz3jAMhSi5cVezXydic3Pf8IaKTO0xDKZWReRZI0TuJ5Yyfj4uddtXeS9nqJdH/MVI4KfbX/gPqjOxnMOol2GUXCHCSvu23RaLpdnXHWEqeQHkkFrrtMmg7mua/ij7qyZOfkSidcMsUm6VOCxSfxjRufLFkqqfZFSpTZCkaKTqm3CH+i1Doxkod0ebSkq7oI3wrS1PpvRAExVWlNA/FSQVeqNhFOc6P6YUWcYKFaKbXcjvacIo8E1irPJytp//r5UDkWfFYD8RC3jX3x4O8Jr9CuGCWzuTxU6UlbDQQSkWGZRurxdamF/Gvvjwd4TX6Fcbcqab4mIiY6QIIg6CFqpYwlqWZ/o+XU2iVWhtKg6k7VagSEjkOUZteEAymKNCFqPJgix2Q0jPqWKpKm1FcpNNv5Uy7bwebTnBzqWALDX+zMcX8YU5l2Wsl0yjqlJ6ICCECxtfvXBBPCAreyT2Po3hyR9KIa1pCgQoApOhB5I88xziOQn5fD7DG3Cn6zJraLjKkBSQ4k3F9+hB0j0F1RS2pe8JBNvFEULVdrYk3zJybDCkp0d2ibjXhYERjN1h1lRXLSslLr+W2zr95ispW2YmJlQu6t4Zv7oNzfxmwiuNQDvjzPJ5d29as4nDvhmrrqDa2pnL0QjUkC2ZPejbJsCTwhFo7xarMm+P/kpssd3VJ5ym/jhwqiiimTawbFLKyCP+0xt8O7rHao3nl9ESqTC6hNPTZI2ecIbv8n/AEL+OKYBUQBvvpHZzSSlkjiVE89vwjmyztXMoOUAElR4JG8mPOvu9aJJw24QnVuNOyTxOdg3TfflPDxHzxRx52Ywh4X/ACnI6YXacmKk/PoBQyAUWPxjFP2TZpMi/hubWUhMvUVukrNhZLDh1PJpHpeC24nWbfqnm45YrVNCnqfMNNi61tqSkcptCnTMaPTr8q0uTbbdW+lt5kudeApVgU8Dl0KtdxjqvHMtKzb0vOS6iG3nG9owoKACcwFxvuSi1h+EXOTej3I7whSr3wj4W+qT35UcD7IEuxNzKJiXBZSlBZW08hQJKb2Ub2HLfcBviiquy9Z9kugoYbWgy0vOJUSQQbhrcR3iPFAOdZUyzJLmnmkOFkXQFC+vCPPnFLcUXXCpSnFarJ1Jh0xgVCjm3udonNClt2FSzLLyHE5CTmSRrfuGMH5V/txf4vU6qx9oUtshxokFJBzDgeEfTrWVsLaUFtE2vaxSe7Fqnth6TqQI9ywFeMKEZZn3Ftvo60eaTN01qZsEkg5wB8YGx80IM0+7NPuPuqUoqUTcqvbjaGLDr5Th+oi/uMxHcun/ACjHSy2KCp0jruiQB/DGny27xn/ivEmbWeO5ujRorplp9kupvLvjItJ3KBNvOIqIaQEBxx3IkmyQBcm33Rb/AOJqKZdiRlFES4IC+O/irdFHjll7HeufR7lZRqVzlpKgVWvdROg3DXhqYWMa++PB3hNfoVw2tBQaQF+6yi/fhSxr748HeE1+hXHrT6ZDfExETEgiq7T5R1t9tyXaUiYN3klAIcNrXPLuHNFqCAoTNHp006HpmSZddCQjOtAJyi9h/iPOYqydGokwyiaZp0uA7+kuWxfXj90bMUKF2Hk/okwClj2jU2Rk6I5JyMuwtNbkglTbYTYF0aaQ9WhT9knsfRvDkj6URuYgfmJalvOyt9oLdcBcpF9THOrydqZO0u4ikBIznRUukKZduHWxuF99xyH7jGHMt7J9SR7nQjl5deSOst0RNTiAmYs86cudxW/vxuT2G0S1PemVvrcmEJzG2gMebc/y9uY0S/H1WZTzlnaUe7b/APRfrhzrdxSJywvdlYt4oUsPNNTs9LNOqWlUuVLTl3HW9j44eHCEtqUuwSASe9Gn8edxVfkv9nm0xpLS9uRRHd66Jb2Zl1NOrLRKwSSg9cngOe5/2ixSM87W5VSySVOBZ4WA6633Qx4sck25QB5pLky4LNW0I7t+QRnz4+5u+rbrnpNBq8gtlqUbSWFJFkJX8bvHljNx52Ywh4X/ACnIoYepzk9PoUkkNMkKWvzCL+POzGEPC/5TkbPx9XWPanySS+jclhtGTI2hOQWTZI60dzkjlMpal2HX9kklIKzZIBNtYsxVqnY6Z+iV5ovVvtDDKkCzKACkfFG7k++FWttoR7I+GMiEi8rO3sO41Dc1+rT/ANohUr3wj4W+qzv5UA1lAUkpUAUneCNIUcUIl5KYZSxLMAKBK0hNiebdDctYbQVKICUi5J4CPOKpOmoTzszwKrIF9yeH+u7GX8rUmeftZ4p7fK1sobdSwXFFwAWVplF7+Pd3OMW6MbS9T5ehT5xF+o0duSw6hxTY6ICkqWriL6W+8RRw62ZiZmZYKCVPy6kgnl09UZfjc7kW9ly70U2oVWP91P4xQeWRS5VvgXHF+YQxyFDmZekTsu6tnbTFsuVRKRbdc2hfrEo5IplpR5SStCFKJTu1UfVHe86zmW/6Rmy1VamC2hKMjSwk3TtE3y/68cMeEqktb7ko+q5UM7d9LcoHi8xi7QKTLGkNl9hC1PpzKKhfQ7hzQszjLlHq5yXGyWFtnlEJjXi5pNs32PROEKGNffHg7wmv0K4aJOZTNyrb7Z61abiFfGvvjwd4TX6FcehL2dZjfExETEgggggCKFC7Dyn0Qi/FChdh5T6IQGB7JPY+jeHJH0ohsUlKgQoAgixBhT9knsfRvDkj6UQ2wCHX6QqnTW0YSTLue5KQesPJDPTNvOUJImkkOrbUkhW87wCY1SARYi8FrCKc+GZ1bP27u+x53QnOh61LqJ0K8hPf088Oldd2NHm1cS2Ujvq0/GEmotqlK08lAOZL+ZA5dbiHatSTlQpzku0oJWbFJPKIp8PZnWY73y2UsYPZ2lVLvBttR8Z0H4xs1+hOVOYaeZeSgpTlUFg7uUR94bpDtOS8uZy7Vywsk3sB/vG3Hfi8U/j+Oo51r+3Yq02RakJVLDI0GqjxJ5YWMedmMIeF/wApyHKE3HnZnCHhf8pyNEkk5Ff2coq1TsdM/RK80Woq1TsdM/RK80SO7X6tPeHmhUr3wj4W+qz35UNbX6tPeHmhUr3wj4W+qzv5UBuV5px6kzKGb58m4byN5HNCNTXGm6hLrfGZtLqSrvX3+LfHpJFxujzyuSXQFRdaAs2o50d48PFGP8qcs2u8V/xN+JUbSiTQAvZIVzEH8IVcMLyVuXv8YKT90b8jNdMMMzCVG7iGVNq5oWKKsIq0ov8A+wffHPkvd50nE5mx6NbSEfF6r1ojkaSPPDwN0IOKF/8AO5n+6Ej/AAg/jFv5V/o48X2aRPsUuiyq31a7FASgb1G0KE0/NVqoJ6zM4vrUIT8URu12iTk27LKlrLbS2lBSVWy24xq0aks0xk2695Xu3Lfd3o51jfk1M31ImamfbpRpI0+Qbl1LzqTcqPC5N4X8a++PB3hNfoVw38IUMa++PB3hNfoVxqk5ORUb4mIiYkEEEEBEUaF2HlPohFmcdcYlXXWWts4hJUlvNbOeS8YWAao9V8My00/IOSQ1bQ26oFSgk2zW4XIPn4wFT2Sex9G8OSPpRDdCd7J7iGKPTJl5QQwxWJN11w7kIDgJUeQCG1LzakhSXEqSRcEKFiIDpEcI+doj5aeeDaI+WnngPkstqcDim0FwblFIvHQb4+doj5aeeDaI+WnnhJwfcEfG0R8tPPBtEfLTzwH3CbjzszhDwv8AlOQ37RHy088JuOHmncQ4Pl23EKf6Zl3ZhQKsgaXdVuQXGvdgHWKtU7HTP0SvNFqKtU7HTP0SvNAd2v1ae8PNCpXvhHwt9Unfyoa2j1ie8PNCpXvhHwt9UnfyoBtG4RhYqpq52WQ6wjM60fcjepJjdG4QWjjeJvPKnN5elbC8hNMNTi5ltbSHG8qUqFiTrraFqVOznGTxS4POI9OtpY6wpLwpMKn1HbN9DFea/wAa172tGbyeGyZmf0tzv76bARa8ee1w7WuzQPF0I+4CPQgmwA4AWio5TJRybTNrYSXx8cxb5fHdyccY18auCJiALRMXuBCfjX3x4O8Jr9CuHCE/Gvvjwd4TX6FcA3xMREwBBBBAc3mUPt7N1IUk7wY+JaUYlgQw2lsG1wnuR3ggOM3KsTku5LzTSHmHE5VtrF0qHIRCx1NMG9oZTmMNsReAU+prg3tBKcxg6muDe0EpzGGorCRckAW1vwiA4CVAFJtvsd0ArdTXBvaCU5jB1NcG9oJTmMNeYgAmwHLeBJvAKnU1wb2glOYwdTXBvaCU5jDYTbhEFR5IBU6muDe0EpzGNKiYSoNBfU/SKXLSzyhYuIR11uS8bBWACSQANb8gj6BBAI3GAmFvHgqb2HZhmhPrZn1j9GQwpwKG4pNgbXB0PKBDJEZYCnR9oKeyl51brqUAOOLbKMyuJsQDCvjeY6T4lw/X5ll1dOlUzDEytltSy1tAjKopSCcvWEeMQ6xzeKQ2ouZQgDrirdaAVuqThG3Zb/xnf5YOqThHtsfJnf5Y1pCoUOovrYkXpKYdbAK0N5SpI5bckX+hpf5sz/AIBa6pOEe2x8md/lg6pOEe2x8md/lhl6GlvmzP8AgMtLfN2f4BALXVJwj22Pkzv8sHVJwj22Pkzv8ALGzNTlHk5pmVmnJNmYesG21hIUq5sNI7SnQE4ztpZthxvOpGZKBvSSkjxEEQGB1ScI9tj5M7/LB1ScI9tj5M7/LDL0NL/Nmf4BGcapQUz/QKpiRE1nCNibBWY6gW54DL6pOEe23/AIzv8sZUzXJPF+LcPNUDbTLNOfXNTUyWFobbGzKQm6gLqJUN3IYeuhZb5u19mIr0qekJ5DxpjjTiGXiy4WxYBYAuPFcQGhBBBAEEEEAQQQQEGPNKjLOTuOq4mScbSuTZl5kOpmCVsupClAbPcpKsqQRcaR6ZHIS7CXVPBlsOqFlLCBmI78B5TN4uRW6VVpedn5JbbVOlJlGSyLPKUc1lX1t1vPDVg12VTVcVGXdbWhE42ohtQVl/QI/G/jvDR0vkshR0HL5SLFOyTYi97buXWOjUtLsqUplhptSrZihAF7csB5A3UG5KWnFKnZaZK0sPCcU8VImWlvgjaIKhs3hqN+7hpGlN45qcnUK6lipU6aakdqllBatdea4GhuUtoN1njYjgTHpIp8kELbEnLhDhzLTsk2UeUi2sCZCSS5tUykuHNevDSb679bQC9Q6k7UqDUOm03IzIazoU/Lrsgoy31O64B1t90ec4Wr1QpUg3MSq2nC/SpTO9t1ONMrU6Uqcfv7ldjpbTQ3j2tuXYaZ2LTLaGrW2aUAJ5o+UScq20ppuWZS2sWUhLYAPfEB5HizFM5PYbqVOqFRp7Rbpq3i+wjMJxZcUhKW7kWsEjMRfVWlgNfWqe4hySl1tLC0KbSQoG4ItwiVSMopKEqlWCltJSgFsWSDwHII7pSlCQlKQlKRYADQQEwQQQBGFjaWmZvDU81JJC3tmF7Mm21CTco8YBHjjdggPMqlPymJqhLJpTb1OqUnKupcbeHQ711tEIaTuJGYA3GnWRQb9szzDyWpWrsNdC09LqibrUlJs+UAq0Vu00JCTyx6m5ISbk43OOSrCppoFLb6mwVoB3gK3iLFoDy4yle6Kkkrer3QyEAyRSlGcq2hJDutkgpsBe/W34xaoEtVWMRSc0703Uyuem23EPKUUNtEAtixO4m5zb+G4CPRyAd4iYBBxFKza8XJmJGRmNsTLtuBaM8vNMBWYqJ+ItslRBB10hdm2Ku5Sqe0qWryVtPTSn3GVKCy1titCBrqtYyjMb2F+MewRFhe9tYBDwyzWPbVMP1FdUzKW/nbcSnoYNE3asb6kCw0F/dXjKxBSqrPYun3ZCXmrmZk1sodZT0M9sycxWq2YZQbixFzwMeo2HJBYckB5awxiFpEytxdbWtakJqKAAAAHNdib3JKSdU/F/vQx+xxLvykpVmpiRmZMOVN51puYUVHIq1jmJJO7lhwsOSCAIIIID/9k\"]}], \"block_position\": 1}, \"related_searches\": [{\"query\": \"difference between queen and king\", \"link\": \"https://www.google.com/search?safe=strict&q=difference+between+queen+and+king&sa=X&ved=2ahUKEwiq0uWZt_HqAhXPzYUKHf8MDwMQ1QIoAHoECA4QAQ\"}, {\"query\": \"difference between full and twin\", \"link\": \"https://www.google.com/search?safe=strict&q=difference+between+full+and+twin&sa=X&ved=2ahUKEwiq0uWZt_HqAhXPzYUKHf8MDwMQ1QIoAXoECA4QAg\"}, {\"query\": \"difference between full and queen sheets\", \"link\": \"https://www.google.com/search?safe=strict&q=difference+between+full+and+queen+sheets&sa=X&ved=2ahUKEwiq0uWZt_HqAhXPzYUKHf8MDwMQ1QIoAnoECA4QAw\"}, {\"query\": \"full vs queen vs king\", \"link\": \"https://www.google.com/search?safe=strict&q=full+vs+queen+vs+king&sa=X&ved=2ahUKEwiq0uWZt_HqAhXPzYUKHf8MDwMQ1QIoA3oECA4QBA\"}, {\"query\": \"twin vs full vs queen\", \"link\": \"https://www.google.com/search?safe=strict&q=twin+vs+full+vs+queen&sa=X&ved=2ahUKEwiq0uWZt_HqAhXPzYUKHf8MDwMQ1QIoBHoECA4QBQ\"}, {\"query\": \"should i get a full or queen bed\", \"link\": \"https://www.google.com/search?safe=strict&q=should+i+get+a+full+or+queen+bed&sa=X&ved=2ahUKEwiq0uWZt_HqAhXPzYUKHf8MDwMQ1QIoBXoECA4QBg\"}, {\"query\": \"what size bed should a single man have\", \"link\": \"https://www.google.com/search?safe=strict&q=what+size+bed+should+a+single+man+have&sa=X&ved=2ahUKEwiq0uWZt_HqAhXPzYUKHf8MDwMQ1QIoBnoECA4QBw\"}, {\"query\": \"full vs king\", \"link\": \"https://www.google.com/search?safe=strict&q=full+vs+king&sa=X&ved=2ahUKEwiq0uWZt_HqAhXPzYUKHf8MDwMQ1QIoB3oECA4QCA\"}], \"related_questions\": [{\"question\": \"Is a full and a queen the same?\", \"answer\": \"Dimensions. Starting off with the dimensions, as you can see from the comparison chart, the full-sized bed measures 54 x 75 inches while the queen-sized one measures 60 x 80 inches. The difference is quite significant, yet not enough for the queen bed to freely accommodate a couple comfortably.\", \"source\": {\"link\": \"https://www.sleepadvisor.org/full-vs-queen/\", \"displayed_link\": \"www.sleepadvisor.org \\u203a full-vs-queenwww.sleepadvisor.org \\u203a full-vs-queen\", \"title\": \"Full vs. Queen Size Mattress - What Is The Difference Between Them?\"}, \"search\": {\"link\": \"https://www.google.com/search?safe=strict&q=Is+a+full+and+a+queen+the+same%3F&sa=X&ved=2ahUKEwiq0uWZt_HqAhXPzYUKHf8MDwMQzmd6BAgNEAs\", \"title\": \"Is a full and a queen the same?\"}, \"block_position\": 2}, {\"question\": \"Can full sheets fit a queen bed?\", \"answer\": \"Seeing as a queen-sized bed is larger than a full-sized bed, you will need the extra room if you are fitting full sheets on it. With a little bit of extra space, the full-sized sheets might just fit properly on the bed!\", \"source\": {\"link\": \"https://www.thesleepjudge.com/can-full-sheets-fit-a-queen-bed/\", \"displayed_link\": \"www.thesleepjudge.com \\u203a can-full-sheets-fit-a-queen-bedwww.thesleepjudge.com \\u203a can-full-sheets-fit-a-queen-bed\", \"title\": \"Can Full Sheets Fit a Queen Bed? - The Sleep Judge\"}, \"search\": {\"link\": \"https://www.google.com/search?safe=strict&q=Can+full+sheets+fit+a+queen+bed%3F&sa=X&ved=2ahUKEwiq0uWZt_HqAhXPzYUKHf8MDwMQzmd6BAgNEBY\", \"title\": \"Can full sheets fit a queen bed?\"}, \"block_position\": 2}, {\"question\": \"Can a full bed fit 2?\", \"answer\": \"A Full size bed is large enough for two if it is a parent reading their child a bedtime story, or a couple sleeping so close together they will be touching. For two adults, a Full only gives you 27 inches of space each, which is likely not enough for most people to rest comfortably throughout the night.\", \"source\": {\"link\": \"https://www.nectarsleep.com/p/mattress-size-dimensions-guide/\", \"displayed_link\": \"www.nectarsleep.com \\u203a mattress-size-dimensions-guidewww.nectarsleep.com \\u203a mattress-size-dimensions-guide\", \"title\": \"Mattress/Bed Sizes Chart & Dimension Guide - NectarSleep - Nectar ...\"}, \"search\": {\"link\": \"https://www.google.com/search?safe=strict&q=Can+a+full+bed+fit+2%3F&sa=X&ved=2ahUKEwiq0uWZt_HqAhXPzYUKHf8MDwMQzmd6BAgNECA\", \"title\": \"Can a full bed fit 2?\"}, \"block_position\": 2}, {\"question\": \"What is the size difference between a full and queen mattress?\", \"answer\": \"They are substantially smaller than queens, so a full will also fit in better in a smaller space, such as a studio apartment. The queen mattress dimensions (60 inches wide, 80 inches long) are best suited for couples, parents sharing with children, and taller people.\", \"source\": {\"link\": \"https://www.sleepfoundation.org/mattress-sizes/full-vs-queen\", \"displayed_link\": \"www.sleepfoundation.org \\u203a mattress-sizes \\u203a full-vs-queenwww.sleepfoundation.org \\u203a mattress-sizes \\u203a full-vs-queen\", \"title\": \"Full vs. Queen | Sleep Foundation\"}, \"search\": {\"link\": \"https://www.google.com/search?safe=strict&q=What+is+the+size+difference+between+a+full+and+queen+mattress%3F&sa=X&ved=2ahUKEwiq0uWZt_HqAhXPzYUKHf8MDwMQzmd6BAgNECo\", \"title\": \"What is the size difference between a full and queen mattress?\"}, \"block_position\": 2}], \"pagination\": {\"current\": 1, \"next\": \"https://www.google.com/search?q=difference+between+full+and+queens&safe=strict&ei=IeEgX-q9Hs-blwT_mbwY&start=10&sa=N&ved=2ahUKEwiq0uWZt_HqAhXPzYUKHf8MDwMQ8NMDegQIEBBF\", \"other_pages\": {\"2\": \"https://www.google.com/search?q=difference+between+full+and+queens&safe=strict&ei=IeEgX-q9Hs-blwT_mbwY&start=10&sa=N&ved=2ahUKEwiq0uWZt_HqAhXPzYUKHf8MDwMQ8tMDegQIEBAz\", \"3\": \"https://www.google.com/search?q=difference+between+full+and+queens&safe=strict&ei=IeEgX-q9Hs-blwT_mbwY&start=20&sa=N&ved=2ahUKEwiq0uWZt_HqAhXPzYUKHf8MDwMQ8tMDegQIEBA1\", \"4\": \"https://www.google.com/search?q=difference+between+full+and+queens&safe=strict&ei=IeEgX-q9Hs-blwT_mbwY&start=30&sa=N&ved=2ahUKEwiq0uWZt_HqAhXPzYUKHf8MDwMQ8tMDegQIEBA3\", \"5\": \"https://www.google.com/search?q=difference+between+full+and+queens&safe=strict&ei=IeEgX-q9Hs-blwT_mbwY&start=40&sa=N&ved=2ahUKEwiq0uWZt_HqAhXPzYUKHf8MDwMQ8tMDegQIEBA5\", \"6\": \"https://www.google.com/search?q=difference+between+full+and+queens&safe=strict&ei=IeEgX-q9Hs-blwT_mbwY&start=50&sa=N&ved=2ahUKEwiq0uWZt_HqAhXPzYUKHf8MDwMQ8tMDegQIEBA7\", \"7\": \"https://www.google.com/search?q=difference+between+full+and+queens&safe=strict&ei=IeEgX-q9Hs-blwT_mbwY&start=60&sa=N&ved=2ahUKEwiq0uWZt_HqAhXPzYUKHf8MDwMQ8tMDegQIEBA9\", \"8\": \"https://www.google.com/search?q=difference+between+full+and+queens&safe=strict&ei=IeEgX-q9Hs-blwT_mbwY&start=70&sa=N&ved=2ahUKEwiq0uWZt_HqAhXPzYUKHf8MDwMQ8tMDegQIEBA_\", \"9\": \"https://www.google.com/search?q=difference+between+full+and+queens&safe=strict&ei=IeEgX-q9Hs-blwT_mbwY&start=80&sa=N&ved=2ahUKEwiq0uWZt_HqAhXPzYUKHf8MDwMQ8tMDegQIEBBB\", \"10\": \"https://www.google.com/search?q=difference+between+full+and+queens&safe=strict&ei=IeEgX-q9Hs-blwT_mbwY&start=90&sa=N&ved=2ahUKEwiq0uWZt_HqAhXPzYUKHf8MDwMQ8tMDegQIEBBD\"}, \"api_pagination\": {\"next\": \"https://api.scaleserp.com/search?api_key=54D3FCAEADAA4499830E69A8DA5C9481&q=difference%20between%20full%20and%20queens&page=2\", \"other_pages\": {\"2\": \"https://api.scaleserp.com/search?api_key=54D3FCAEADAA4499830E69A8DA5C9481&q=difference%20between%20full%20and%20queens&page=2\", \"3\": \"https://api.scaleserp.com/search?api_key=54D3FCAEADAA4499830E69A8DA5C9481&q=difference%20between%20full%20and%20queens&page=3\", \"4\": \"https://api.scaleserp.com/search?api_key=54D3FCAEADAA4499830E69A8DA5C9481&q=difference%20between%20full%20and%20queens&page=4\", \"5\": \"https://api.scaleserp.com/search?api_key=54D3FCAEADAA4499830E69A8DA5C9481&q=difference%20between%20full%20and%20queens&page=5\", \"6\": \"https://api.scaleserp.com/search?api_key=54D3FCAEADAA4499830E69A8DA5C9481&q=difference%20between%20full%20and%20queens&page=6\", \"7\": \"https://api.scaleserp.com/search?api_key=54D3FCAEADAA4499830E69A8DA5C9481&q=difference%20between%20full%20and%20queens&page=7\", \"8\": \"https://api.scaleserp.com/search?api_key=54D3FCAEADAA4499830E69A8DA5C9481&q=difference%20between%20full%20and%20queens&page=8\", \"9\": \"https://api.scaleserp.com/search?api_key=54D3FCAEADAA4499830E69A8DA5C9481&q=difference%20between%20full%20and%20queens&page=9\", \"10\": \"https://api.scaleserp.com/search?api_key=54D3FCAEADAA4499830E69A8DA5C9481&q=difference%20between%20full%20and%20queens&page=10\"}}}, \"organic_results\": [{\"position\": 1, \"title\": \"Full vs. Queen Size Mattress - What Is The Difference Between ...\", \"link\": \"https://www.sleepadvisor.org/full-vs-queen/\", \"domain\": \"www.sleepadvisor.org\", \"displayed_link\": \"www.sleepadvisor.org \\u203a Buyer's Guides\", \"snippet\": \"4 Jun 2020 - Full-sized beds, also commonly referred to as \\u201cdouble beds\\u201d are generally bigger than a small twin bed and a bit tinier than the overly popular\\u00a0...\", \"prerender\": false, \"snippet_matched\": [\"Full\"], \"cached_page_link\": \"https://webcache.googleusercontent.com/search?q=cache:_-4YheFrkWIJ:https://www.sleepadvisor.org/full-vs-queen/+&cd=12&hl=en&ct=clnk&gl=uk\", \"block_position\": 3}, {\"position\": 2, \"title\": \"Full Bed vs Queen Bed - Difference and Comparison | Diffen\", \"link\": \"https://www.diffen.com/difference/Full_Bed_vs_Queen_Bed\", \"domain\": \"www.diffen.com\", \"displayed_link\": \"www.diffen.com \\u203a Home Improvement \\u203a Furniture\", \"snippet\": \"What's the difference between Full Bed and Queen Bed? A full-size bed is sometimes called a \\u201cdouble bed\\u201d or simply a \\u201cfull bed\\u201d; it is bigger than the twin bed\\u00a0...\", \"prerender\": false, \"snippet_matched\": [\"difference between Full\", \"Queen\", \"full\", \"is\", \"full\", \"is\"], \"cached_page_link\": \"https://webcache.googleusercontent.com/search?q=cache:s3B6YWHxImcJ:https://www.diffen.com/difference/Full_Bed_vs_Queen_Bed+&cd=13&hl=en&ct=clnk&gl=uk\", \"sitelinks\": {\"inline\": [{\"title\": \"Dimensions\", \"link\": \"https://www.diffen.com/difference/Full_Bed_vs_Queen_Bed#Dimensions\"}, {\"title\": \"Non-Standard Dimensions\", \"link\": \"https://www.diffen.com/difference/Full_Bed_vs_Queen_Bed#Non-Standard_Dimensions\"}, {\"title\": \"IKEA Dimensions\", \"link\": \"https://www.diffen.com/difference/Full_Bed_vs_Queen_Bed#IKEA_Dimensions\"}, {\"title\": \"Pros and Cons\", \"link\": \"https://www.diffen.com/difference/Full_Bed_vs_Queen_Bed#Pros_and_Cons\"}]}, \"block_position\": 4}, {\"position\": 3, \"title\": \"Full vs. Queen: What's the Difference? - Amerisleep\", \"link\": \"https://amerisleep.com/blog/full-vs-queen/\", \"domain\": \"amerisleep.com\", \"displayed_link\": \"amerisleep.com \\u203a Blog \\u203a Mattress Guides\", \"snippet\": \"26 May 2020 - Deciding which mattress size is best for you? In our full vs queen review, we discuss who these popular mattress sizes and who they're\\u00a0...\", \"prerender\": false, \"snippet_matched\": [\"is\", \"for\", \"full\", \"queen\"], \"cached_page_link\": \"https://webcache.googleusercontent.com/search?q=cache:cScF75Fkey4J:https://amerisleep.com/blog/full-vs-queen/+&cd=14&hl=en&ct=clnk&gl=uk\", \"block_position\": 5}, {\"position\": 4, \"title\": \"Full vs Queen: Which Bed is Best for You? - The Sleep Judge\", \"link\": \"https://www.thesleepjudge.com/full-vs-queen/\", \"domain\": \"www.thesleepjudge.com\", \"displayed_link\": \"www.thesleepjudge.com \\u203a Articles\", \"snippet\": \"4 May 2020 - When it comes to full vs queen, which bed size is best for you? We'll look at the differences and figure out which will work best for you.\", \"prerender\": false, \"snippet_matched\": [\"full\", \"queen\", \"is\", \"for\", \"differences\", \"for\"], \"cached_page_link\": \"https://webcache.googleusercontent.com/search?q=cache:ct2Ge5AKkvoJ:https://www.thesleepjudge.com/full-vs-queen/+&cd=15&hl=en&ct=clnk&gl=uk\", \"block_position\": 6}, {\"position\": 5, \"title\": \"Full vs. Queen | Sleep Foundation\", \"link\": \"https://www.sleepfoundation.org/mattress-sizes/full-vs-queen\", \"domain\": \"www.sleepfoundation.org\", \"displayed_link\": \"www.sleepfoundation.org \\u203a mattress-sizes \\u203a full-vs-queen\", \"snippet\": \"For couples, or those sharing a bed with a child, queen will definitely be a better bet. There is a substantial difference between queen and full beds in both width\\u00a0...\", \"prerender\": false, \"snippet_matched\": [\"For\", \"with a\", \"queen\", \"is\", \"difference between queen\", \"full\"], \"cached_page_link\": \"https://webcache.googleusercontent.com/search?q=cache:4YMG4SODGnoJ:https://www.sleepfoundation.org/mattress-sizes/full-vs-queen+&cd=16&hl=en&ct=clnk&gl=uk\", \"block_position\": 7}, {\"position\": 6, \"title\": \"Full vs Queen - Complete Mattress Size Guide Comparison\", \"link\": \"https://www.tomorrowsleep.com/full-vs-queen\", \"domain\": \"www.tomorrowsleep.com\", \"displayed_link\": \"www.tomorrowsleep.com \\u203a full-vs-queen\", \"snippet\": \"7 Jun 2018 - In most cases, if you're looking at the difference between a queen vs full size, it is probably for one of two reasons. One, you are looking to\\u00a0...\", \"prerender\": false, \"snippet_matched\": [\"difference between\", \"queen\", \"full\", \"is\", \"for\"], \"cached_page_link\": \"https://webcache.googleusercontent.com/search?q=cache:mydQK63fmIcJ:https://www.tomorrowsleep.com/full-vs-queen+&cd=17&hl=en&ct=clnk&gl=uk\", \"block_position\": 8}, {\"position\": 7, \"title\": \"The Difference Between Full- and Queen-Beds - Southern Living\", \"link\": \"https://www.southernliving.com/home/bedroom/full-vs-queen\", \"domain\": \"www.southernliving.com\", \"displayed_link\": \"www.southernliving.com \\u203a Home \\u203a Bedroom Design\", \"snippet\": \"The Difference Between Full- and Queen-Beds. When it comes to comfort, a few inches makes a world of difference. By Maggie Burch.\", \"prerender\": false, \"snippet_matched\": [\"Difference Between Full- and Queen\"], \"cached_page_link\": \"https://webcache.googleusercontent.com/search?q=cache:IpagPWflrbwJ:https://www.southernliving.com/home/bedroom/full-vs-queen+&cd=18&hl=en&ct=clnk&gl=uk\", \"block_position\": 13}, {\"position\": 8, \"title\": \"Full vs Queen Mattress Size Comparison | GhostBed\", \"link\": \"https://www.ghostbed.com/education/size-comparison-guide-queen-vs-full-mattress/\", \"domain\": \"www.ghostbed.com\", \"displayed_link\": \"www.ghostbed.com \\u203a education \\u203a size-comparison-gui...\", \"snippet\": \"7 May 2020 - Although the difference between full and Queen size beds may seem too close to call, the few inches that separate the two can actually-make a\\u00a0...\", \"prerender\": false, \"snippet_matched\": [\"difference between full and Queen\"], \"cached_page_link\": \"https://webcache.googleusercontent.com/search?q=cache:JGQz4qvs2-UJ:https://www.ghostbed.com/education/size-comparison-guide-queen-vs-full-mattress/+&cd=19&hl=en&ct=clnk&gl=uk\", \"block_position\": 14}, {\"position\": 9, \"title\": \"Full vs. Queen Mattress | Sleep.org\", \"link\": \"https://www.sleep.org/articles/full-vs-queen-mattress/\", \"domain\": \"www.sleep.org\", \"displayed_link\": \"www.sleep.org \\u203a articles \\u203a full-vs-queen-mattress\", \"snippet\": \"Comparing the dimensions of a full vs a queen is fairly straightforward, as the two sizes are similar overall. Between the two, there is a 6-inch difference in width,\\u00a0...\", \"prerender\": false, \"snippet_matched\": [\"of a full\", \"queen is\", \"Between\", \"is\", \"difference\"], \"cached_page_link\": \"https://webcache.googleusercontent.com/search?q=cache:zefzmWGzo5oJ:https://www.sleep.org/articles/full-vs-queen-mattress/+&cd=20&hl=en&ct=clnk&gl=uk\", \"block_position\": 15}]}"
          ],
          "name": "stdout"
        }
      ]
    },
    {
      "cell_type": "code",
      "metadata": {
        "id": "edrJTaQUTxjr",
        "colab_type": "code",
        "colab": {}
      },
      "source": [
        "keywords = df.Keyword.tolist()"
      ],
      "execution_count": null,
      "outputs": []
    },
    {
      "cell_type": "code",
      "metadata": {
        "id": "KB1mwguhbso7",
        "colab_type": "code",
        "colab": {
          "base_uri": "https://localhost:8080/",
          "height": 34
        },
        "outputId": "d99518a3-9776-497d-9697-80d4632db607"
      },
      "source": [
        "len(keywords)"
      ],
      "execution_count": null,
      "outputs": [
        {
          "output_type": "execute_result",
          "data": {
            "text/plain": [
              "10001"
            ]
          },
          "metadata": {
            "tags": []
          },
          "execution_count": 29
        }
      ]
    },
    {
      "cell_type": "code",
      "metadata": {
        "id": "H50IneAZTXRU",
        "colab_type": "code",
        "colab": {
          "base_uri": "https://localhost:8080/",
          "height": 766
        },
        "outputId": "1a0f2544-f3c8-4678-f195-48525a74df98"
      },
      "source": [
        "for i, query in enumerate(keywords[:5000]):\n",
        "  if i % 100 == 0:\n",
        "    print(f\"mark {i}\")\n",
        "\n",
        "  scaleSERP(query)\n"
      ],
      "execution_count": null,
      "outputs": [
        {
          "output_type": "stream",
          "text": [
            "mark 0\n",
            "mark 100\n",
            "mark 200\n",
            "mark 300\n",
            "mark 400\n",
            "mark 500\n",
            "mark 600\n",
            "mark 700\n",
            "mark 800\n",
            "mark 900\n",
            "mark 1000\n",
            "mark 1100\n",
            "mark 1200\n",
            "mark 1300\n",
            "mark 1400\n",
            "mark 1500\n",
            "mark 1600\n",
            "mark 1700\n",
            "mark 1800\n"
          ],
          "name": "stdout"
        },
        {
          "output_type": "error",
          "ename": "KeyboardInterrupt",
          "evalue": "ignored",
          "traceback": [
            "\u001b[0;31m---------------------------------------------------------------------------\u001b[0m",
            "\u001b[0;31mTypeError\u001b[0m                                 Traceback (most recent call last)",
            "\u001b[0;32m/usr/local/lib/python3.6/dist-packages/urllib3/connectionpool.py\u001b[0m in \u001b[0;36m_make_request\u001b[0;34m(self, conn, method, url, timeout, chunked, **httplib_request_kw)\u001b[0m\n\u001b[1;32m    376\u001b[0m             \u001b[0;32mtry\u001b[0m\u001b[0;34m:\u001b[0m  \u001b[0;31m# Python 2.7, use buffering of HTTP responses\u001b[0m\u001b[0;34m\u001b[0m\u001b[0;34m\u001b[0m\u001b[0m\n\u001b[0;32m--> 377\u001b[0;31m                 \u001b[0mhttplib_response\u001b[0m \u001b[0;34m=\u001b[0m \u001b[0mconn\u001b[0m\u001b[0;34m.\u001b[0m\u001b[0mgetresponse\u001b[0m\u001b[0;34m(\u001b[0m\u001b[0mbuffering\u001b[0m\u001b[0;34m=\u001b[0m\u001b[0;32mTrue\u001b[0m\u001b[0;34m)\u001b[0m\u001b[0;34m\u001b[0m\u001b[0;34m\u001b[0m\u001b[0m\n\u001b[0m\u001b[1;32m    378\u001b[0m             \u001b[0;32mexcept\u001b[0m \u001b[0mTypeError\u001b[0m\u001b[0;34m:\u001b[0m  \u001b[0;31m# Python 3\u001b[0m\u001b[0;34m\u001b[0m\u001b[0;34m\u001b[0m\u001b[0m\n",
            "\u001b[0;31mTypeError\u001b[0m: getresponse() got an unexpected keyword argument 'buffering'",
            "\nDuring handling of the above exception, another exception occurred:\n",
            "\u001b[0;31mKeyboardInterrupt\u001b[0m                         Traceback (most recent call last)",
            "\u001b[0;32m<ipython-input-34-bcc0d115bd94>\u001b[0m in \u001b[0;36m<module>\u001b[0;34m()\u001b[0m\n\u001b[1;32m      3\u001b[0m     \u001b[0mprint\u001b[0m\u001b[0;34m(\u001b[0m\u001b[0;34mf\"mark {i}\"\u001b[0m\u001b[0;34m)\u001b[0m\u001b[0;34m\u001b[0m\u001b[0;34m\u001b[0m\u001b[0m\n\u001b[1;32m      4\u001b[0m \u001b[0;34m\u001b[0m\u001b[0m\n\u001b[0;32m----> 5\u001b[0;31m   \u001b[0mscaleSERP\u001b[0m\u001b[0;34m(\u001b[0m\u001b[0mquery\u001b[0m\u001b[0;34m)\u001b[0m\u001b[0;34m\u001b[0m\u001b[0;34m\u001b[0m\u001b[0m\n\u001b[0m",
            "\u001b[0;32m<ipython-input-30-05980f54d780>\u001b[0m in \u001b[0;36mscaleSERP\u001b[0;34m(query)\u001b[0m\n\u001b[1;32m     18\u001b[0m \u001b[0;34m\u001b[0m\u001b[0m\n\u001b[1;32m     19\u001b[0m   \u001b[0;31m# make the http GET request to Scale SERP\u001b[0m\u001b[0;34m\u001b[0m\u001b[0;34m\u001b[0m\u001b[0;34m\u001b[0m\u001b[0m\n\u001b[0;32m---> 20\u001b[0;31m   \u001b[0mapi_result\u001b[0m \u001b[0;34m=\u001b[0m \u001b[0mrequests\u001b[0m\u001b[0;34m.\u001b[0m\u001b[0mget\u001b[0m\u001b[0;34m(\u001b[0m\u001b[0;34m'https://api.scaleserp.com/search'\u001b[0m\u001b[0;34m,\u001b[0m \u001b[0mparams\u001b[0m\u001b[0;34m)\u001b[0m\u001b[0;34m\u001b[0m\u001b[0;34m\u001b[0m\u001b[0m\n\u001b[0m\u001b[1;32m     21\u001b[0m \u001b[0;34m\u001b[0m\u001b[0m\n\u001b[1;32m     22\u001b[0m   \u001b[0;31m# save the JSON response from Scale SERP\u001b[0m\u001b[0;34m\u001b[0m\u001b[0;34m\u001b[0m\u001b[0;34m\u001b[0m\u001b[0m\n",
            "\u001b[0;32m/usr/local/lib/python3.6/dist-packages/requests/api.py\u001b[0m in \u001b[0;36mget\u001b[0;34m(url, params, **kwargs)\u001b[0m\n\u001b[1;32m     74\u001b[0m \u001b[0;34m\u001b[0m\u001b[0m\n\u001b[1;32m     75\u001b[0m     \u001b[0mkwargs\u001b[0m\u001b[0;34m.\u001b[0m\u001b[0msetdefault\u001b[0m\u001b[0;34m(\u001b[0m\u001b[0;34m'allow_redirects'\u001b[0m\u001b[0;34m,\u001b[0m \u001b[0;32mTrue\u001b[0m\u001b[0;34m)\u001b[0m\u001b[0;34m\u001b[0m\u001b[0;34m\u001b[0m\u001b[0m\n\u001b[0;32m---> 76\u001b[0;31m     \u001b[0;32mreturn\u001b[0m \u001b[0mrequest\u001b[0m\u001b[0;34m(\u001b[0m\u001b[0;34m'get'\u001b[0m\u001b[0;34m,\u001b[0m \u001b[0murl\u001b[0m\u001b[0;34m,\u001b[0m \u001b[0mparams\u001b[0m\u001b[0;34m=\u001b[0m\u001b[0mparams\u001b[0m\u001b[0;34m,\u001b[0m \u001b[0;34m**\u001b[0m\u001b[0mkwargs\u001b[0m\u001b[0;34m)\u001b[0m\u001b[0;34m\u001b[0m\u001b[0;34m\u001b[0m\u001b[0m\n\u001b[0m\u001b[1;32m     77\u001b[0m \u001b[0;34m\u001b[0m\u001b[0m\n\u001b[1;32m     78\u001b[0m \u001b[0;34m\u001b[0m\u001b[0m\n",
            "\u001b[0;32m/usr/local/lib/python3.6/dist-packages/requests/api.py\u001b[0m in \u001b[0;36mrequest\u001b[0;34m(method, url, **kwargs)\u001b[0m\n\u001b[1;32m     59\u001b[0m     \u001b[0;31m# cases, and look like a memory leak in others.\u001b[0m\u001b[0;34m\u001b[0m\u001b[0;34m\u001b[0m\u001b[0;34m\u001b[0m\u001b[0m\n\u001b[1;32m     60\u001b[0m     \u001b[0;32mwith\u001b[0m \u001b[0msessions\u001b[0m\u001b[0;34m.\u001b[0m\u001b[0mSession\u001b[0m\u001b[0;34m(\u001b[0m\u001b[0;34m)\u001b[0m \u001b[0;32mas\u001b[0m \u001b[0msession\u001b[0m\u001b[0;34m:\u001b[0m\u001b[0;34m\u001b[0m\u001b[0;34m\u001b[0m\u001b[0m\n\u001b[0;32m---> 61\u001b[0;31m         \u001b[0;32mreturn\u001b[0m \u001b[0msession\u001b[0m\u001b[0;34m.\u001b[0m\u001b[0mrequest\u001b[0m\u001b[0;34m(\u001b[0m\u001b[0mmethod\u001b[0m\u001b[0;34m=\u001b[0m\u001b[0mmethod\u001b[0m\u001b[0;34m,\u001b[0m \u001b[0murl\u001b[0m\u001b[0;34m=\u001b[0m\u001b[0murl\u001b[0m\u001b[0;34m,\u001b[0m \u001b[0;34m**\u001b[0m\u001b[0mkwargs\u001b[0m\u001b[0;34m)\u001b[0m\u001b[0;34m\u001b[0m\u001b[0;34m\u001b[0m\u001b[0m\n\u001b[0m\u001b[1;32m     62\u001b[0m \u001b[0;34m\u001b[0m\u001b[0m\n\u001b[1;32m     63\u001b[0m \u001b[0;34m\u001b[0m\u001b[0m\n",
            "\u001b[0;32m/usr/local/lib/python3.6/dist-packages/requests/sessions.py\u001b[0m in \u001b[0;36mrequest\u001b[0;34m(self, method, url, params, data, headers, cookies, files, auth, timeout, allow_redirects, proxies, hooks, stream, verify, cert, json)\u001b[0m\n\u001b[1;32m    528\u001b[0m         }\n\u001b[1;32m    529\u001b[0m         \u001b[0msend_kwargs\u001b[0m\u001b[0;34m.\u001b[0m\u001b[0mupdate\u001b[0m\u001b[0;34m(\u001b[0m\u001b[0msettings\u001b[0m\u001b[0;34m)\u001b[0m\u001b[0;34m\u001b[0m\u001b[0;34m\u001b[0m\u001b[0m\n\u001b[0;32m--> 530\u001b[0;31m         \u001b[0mresp\u001b[0m \u001b[0;34m=\u001b[0m \u001b[0mself\u001b[0m\u001b[0;34m.\u001b[0m\u001b[0msend\u001b[0m\u001b[0;34m(\u001b[0m\u001b[0mprep\u001b[0m\u001b[0;34m,\u001b[0m \u001b[0;34m**\u001b[0m\u001b[0msend_kwargs\u001b[0m\u001b[0;34m)\u001b[0m\u001b[0;34m\u001b[0m\u001b[0;34m\u001b[0m\u001b[0m\n\u001b[0m\u001b[1;32m    531\u001b[0m \u001b[0;34m\u001b[0m\u001b[0m\n\u001b[1;32m    532\u001b[0m         \u001b[0;32mreturn\u001b[0m \u001b[0mresp\u001b[0m\u001b[0;34m\u001b[0m\u001b[0;34m\u001b[0m\u001b[0m\n",
            "\u001b[0;32m/usr/local/lib/python3.6/dist-packages/requests/sessions.py\u001b[0m in \u001b[0;36msend\u001b[0;34m(self, request, **kwargs)\u001b[0m\n\u001b[1;32m    641\u001b[0m \u001b[0;34m\u001b[0m\u001b[0m\n\u001b[1;32m    642\u001b[0m         \u001b[0;31m# Send the request\u001b[0m\u001b[0;34m\u001b[0m\u001b[0;34m\u001b[0m\u001b[0;34m\u001b[0m\u001b[0m\n\u001b[0;32m--> 643\u001b[0;31m         \u001b[0mr\u001b[0m \u001b[0;34m=\u001b[0m \u001b[0madapter\u001b[0m\u001b[0;34m.\u001b[0m\u001b[0msend\u001b[0m\u001b[0;34m(\u001b[0m\u001b[0mrequest\u001b[0m\u001b[0;34m,\u001b[0m \u001b[0;34m**\u001b[0m\u001b[0mkwargs\u001b[0m\u001b[0;34m)\u001b[0m\u001b[0;34m\u001b[0m\u001b[0;34m\u001b[0m\u001b[0m\n\u001b[0m\u001b[1;32m    644\u001b[0m \u001b[0;34m\u001b[0m\u001b[0m\n\u001b[1;32m    645\u001b[0m         \u001b[0;31m# Total elapsed time of the request (approximately)\u001b[0m\u001b[0;34m\u001b[0m\u001b[0;34m\u001b[0m\u001b[0;34m\u001b[0m\u001b[0m\n",
            "\u001b[0;32m/usr/local/lib/python3.6/dist-packages/requests/adapters.py\u001b[0m in \u001b[0;36msend\u001b[0;34m(self, request, stream, timeout, verify, cert, proxies)\u001b[0m\n\u001b[1;32m    447\u001b[0m                     \u001b[0mdecode_content\u001b[0m\u001b[0;34m=\u001b[0m\u001b[0;32mFalse\u001b[0m\u001b[0;34m,\u001b[0m\u001b[0;34m\u001b[0m\u001b[0;34m\u001b[0m\u001b[0m\n\u001b[1;32m    448\u001b[0m                     \u001b[0mretries\u001b[0m\u001b[0;34m=\u001b[0m\u001b[0mself\u001b[0m\u001b[0;34m.\u001b[0m\u001b[0mmax_retries\u001b[0m\u001b[0;34m,\u001b[0m\u001b[0;34m\u001b[0m\u001b[0;34m\u001b[0m\u001b[0m\n\u001b[0;32m--> 449\u001b[0;31m                     \u001b[0mtimeout\u001b[0m\u001b[0;34m=\u001b[0m\u001b[0mtimeout\u001b[0m\u001b[0;34m\u001b[0m\u001b[0;34m\u001b[0m\u001b[0m\n\u001b[0m\u001b[1;32m    450\u001b[0m                 )\n\u001b[1;32m    451\u001b[0m \u001b[0;34m\u001b[0m\u001b[0m\n",
            "\u001b[0;32m/usr/local/lib/python3.6/dist-packages/urllib3/connectionpool.py\u001b[0m in \u001b[0;36murlopen\u001b[0;34m(self, method, url, body, headers, retries, redirect, assert_same_host, timeout, pool_timeout, release_conn, chunked, body_pos, **response_kw)\u001b[0m\n\u001b[1;32m    598\u001b[0m                                                   \u001b[0mtimeout\u001b[0m\u001b[0;34m=\u001b[0m\u001b[0mtimeout_obj\u001b[0m\u001b[0;34m,\u001b[0m\u001b[0;34m\u001b[0m\u001b[0;34m\u001b[0m\u001b[0m\n\u001b[1;32m    599\u001b[0m                                                   \u001b[0mbody\u001b[0m\u001b[0;34m=\u001b[0m\u001b[0mbody\u001b[0m\u001b[0;34m,\u001b[0m \u001b[0mheaders\u001b[0m\u001b[0;34m=\u001b[0m\u001b[0mheaders\u001b[0m\u001b[0;34m,\u001b[0m\u001b[0;34m\u001b[0m\u001b[0;34m\u001b[0m\u001b[0m\n\u001b[0;32m--> 600\u001b[0;31m                                                   chunked=chunked)\n\u001b[0m\u001b[1;32m    601\u001b[0m \u001b[0;34m\u001b[0m\u001b[0m\n\u001b[1;32m    602\u001b[0m             \u001b[0;31m# If we're going to release the connection in ``finally:``, then\u001b[0m\u001b[0;34m\u001b[0m\u001b[0;34m\u001b[0m\u001b[0;34m\u001b[0m\u001b[0m\n",
            "\u001b[0;32m/usr/local/lib/python3.6/dist-packages/urllib3/connectionpool.py\u001b[0m in \u001b[0;36m_make_request\u001b[0;34m(self, conn, method, url, timeout, chunked, **httplib_request_kw)\u001b[0m\n\u001b[1;32m    378\u001b[0m             \u001b[0;32mexcept\u001b[0m \u001b[0mTypeError\u001b[0m\u001b[0;34m:\u001b[0m  \u001b[0;31m# Python 3\u001b[0m\u001b[0;34m\u001b[0m\u001b[0;34m\u001b[0m\u001b[0m\n\u001b[1;32m    379\u001b[0m                 \u001b[0;32mtry\u001b[0m\u001b[0;34m:\u001b[0m\u001b[0;34m\u001b[0m\u001b[0;34m\u001b[0m\u001b[0m\n\u001b[0;32m--> 380\u001b[0;31m                     \u001b[0mhttplib_response\u001b[0m \u001b[0;34m=\u001b[0m \u001b[0mconn\u001b[0m\u001b[0;34m.\u001b[0m\u001b[0mgetresponse\u001b[0m\u001b[0;34m(\u001b[0m\u001b[0;34m)\u001b[0m\u001b[0;34m\u001b[0m\u001b[0;34m\u001b[0m\u001b[0m\n\u001b[0m\u001b[1;32m    381\u001b[0m                 \u001b[0;32mexcept\u001b[0m \u001b[0mException\u001b[0m \u001b[0;32mas\u001b[0m \u001b[0me\u001b[0m\u001b[0;34m:\u001b[0m\u001b[0;34m\u001b[0m\u001b[0;34m\u001b[0m\u001b[0m\n\u001b[1;32m    382\u001b[0m                     \u001b[0;31m# Remove the TypeError from the exception chain in Python 3;\u001b[0m\u001b[0;34m\u001b[0m\u001b[0;34m\u001b[0m\u001b[0;34m\u001b[0m\u001b[0m\n",
            "\u001b[0;32m/usr/lib/python3.6/http/client.py\u001b[0m in \u001b[0;36mgetresponse\u001b[0;34m(self)\u001b[0m\n\u001b[1;32m   1354\u001b[0m         \u001b[0;32mtry\u001b[0m\u001b[0;34m:\u001b[0m\u001b[0;34m\u001b[0m\u001b[0;34m\u001b[0m\u001b[0m\n\u001b[1;32m   1355\u001b[0m             \u001b[0;32mtry\u001b[0m\u001b[0;34m:\u001b[0m\u001b[0;34m\u001b[0m\u001b[0;34m\u001b[0m\u001b[0m\n\u001b[0;32m-> 1356\u001b[0;31m                 \u001b[0mresponse\u001b[0m\u001b[0;34m.\u001b[0m\u001b[0mbegin\u001b[0m\u001b[0;34m(\u001b[0m\u001b[0;34m)\u001b[0m\u001b[0;34m\u001b[0m\u001b[0;34m\u001b[0m\u001b[0m\n\u001b[0m\u001b[1;32m   1357\u001b[0m             \u001b[0;32mexcept\u001b[0m \u001b[0mConnectionError\u001b[0m\u001b[0;34m:\u001b[0m\u001b[0;34m\u001b[0m\u001b[0;34m\u001b[0m\u001b[0m\n\u001b[1;32m   1358\u001b[0m                 \u001b[0mself\u001b[0m\u001b[0;34m.\u001b[0m\u001b[0mclose\u001b[0m\u001b[0;34m(\u001b[0m\u001b[0;34m)\u001b[0m\u001b[0;34m\u001b[0m\u001b[0;34m\u001b[0m\u001b[0m\n",
            "\u001b[0;32m/usr/lib/python3.6/http/client.py\u001b[0m in \u001b[0;36mbegin\u001b[0;34m(self)\u001b[0m\n\u001b[1;32m    305\u001b[0m         \u001b[0;31m# read until we get a non-100 response\u001b[0m\u001b[0;34m\u001b[0m\u001b[0;34m\u001b[0m\u001b[0;34m\u001b[0m\u001b[0m\n\u001b[1;32m    306\u001b[0m         \u001b[0;32mwhile\u001b[0m \u001b[0;32mTrue\u001b[0m\u001b[0;34m:\u001b[0m\u001b[0;34m\u001b[0m\u001b[0;34m\u001b[0m\u001b[0m\n\u001b[0;32m--> 307\u001b[0;31m             \u001b[0mversion\u001b[0m\u001b[0;34m,\u001b[0m \u001b[0mstatus\u001b[0m\u001b[0;34m,\u001b[0m \u001b[0mreason\u001b[0m \u001b[0;34m=\u001b[0m \u001b[0mself\u001b[0m\u001b[0;34m.\u001b[0m\u001b[0m_read_status\u001b[0m\u001b[0;34m(\u001b[0m\u001b[0;34m)\u001b[0m\u001b[0;34m\u001b[0m\u001b[0;34m\u001b[0m\u001b[0m\n\u001b[0m\u001b[1;32m    308\u001b[0m             \u001b[0;32mif\u001b[0m \u001b[0mstatus\u001b[0m \u001b[0;34m!=\u001b[0m \u001b[0mCONTINUE\u001b[0m\u001b[0;34m:\u001b[0m\u001b[0;34m\u001b[0m\u001b[0;34m\u001b[0m\u001b[0m\n\u001b[1;32m    309\u001b[0m                 \u001b[0;32mbreak\u001b[0m\u001b[0;34m\u001b[0m\u001b[0;34m\u001b[0m\u001b[0m\n",
            "\u001b[0;32m/usr/lib/python3.6/http/client.py\u001b[0m in \u001b[0;36m_read_status\u001b[0;34m(self)\u001b[0m\n\u001b[1;32m    266\u001b[0m \u001b[0;34m\u001b[0m\u001b[0m\n\u001b[1;32m    267\u001b[0m     \u001b[0;32mdef\u001b[0m \u001b[0m_read_status\u001b[0m\u001b[0;34m(\u001b[0m\u001b[0mself\u001b[0m\u001b[0;34m)\u001b[0m\u001b[0;34m:\u001b[0m\u001b[0;34m\u001b[0m\u001b[0;34m\u001b[0m\u001b[0m\n\u001b[0;32m--> 268\u001b[0;31m         \u001b[0mline\u001b[0m \u001b[0;34m=\u001b[0m \u001b[0mstr\u001b[0m\u001b[0;34m(\u001b[0m\u001b[0mself\u001b[0m\u001b[0;34m.\u001b[0m\u001b[0mfp\u001b[0m\u001b[0;34m.\u001b[0m\u001b[0mreadline\u001b[0m\u001b[0;34m(\u001b[0m\u001b[0m_MAXLINE\u001b[0m \u001b[0;34m+\u001b[0m \u001b[0;36m1\u001b[0m\u001b[0;34m)\u001b[0m\u001b[0;34m,\u001b[0m \u001b[0;34m\"iso-8859-1\"\u001b[0m\u001b[0;34m)\u001b[0m\u001b[0;34m\u001b[0m\u001b[0;34m\u001b[0m\u001b[0m\n\u001b[0m\u001b[1;32m    269\u001b[0m         \u001b[0;32mif\u001b[0m \u001b[0mlen\u001b[0m\u001b[0;34m(\u001b[0m\u001b[0mline\u001b[0m\u001b[0;34m)\u001b[0m \u001b[0;34m>\u001b[0m \u001b[0m_MAXLINE\u001b[0m\u001b[0;34m:\u001b[0m\u001b[0;34m\u001b[0m\u001b[0;34m\u001b[0m\u001b[0m\n\u001b[1;32m    270\u001b[0m             \u001b[0;32mraise\u001b[0m \u001b[0mLineTooLong\u001b[0m\u001b[0;34m(\u001b[0m\u001b[0;34m\"status line\"\u001b[0m\u001b[0;34m)\u001b[0m\u001b[0;34m\u001b[0m\u001b[0;34m\u001b[0m\u001b[0m\n",
            "\u001b[0;32m/usr/lib/python3.6/socket.py\u001b[0m in \u001b[0;36mreadinto\u001b[0;34m(self, b)\u001b[0m\n\u001b[1;32m    584\u001b[0m         \u001b[0;32mwhile\u001b[0m \u001b[0;32mTrue\u001b[0m\u001b[0;34m:\u001b[0m\u001b[0;34m\u001b[0m\u001b[0;34m\u001b[0m\u001b[0m\n\u001b[1;32m    585\u001b[0m             \u001b[0;32mtry\u001b[0m\u001b[0;34m:\u001b[0m\u001b[0;34m\u001b[0m\u001b[0;34m\u001b[0m\u001b[0m\n\u001b[0;32m--> 586\u001b[0;31m                 \u001b[0;32mreturn\u001b[0m \u001b[0mself\u001b[0m\u001b[0;34m.\u001b[0m\u001b[0m_sock\u001b[0m\u001b[0;34m.\u001b[0m\u001b[0mrecv_into\u001b[0m\u001b[0;34m(\u001b[0m\u001b[0mb\u001b[0m\u001b[0;34m)\u001b[0m\u001b[0;34m\u001b[0m\u001b[0;34m\u001b[0m\u001b[0m\n\u001b[0m\u001b[1;32m    587\u001b[0m             \u001b[0;32mexcept\u001b[0m \u001b[0mtimeout\u001b[0m\u001b[0;34m:\u001b[0m\u001b[0;34m\u001b[0m\u001b[0;34m\u001b[0m\u001b[0m\n\u001b[1;32m    588\u001b[0m                 \u001b[0mself\u001b[0m\u001b[0;34m.\u001b[0m\u001b[0m_timeout_occurred\u001b[0m \u001b[0;34m=\u001b[0m \u001b[0;32mTrue\u001b[0m\u001b[0;34m\u001b[0m\u001b[0;34m\u001b[0m\u001b[0m\n",
            "\u001b[0;32m/usr/lib/python3.6/ssl.py\u001b[0m in \u001b[0;36mrecv_into\u001b[0;34m(self, buffer, nbytes, flags)\u001b[0m\n\u001b[1;32m   1010\u001b[0m                   \u001b[0;34m\"non-zero flags not allowed in calls to recv_into() on %s\"\u001b[0m \u001b[0;34m%\u001b[0m\u001b[0;34m\u001b[0m\u001b[0;34m\u001b[0m\u001b[0m\n\u001b[1;32m   1011\u001b[0m                   self.__class__)\n\u001b[0;32m-> 1012\u001b[0;31m             \u001b[0;32mreturn\u001b[0m \u001b[0mself\u001b[0m\u001b[0;34m.\u001b[0m\u001b[0mread\u001b[0m\u001b[0;34m(\u001b[0m\u001b[0mnbytes\u001b[0m\u001b[0;34m,\u001b[0m \u001b[0mbuffer\u001b[0m\u001b[0;34m)\u001b[0m\u001b[0;34m\u001b[0m\u001b[0;34m\u001b[0m\u001b[0m\n\u001b[0m\u001b[1;32m   1013\u001b[0m         \u001b[0;32melse\u001b[0m\u001b[0;34m:\u001b[0m\u001b[0;34m\u001b[0m\u001b[0;34m\u001b[0m\u001b[0m\n\u001b[1;32m   1014\u001b[0m             \u001b[0;32mreturn\u001b[0m \u001b[0msocket\u001b[0m\u001b[0;34m.\u001b[0m\u001b[0mrecv_into\u001b[0m\u001b[0;34m(\u001b[0m\u001b[0mself\u001b[0m\u001b[0;34m,\u001b[0m \u001b[0mbuffer\u001b[0m\u001b[0;34m,\u001b[0m \u001b[0mnbytes\u001b[0m\u001b[0;34m,\u001b[0m \u001b[0mflags\u001b[0m\u001b[0;34m)\u001b[0m\u001b[0;34m\u001b[0m\u001b[0;34m\u001b[0m\u001b[0m\n",
            "\u001b[0;32m/usr/lib/python3.6/ssl.py\u001b[0m in \u001b[0;36mread\u001b[0;34m(self, len, buffer)\u001b[0m\n\u001b[1;32m    872\u001b[0m             \u001b[0;32mraise\u001b[0m \u001b[0mValueError\u001b[0m\u001b[0;34m(\u001b[0m\u001b[0;34m\"Read on closed or unwrapped SSL socket.\"\u001b[0m\u001b[0;34m)\u001b[0m\u001b[0;34m\u001b[0m\u001b[0;34m\u001b[0m\u001b[0m\n\u001b[1;32m    873\u001b[0m         \u001b[0;32mtry\u001b[0m\u001b[0;34m:\u001b[0m\u001b[0;34m\u001b[0m\u001b[0;34m\u001b[0m\u001b[0m\n\u001b[0;32m--> 874\u001b[0;31m             \u001b[0;32mreturn\u001b[0m \u001b[0mself\u001b[0m\u001b[0;34m.\u001b[0m\u001b[0m_sslobj\u001b[0m\u001b[0;34m.\u001b[0m\u001b[0mread\u001b[0m\u001b[0;34m(\u001b[0m\u001b[0mlen\u001b[0m\u001b[0;34m,\u001b[0m \u001b[0mbuffer\u001b[0m\u001b[0;34m)\u001b[0m\u001b[0;34m\u001b[0m\u001b[0;34m\u001b[0m\u001b[0m\n\u001b[0m\u001b[1;32m    875\u001b[0m         \u001b[0;32mexcept\u001b[0m \u001b[0mSSLError\u001b[0m \u001b[0;32mas\u001b[0m \u001b[0mx\u001b[0m\u001b[0;34m:\u001b[0m\u001b[0;34m\u001b[0m\u001b[0;34m\u001b[0m\u001b[0m\n\u001b[1;32m    876\u001b[0m             \u001b[0;32mif\u001b[0m \u001b[0mx\u001b[0m\u001b[0;34m.\u001b[0m\u001b[0margs\u001b[0m\u001b[0;34m[\u001b[0m\u001b[0;36m0\u001b[0m\u001b[0;34m]\u001b[0m \u001b[0;34m==\u001b[0m \u001b[0mSSL_ERROR_EOF\u001b[0m \u001b[0;32mand\u001b[0m \u001b[0mself\u001b[0m\u001b[0;34m.\u001b[0m\u001b[0msuppress_ragged_eofs\u001b[0m\u001b[0;34m:\u001b[0m\u001b[0;34m\u001b[0m\u001b[0;34m\u001b[0m\u001b[0m\n",
            "\u001b[0;32m/usr/lib/python3.6/ssl.py\u001b[0m in \u001b[0;36mread\u001b[0;34m(self, len, buffer)\u001b[0m\n\u001b[1;32m    629\u001b[0m         \"\"\"\n\u001b[1;32m    630\u001b[0m         \u001b[0;32mif\u001b[0m \u001b[0mbuffer\u001b[0m \u001b[0;32mis\u001b[0m \u001b[0;32mnot\u001b[0m \u001b[0;32mNone\u001b[0m\u001b[0;34m:\u001b[0m\u001b[0;34m\u001b[0m\u001b[0;34m\u001b[0m\u001b[0m\n\u001b[0;32m--> 631\u001b[0;31m             \u001b[0mv\u001b[0m \u001b[0;34m=\u001b[0m \u001b[0mself\u001b[0m\u001b[0;34m.\u001b[0m\u001b[0m_sslobj\u001b[0m\u001b[0;34m.\u001b[0m\u001b[0mread\u001b[0m\u001b[0;34m(\u001b[0m\u001b[0mlen\u001b[0m\u001b[0;34m,\u001b[0m \u001b[0mbuffer\u001b[0m\u001b[0;34m)\u001b[0m\u001b[0;34m\u001b[0m\u001b[0;34m\u001b[0m\u001b[0m\n\u001b[0m\u001b[1;32m    632\u001b[0m         \u001b[0;32melse\u001b[0m\u001b[0;34m:\u001b[0m\u001b[0;34m\u001b[0m\u001b[0;34m\u001b[0m\u001b[0m\n\u001b[1;32m    633\u001b[0m             \u001b[0mv\u001b[0m \u001b[0;34m=\u001b[0m \u001b[0mself\u001b[0m\u001b[0;34m.\u001b[0m\u001b[0m_sslobj\u001b[0m\u001b[0;34m.\u001b[0m\u001b[0mread\u001b[0m\u001b[0;34m(\u001b[0m\u001b[0mlen\u001b[0m\u001b[0;34m)\u001b[0m\u001b[0;34m\u001b[0m\u001b[0;34m\u001b[0m\u001b[0m\n",
            "\u001b[0;31mKeyboardInterrupt\u001b[0m: "
          ]
        }
      ]
    },
    {
      "cell_type": "markdown",
      "metadata": {
        "id": "Ga0-u-jXbBUu",
        "colab_type": "text"
      },
      "source": [
        "**Informational** — The person is looking for more information on a topic. This is indicated by whether an *answer box or PAA (people also ask) boxes* are present.\n",
        "\n",
        "**Navigational** — The person is searching for a specific website. This is indicated by whether a *knowledge graph* is present or if *site links* are present\n",
        "\n",
        "**Transactional** — The person is aiming to purchase something. This is indicated by whether *shopping ads are present*.\n",
        "\n",
        "**Commercial Investigation** — The person is aiming to make a purchase soon but is still researching. This is indicated by whether *paid ads are present*, *an answer box is present*, *PAAs are present*, or if there are *ads present at the bottom of the SERP*."
      ]
    },
    {
      "cell_type": "markdown",
      "metadata": {
        "id": "xaGtNVPObBNo",
        "colab_type": "text"
      },
      "source": [
        ""
      ]
    },
    {
      "cell_type": "code",
      "metadata": {
        "id": "JH8JaHVddoaZ",
        "colab_type": "code",
        "colab": {}
      },
      "source": [
        "!ls"
      ],
      "execution_count": null,
      "outputs": []
    },
    {
      "cell_type": "code",
      "metadata": {
        "id": "VdQZhniUdoq7",
        "colab_type": "code",
        "colab": {}
      },
      "source": [
        "import json\n",
        "\n",
        "def get_json(filename):\n",
        "  with open(filename) as f:\n",
        "    s = f.read()\n",
        "    keyword = json.loads(s)\n",
        "\n",
        "    return keyword\n"
      ],
      "execution_count": null,
      "outputs": []
    },
    {
      "cell_type": "code",
      "metadata": {
        "id": "lUt4juy4do1V",
        "colab_type": "code",
        "colab": {}
      },
      "source": [
        "keyword = get_json(\"keyword_75.json\")"
      ],
      "execution_count": null,
      "outputs": []
    },
    {
      "cell_type": "code",
      "metadata": {
        "id": "UQoAOBm4dpA6",
        "colab_type": "code",
        "colab": {
          "base_uri": "https://localhost:8080/",
          "height": 54
        },
        "outputId": "6b10c9f4-803b-43f4-b648-34e801148b86"
      },
      "source": [
        "keyword.keys()"
      ],
      "execution_count": null,
      "outputs": [
        {
          "output_type": "execute_result",
          "data": {
            "text/plain": [
              "dict_keys(['request_info', 'search_metadata', 'search_parameters', 'search_information', 'inline_videos', 'inline_images', 'related_questions', 'pagination', 'organic_results'])"
            ]
          },
          "metadata": {
            "tags": []
          },
          "execution_count": 9
        }
      ]
    },
    {
      "cell_type": "code",
      "metadata": {
        "id": "AutEbtP5hd6F",
        "colab_type": "code",
        "colab": {}
      },
      "source": [
        "def get_intent(keyword):\n",
        "  meta_data = keyword.keys()\n",
        "\n",
        "  query = (keyword[\"search_parameters\"][\"q\"])\n",
        "\n",
        "  #Informational\n",
        "\n",
        "  if \"answer_box\" in meta_data:\n",
        "    return {\"query\": query, \"intent\": \"Informational\"}\n",
        "\n",
        "  #Navigational\n",
        "\n",
        "  if \"knowledge_graph\" in meta_data or keyword.get(\"sitelinks_search_box\") is not None:\n",
        "    return {\"query\": query, \"intent\": \"Navigational\"}\n",
        "\n",
        "  #Transactional\n",
        "\n",
        "  if \"inline_shopping\" in meta_data :\n",
        "    return {\"query\": query, \"intent\": \"Transactional\"}\n",
        "\n",
        "  #Commercial Investigation\n",
        "\n",
        "  if \"ads\" in meta_data and (\"answer_box\" in meta_data or \"related_questions\" in meta_data):\n",
        "    return {\"query\": query, \"intent\": \"Commercial Investigation\"}\n",
        "\n",
        "  #Informational\n",
        "\n",
        "  if \"related_questions\" in meta_data:\n",
        "    return {\"query\": query, \"intent\": \"Informational\"}\n",
        "\n",
        "  #Unknown\n",
        "\n",
        "  return {\"query\": query, \"intent\": \"Unknown\"}\n",
        "\n"
      ],
      "execution_count": null,
      "outputs": []
    },
    {
      "cell_type": "code",
      "metadata": {
        "id": "wwNCPlITheKh",
        "colab_type": "code",
        "colab": {
          "base_uri": "https://localhost:8080/",
          "height": 34
        },
        "outputId": "4410098b-550e-47a1-f1c1-aae2d283ece5"
      },
      "source": [
        "get_intent(get_json(\"keyword_75.json\"))"
      ],
      "execution_count": null,
      "outputs": [
        {
          "output_type": "execute_result",
          "data": {
            "text/plain": [
              "{'intent': 'Informational', 'query': 'ghostbed sheets'}"
            ]
          },
          "metadata": {
            "tags": []
          },
          "execution_count": 11
        }
      ]
    },
    {
      "cell_type": "code",
      "metadata": {
        "id": "H0x-x5NVhecM",
        "colab_type": "code",
        "colab": {
          "base_uri": "https://localhost:8080/",
          "height": 34
        },
        "outputId": "a5439cd9-eb97-4a60-9cea-207c111671e6"
      },
      "source": [
        "get_intent(get_json(\"keyword_3.json\"))"
      ],
      "execution_count": null,
      "outputs": [
        {
          "output_type": "execute_result",
          "data": {
            "text/plain": [
              "{'intent': 'Informational', 'query': 'ghost mattress'}"
            ]
          },
          "metadata": {
            "tags": []
          },
          "execution_count": 12
        }
      ]
    },
    {
      "cell_type": "code",
      "metadata": {
        "id": "LW8CELEPo2JU",
        "colab_type": "code",
        "colab": {
          "base_uri": "https://localhost:8080/",
          "height": 34
        },
        "outputId": "bd4a8765-53b6-44d0-d797-c4184717ca83"
      },
      "source": [
        "get_intent(get_json(\"keyword_4.json\"))"
      ],
      "execution_count": null,
      "outputs": [
        {
          "output_type": "execute_result",
          "data": {
            "text/plain": [
              "{'intent': 'Unknown', 'query': 'zero gravity bed'}"
            ]
          },
          "metadata": {
            "tags": []
          },
          "execution_count": 13
        }
      ]
    },
    {
      "cell_type": "code",
      "metadata": {
        "id": "hBG0XaKHrbSI",
        "colab_type": "code",
        "colab": {
          "base_uri": "https://localhost:8080/",
          "height": 34
        },
        "outputId": "bd7fee86-ff8c-4d2c-c3f4-8f256508e65a"
      },
      "source": [
        "get_intent(get_json(\"keyword_5.json\"))"
      ],
      "execution_count": null,
      "outputs": [
        {
          "output_type": "execute_result",
          "data": {
            "text/plain": [
              "{'intent': 'Informational', 'query': 'mattress cover'}"
            ]
          },
          "metadata": {
            "tags": []
          },
          "execution_count": 14
        }
      ]
    },
    {
      "cell_type": "code",
      "metadata": {
        "id": "7OenGQnLrbdP",
        "colab_type": "code",
        "colab": {}
      },
      "source": [
        "from glob import glob\n",
        "keyword_files = glob(\"*.json\")"
      ],
      "execution_count": null,
      "outputs": []
    },
    {
      "cell_type": "code",
      "metadata": {
        "id": "yzjPM8HMrbpD",
        "colab_type": "code",
        "colab": {}
      },
      "source": [
        "intent_list = list()\n",
        "\n",
        "for keyword_file in keyword_files:\n",
        "\n",
        "  intent_list.append(get_intent(get_json(keyword_file)))\n"
      ],
      "execution_count": null,
      "outputs": []
    },
    {
      "cell_type": "code",
      "metadata": {
        "id": "jz-r6h0ZrbvT",
        "colab_type": "code",
        "colab": {
          "base_uri": "https://localhost:8080/",
          "height": 34
        },
        "outputId": "dee56a3e-a350-4393-86af-16b1e18762c5"
      },
      "source": [
        "intent_list"
      ],
      "execution_count": null,
      "outputs": [
        {
          "output_type": "execute_result",
          "data": {
            "text/plain": [
              "[]"
            ]
          },
          "metadata": {
            "tags": []
          },
          "execution_count": 3
        }
      ]
    },
    {
      "cell_type": "markdown",
      "metadata": {
        "id": "1n7C-8p9MDDu",
        "colab_type": "text"
      },
      "source": [
        "#Intent dataset\n",
        "\n",
        "Resume here"
      ]
    },
    {
      "cell_type": "code",
      "metadata": {
        "id": "lnCzgBcbLx-3",
        "colab_type": "code",
        "colab": {
          "base_uri": "https://localhost:8080/",
          "height": 204
        },
        "outputId": "e42d7037-3ca3-4101-deca-bca595a9e983"
      },
      "source": [
        "!wget https://raw.githubusercontent.com/hamletbatista/daanyc/master/ghost-bed-intent.csv"
      ],
      "execution_count": 6,
      "outputs": [
        {
          "output_type": "stream",
          "text": [
            "--2020-07-29 16:51:27--  https://raw.githubusercontent.com/hamletbatista/daanyc/master/ghost-bed-intent.csv\n",
            "Resolving raw.githubusercontent.com (raw.githubusercontent.com)... 151.101.0.133, 151.101.64.133, 151.101.128.133, ...\n",
            "Connecting to raw.githubusercontent.com (raw.githubusercontent.com)|151.101.0.133|:443... connected.\n",
            "HTTP request sent, awaiting response... 200 OK\n",
            "Length: 84436 (82K) [text/plain]\n",
            "Saving to: ‘ghost-bed-intent.csv’\n",
            "\n",
            "\rghost-bed-intent.cs   0%[                    ]       0  --.-KB/s               \rghost-bed-intent.cs 100%[===================>]  82.46K  --.-KB/s    in 0.009s  \n",
            "\n",
            "2020-07-29 16:51:27 (8.93 MB/s) - ‘ghost-bed-intent.csv’ saved [84436/84436]\n",
            "\n"
          ],
          "name": "stdout"
        }
      ]
    },
    {
      "cell_type": "code",
      "metadata": {
        "id": "s4kwh4viMSBb",
        "colab_type": "code",
        "colab": {}
      },
      "source": [
        "df = pd.read_csv(\"ghost-bed-intent.csv\")"
      ],
      "execution_count": 7,
      "outputs": []
    },
    {
      "cell_type": "code",
      "metadata": {
        "id": "5OJslRHvuXZg",
        "colab_type": "code",
        "colab": {
          "base_uri": "https://localhost:8080/",
          "height": 235
        },
        "outputId": "543dcb8c-5f6b-496c-8071-24ae3a1c89b0"
      },
      "source": [
        "df.groupby(\"intent\").count()"
      ],
      "execution_count": 8,
      "outputs": [
        {
          "output_type": "execute_result",
          "data": {
            "text/html": [
              "<div>\n",
              "<style scoped>\n",
              "    .dataframe tbody tr th:only-of-type {\n",
              "        vertical-align: middle;\n",
              "    }\n",
              "\n",
              "    .dataframe tbody tr th {\n",
              "        vertical-align: top;\n",
              "    }\n",
              "\n",
              "    .dataframe thead th {\n",
              "        text-align: right;\n",
              "    }\n",
              "</style>\n",
              "<table border=\"1\" class=\"dataframe\">\n",
              "  <thead>\n",
              "    <tr style=\"text-align: right;\">\n",
              "      <th></th>\n",
              "      <th>Unnamed: 0</th>\n",
              "      <th>query</th>\n",
              "    </tr>\n",
              "    <tr>\n",
              "      <th>intent</th>\n",
              "      <th></th>\n",
              "      <th></th>\n",
              "    </tr>\n",
              "  </thead>\n",
              "  <tbody>\n",
              "    <tr>\n",
              "      <th>Commercial Investigation</th>\n",
              "      <td>44</td>\n",
              "      <td>44</td>\n",
              "    </tr>\n",
              "    <tr>\n",
              "      <th>Informational</th>\n",
              "      <td>1446</td>\n",
              "      <td>1446</td>\n",
              "    </tr>\n",
              "    <tr>\n",
              "      <th>Navigational</th>\n",
              "      <td>13</td>\n",
              "      <td>13</td>\n",
              "    </tr>\n",
              "    <tr>\n",
              "      <th>Transactional</th>\n",
              "      <td>137</td>\n",
              "      <td>137</td>\n",
              "    </tr>\n",
              "    <tr>\n",
              "      <th>Unknown</th>\n",
              "      <td>133</td>\n",
              "      <td>133</td>\n",
              "    </tr>\n",
              "  </tbody>\n",
              "</table>\n",
              "</div>"
            ],
            "text/plain": [
              "                          Unnamed: 0  query\n",
              "intent                                     \n",
              "Commercial Investigation          44     44\n",
              "Informational                   1446   1446\n",
              "Navigational                      13     13\n",
              "Transactional                    137    137\n",
              "Unknown                          133    133"
            ]
          },
          "metadata": {
            "tags": []
          },
          "execution_count": 8
        }
      ]
    },
    {
      "cell_type": "code",
      "metadata": {
        "id": "nAVKkH6wuXh4",
        "colab_type": "code",
        "colab": {
          "base_uri": "https://localhost:8080/",
          "height": 419
        },
        "outputId": "8192a759-ecf5-4155-e0c5-73a0edacc6a4"
      },
      "source": [
        "df.head(100)"
      ],
      "execution_count": 9,
      "outputs": [
        {
          "output_type": "execute_result",
          "data": {
            "text/html": [
              "<div>\n",
              "<style scoped>\n",
              "    .dataframe tbody tr th:only-of-type {\n",
              "        vertical-align: middle;\n",
              "    }\n",
              "\n",
              "    .dataframe tbody tr th {\n",
              "        vertical-align: top;\n",
              "    }\n",
              "\n",
              "    .dataframe thead th {\n",
              "        text-align: right;\n",
              "    }\n",
              "</style>\n",
              "<table border=\"1\" class=\"dataframe\">\n",
              "  <thead>\n",
              "    <tr style=\"text-align: right;\">\n",
              "      <th></th>\n",
              "      <th>Unnamed: 0</th>\n",
              "      <th>query</th>\n",
              "      <th>intent</th>\n",
              "    </tr>\n",
              "  </thead>\n",
              "  <tbody>\n",
              "    <tr>\n",
              "      <th>0</th>\n",
              "      <td>0</td>\n",
              "      <td>ghost bed</td>\n",
              "      <td>Transactional</td>\n",
              "    </tr>\n",
              "    <tr>\n",
              "      <th>1</th>\n",
              "      <td>1</td>\n",
              "      <td>ghostbed</td>\n",
              "      <td>Commercial Investigation</td>\n",
              "    </tr>\n",
              "    <tr>\n",
              "      <th>2</th>\n",
              "      <td>2</td>\n",
              "      <td>ghost mattress</td>\n",
              "      <td>Informational</td>\n",
              "    </tr>\n",
              "    <tr>\n",
              "      <th>3</th>\n",
              "      <td>3</td>\n",
              "      <td>zero gravity bed</td>\n",
              "      <td>Unknown</td>\n",
              "    </tr>\n",
              "    <tr>\n",
              "      <th>4</th>\n",
              "      <td>4</td>\n",
              "      <td>mattress cover</td>\n",
              "      <td>Informational</td>\n",
              "    </tr>\n",
              "    <tr>\n",
              "      <th>...</th>\n",
              "      <td>...</td>\n",
              "      <td>...</td>\n",
              "      <td>...</td>\n",
              "    </tr>\n",
              "    <tr>\n",
              "      <th>95</th>\n",
              "      <td>95</td>\n",
              "      <td>purple mattress price</td>\n",
              "      <td>Informational</td>\n",
              "    </tr>\n",
              "    <tr>\n",
              "      <th>96</th>\n",
              "      <td>96</td>\n",
              "      <td>mattress size chart</td>\n",
              "      <td>Commercial Investigation</td>\n",
              "    </tr>\n",
              "    <tr>\n",
              "      <th>97</th>\n",
              "      <td>97</td>\n",
              "      <td>0 gravity bed</td>\n",
              "      <td>Informational</td>\n",
              "    </tr>\n",
              "    <tr>\n",
              "      <th>98</th>\n",
              "      <td>98</td>\n",
              "      <td>how much bigger is a king than a queen</td>\n",
              "      <td>Informational</td>\n",
              "    </tr>\n",
              "    <tr>\n",
              "      <th>99</th>\n",
              "      <td>99</td>\n",
              "      <td>sizes of weighted blankets</td>\n",
              "      <td>Commercial Investigation</td>\n",
              "    </tr>\n",
              "  </tbody>\n",
              "</table>\n",
              "<p>100 rows × 3 columns</p>\n",
              "</div>"
            ],
            "text/plain": [
              "    Unnamed: 0  ...                    intent\n",
              "0            0  ...             Transactional\n",
              "1            1  ...  Commercial Investigation\n",
              "2            2  ...             Informational\n",
              "3            3  ...                   Unknown\n",
              "4            4  ...             Informational\n",
              "..         ...  ...                       ...\n",
              "95          95  ...             Informational\n",
              "96          96  ...  Commercial Investigation\n",
              "97          97  ...             Informational\n",
              "98          98  ...             Informational\n",
              "99          99  ...  Commercial Investigation\n",
              "\n",
              "[100 rows x 3 columns]"
            ]
          },
          "metadata": {
            "tags": []
          },
          "execution_count": 9
        }
      ]
    },
    {
      "cell_type": "code",
      "metadata": {
        "id": "C8kNOQUTfc2L",
        "colab_type": "code",
        "colab": {}
      },
      "source": [
        ""
      ],
      "execution_count": null,
      "outputs": []
    },
    {
      "cell_type": "markdown",
      "metadata": {
        "id": "i5ZEeY_WDj74",
        "colab_type": "text"
      },
      "source": [
        "## Train our BERT-powered predictive model using Uber’s Ludwig.\n"
      ]
    },
    {
      "cell_type": "code",
      "metadata": {
        "id": "PceK0zS2Dmk2",
        "colab_type": "code",
        "colab": {
          "base_uri": "https://localhost:8080/",
          "height": 34
        },
        "outputId": "422e15fa-d7e5-40ea-ece4-8bf9e30c9145"
      },
      "source": [
        "%tensorflow_version 1.x \n",
        "\n",
        "import tensorflow as tf; print(tf.__version__)\n",
        "\n"
      ],
      "execution_count": null,
      "outputs": [
        {
          "output_type": "stream",
          "text": [
            "1.15.2\n"
          ],
          "name": "stdout"
        }
      ]
    },
    {
      "cell_type": "code",
      "metadata": {
        "id": "mkDSFw48xXPG",
        "colab_type": "code",
        "colab": {}
      },
      "source": [
        "%%capture\n",
        "!pip install ludwig\n",
        "\n"
      ],
      "execution_count": null,
      "outputs": []
    },
    {
      "cell_type": "code",
      "metadata": {
        "id": "gDPYruecxXan",
        "colab_type": "code",
        "colab": {
          "base_uri": "https://localhost:8080/",
          "height": 343
        },
        "outputId": "f77ac2fc-5a82-4055-b2e6-2ebf4a1b9825"
      },
      "source": [
        "!wget https://storage.googleapis.com/bert_models/2018_10_18/uncased_L-12_H-768_A-12.zip\n",
        "!unzip uncased_L-12_H-768_A-12.zip\n",
        "\n"
      ],
      "execution_count": null,
      "outputs": [
        {
          "output_type": "stream",
          "text": [
            "--2020-07-29 04:15:22--  https://storage.googleapis.com/bert_models/2018_10_18/uncased_L-12_H-768_A-12.zip\n",
            "Resolving storage.googleapis.com (storage.googleapis.com)... 173.194.193.128, 173.194.194.128, 172.217.212.128, ...\n",
            "Connecting to storage.googleapis.com (storage.googleapis.com)|173.194.193.128|:443... connected.\n",
            "HTTP request sent, awaiting response... 200 OK\n",
            "Length: 407727028 (389M) [application/zip]\n",
            "Saving to: ‘uncased_L-12_H-768_A-12.zip’\n",
            "\n",
            "uncased_L-12_H-768_ 100%[===================>] 388.84M  45.8MB/s    in 8.7s    \n",
            "\n",
            "2020-07-29 04:15:31 (44.6 MB/s) - ‘uncased_L-12_H-768_A-12.zip’ saved [407727028/407727028]\n",
            "\n",
            "Archive:  uncased_L-12_H-768_A-12.zip\n",
            "   creating: uncased_L-12_H-768_A-12/\n",
            "  inflating: uncased_L-12_H-768_A-12/bert_model.ckpt.meta  \n",
            "  inflating: uncased_L-12_H-768_A-12/bert_model.ckpt.data-00000-of-00001  \n",
            "  inflating: uncased_L-12_H-768_A-12/vocab.txt  \n",
            "  inflating: uncased_L-12_H-768_A-12/bert_model.ckpt.index  \n",
            "  inflating: uncased_L-12_H-768_A-12/bert_config.json  \n"
          ],
          "name": "stdout"
        }
      ]
    },
    {
      "cell_type": "code",
      "metadata": {
        "id": "FsoZXV-VxXln",
        "colab_type": "code",
        "colab": {}
      },
      "source": [
        "# create the ludwig configuration file for BERT-powered classification\n",
        "#https://uber.github.io/ludwig/user_guide/#bert-encoder\n",
        "\n",
        "template=\"\"\"\n",
        "input_features:\n",
        "    -\n",
        "        name: query\n",
        "        type: text\n",
        "        encoder: bert\n",
        "        config_path: uncased_L-12_H-768_A-12/bert_config.json\n",
        "        checkpoint_path: uncased_L-12_H-768_A-12/bert_model.ckpt\n",
        "        preprocessing:\n",
        "          word_tokenizer: bert\n",
        "          word_vocab_file: uncased_L-12_H-768_A-12/vocab.txt\n",
        "          padding_symbol: '[PAD]'\n",
        "          unknown_symbol: '[UNK]'\n",
        "\n",
        "output_features:\n",
        "    -\n",
        "        name: intent\n",
        "        type: category\n",
        "text:\n",
        "        word_sequence_length_limit: 128\n",
        "training:\n",
        "        batch_size: 32\n",
        "        learning_rate: 0.00002\n",
        "        Epoch: 1\n",
        "\n",
        "\"\"\"\n",
        "\n",
        "with open(\"model_definition.yaml\", \"w\") as f:\n",
        "  f.write(template)\n"
      ],
      "execution_count": null,
      "outputs": []
    },
    {
      "cell_type": "code",
      "metadata": {
        "id": "hGLL2TMxxXyH",
        "colab_type": "code",
        "colab": {}
      },
      "source": [
        "%%capture\n",
        "!pip install bert-tensorflow"
      ],
      "execution_count": null,
      "outputs": []
    },
    {
      "cell_type": "code",
      "metadata": {
        "id": "5zm0GAcIzKyN",
        "colab_type": "code",
        "colab": {
          "base_uri": "https://localhost:8080/",
          "height": 1000
        },
        "outputId": "3032f55f-74d3-4c74-d9da-ac38321e7a8d"
      },
      "source": [
        "!ludwig experiment \\\n",
        "  --data_csv ghost-bed-intent.csv\\\n",
        "  --model_definition_file model_definition.yaml"
      ],
      "execution_count": null,
      "outputs": [
        {
          "output_type": "stream",
          "text": [
            "WARNING:tensorflow:\n",
            "The TensorFlow contrib module will not be included in TensorFlow 2.0.\n",
            "For more information, please see:\n",
            "  * https://github.com/tensorflow/community/blob/master/rfcs/20180907-contrib-sunset.md\n",
            "  * https://github.com/tensorflow/addons\n",
            "  * https://github.com/tensorflow/io (for I/O related ops)\n",
            "If you depend on functionality not listed there, please file an issue.\n",
            "\n",
            "███████████████████████\n",
            "█ █ █ █  ▜█ █ █ █ █   █\n",
            "█ █ █ █ █ █ █ █ █ █ ███\n",
            "█ █   █ █ █ █ █ █ █ ▌ █\n",
            "█ █████ █ █ █ █ █ █ █ █\n",
            "█     █  ▟█     █ █   █\n",
            "███████████████████████\n",
            "ludwig v0.2.2.8 - Experiment\n",
            "\n",
            "Experiment name: experiment\n",
            "Model name: run\n",
            "Output path: results/experiment_run_0\n",
            "\n",
            "\n",
            "ludwig_version: '0.2.2.8'\n",
            "command: ('/usr/local/bin/ludwig experiment --data_csv intent.csv '\n",
            " '--model_definition_file model_definition.yaml')\n",
            "random_seed: 42\n",
            "input_data: 'intent.csv'\n",
            "model_definition: {   'combiner': {'type': 'concat'},\n",
            "    'input_features': [   {   'checkpoint_path': 'uncased_L-12_H-768_A-12/bert_model.ckpt',\n",
            "                              'config_path': 'uncased_L-12_H-768_A-12/bert_config.json',\n",
            "                              'encoder': 'bert',\n",
            "                              'level': 'word',\n",
            "                              'name': 'query',\n",
            "                              'preprocessing': {   'padding_symbol': '[PAD]',\n",
            "                                                   'unknown_symbol': '[UNK]',\n",
            "                                                   'word_tokenizer': 'bert',\n",
            "                                                   'word_vocab_file': 'uncased_L-12_H-768_A-12/vocab.txt'},\n",
            "                              'tied_weights': None,\n",
            "                              'type': 'text'}],\n",
            "    'output_features': [   {   'dependencies': [],\n",
            "                               'loss': {   'class_similarities_temperature': 0,\n",
            "                                           'class_weights': 1,\n",
            "                                           'confidence_penalty': 0,\n",
            "                                           'distortion': 1,\n",
            "                                           'labels_smoothing': 0,\n",
            "                                           'negative_samples': 0,\n",
            "                                           'robust_lambda': 0,\n",
            "                                           'sampler': None,\n",
            "                                           'type': 'softmax_cross_entropy',\n",
            "                                           'unique': False,\n",
            "                                           'weight': 1},\n",
            "                               'name': 'intent',\n",
            "                               'reduce_dependencies': 'sum',\n",
            "                               'reduce_input': 'sum',\n",
            "                               'top_k': 3,\n",
            "                               'type': 'category'}],\n",
            "    'preprocessing': {   'audio': {   'audio_feature': {'type': 'raw'},\n",
            "                                      'audio_file_length_limit_in_s': 7.5,\n",
            "                                      'in_memory': True,\n",
            "                                      'missing_value_strategy': 'backfill',\n",
            "                                      'norm': None,\n",
            "                                      'padding_value': 0},\n",
            "                         'bag': {   'fill_value': '<UNK>',\n",
            "                                    'lowercase': False,\n",
            "                                    'missing_value_strategy': 'fill_with_const',\n",
            "                                    'most_common': 10000,\n",
            "                                    'tokenizer': 'space'},\n",
            "                         'binary': {   'fill_value': 0,\n",
            "                                       'missing_value_strategy': 'fill_with_const'},\n",
            "                         'category': {   'fill_value': '<UNK>',\n",
            "                                         'lowercase': False,\n",
            "                                         'missing_value_strategy': 'fill_with_const',\n",
            "                                         'most_common': 10000},\n",
            "                         'date': {   'datetime_format': None,\n",
            "                                     'fill_value': '',\n",
            "                                     'missing_value_strategy': 'fill_with_const'},\n",
            "                         'force_split': False,\n",
            "                         'h3': {   'fill_value': 576495936675512319,\n",
            "                                   'missing_value_strategy': 'fill_with_const'},\n",
            "                         'image': {   'in_memory': True,\n",
            "                                      'missing_value_strategy': 'backfill',\n",
            "                                      'num_processes': 1,\n",
            "                                      'resize_method': 'interpolate',\n",
            "                                      'scaling': 'pixel_normalization'},\n",
            "                         'numerical': {   'fill_value': 0,\n",
            "                                          'missing_value_strategy': 'fill_with_const',\n",
            "                                          'normalization': None},\n",
            "                         'sequence': {   'fill_value': '<UNK>',\n",
            "                                         'lowercase': False,\n",
            "                                         'missing_value_strategy': 'fill_with_const',\n",
            "                                         'most_common': 20000,\n",
            "                                         'padding': 'right',\n",
            "                                         'padding_symbol': '<PAD>',\n",
            "                                         'sequence_length_limit': 256,\n",
            "                                         'tokenizer': 'space',\n",
            "                                         'unknown_symbol': '<UNK>',\n",
            "                                         'vocab_file': None},\n",
            "                         'set': {   'fill_value': '<UNK>',\n",
            "                                    'lowercase': False,\n",
            "                                    'missing_value_strategy': 'fill_with_const',\n",
            "                                    'most_common': 10000,\n",
            "                                    'tokenizer': 'space'},\n",
            "                         'split_probabilities': (0.7, 0.1, 0.2),\n",
            "                         'stratify': None,\n",
            "                         'text': {   'char_most_common': 70,\n",
            "                                     'char_sequence_length_limit': 1024,\n",
            "                                     'char_tokenizer': 'characters',\n",
            "                                     'char_vocab_file': None,\n",
            "                                     'fill_value': '<UNK>',\n",
            "                                     'lowercase': True,\n",
            "                                     'missing_value_strategy': 'fill_with_const',\n",
            "                                     'padding': 'right',\n",
            "                                     'padding_symbol': '<PAD>',\n",
            "                                     'unknown_symbol': '<UNK>',\n",
            "                                     'word_most_common': 20000,\n",
            "                                     'word_sequence_length_limit': 256,\n",
            "                                     'word_tokenizer': 'space_punct',\n",
            "                                     'word_vocab_file': None},\n",
            "                         'timeseries': {   'fill_value': '',\n",
            "                                           'missing_value_strategy': 'fill_with_const',\n",
            "                                           'padding': 'right',\n",
            "                                           'padding_value': 0,\n",
            "                                           'timeseries_length_limit': 256,\n",
            "                                           'tokenizer': 'space'},\n",
            "                         'vector': {   'fill_value': '',\n",
            "                                       'missing_value_strategy': 'fill_with_const'}},\n",
            "    'text': {'word_sequence_length_limit': 128},\n",
            "    'training': {   'batch_size': 32,\n",
            "                    'bucketing_field': None,\n",
            "                    'decay': False,\n",
            "                    'decay_rate': 0.96,\n",
            "                    'decay_steps': 10000,\n",
            "                    'dropout_rate': 0.0,\n",
            "                    'early_stop': 5,\n",
            "                    'epochs': 100,\n",
            "                    'eval_batch_size': 0,\n",
            "                    'gradient_clipping': None,\n",
            "                    'increase_batch_size_on_plateau': 0,\n",
            "                    'increase_batch_size_on_plateau_max': 512,\n",
            "                    'increase_batch_size_on_plateau_patience': 5,\n",
            "                    'increase_batch_size_on_plateau_rate': 2,\n",
            "                    'learning_rate': 2e-05,\n",
            "                    'learning_rate_warmup_epochs': 1,\n",
            "                    'optimizer': {   'beta1': 0.9,\n",
            "                                     'beta2': 0.999,\n",
            "                                     'epsilon': 1e-08,\n",
            "                                     'type': 'adam'},\n",
            "                    'reduce_learning_rate_on_plateau': 0,\n",
            "                    'reduce_learning_rate_on_plateau_patience': 5,\n",
            "                    'reduce_learning_rate_on_plateau_rate': 0.5,\n",
            "                    'regularization_lambda': 0,\n",
            "                    'regularizer': 'l2',\n",
            "                    'staircase': False,\n",
            "                    'validation_field': 'combined',\n",
            "                    'validation_measure': 'loss'}}\n",
            "\n",
            "\n",
            "Found hdf5 and json with the same filename of the csv, using them instead\n",
            "Using full hdf5 and json\n",
            "Loading data from: intent.hdf5\n",
            "Loading metadata from: intent.json\n",
            "Training set: 1249\n",
            "Validation set: 160\n",
            "Test set: 364\n",
            "WARNING:tensorflow:From /usr/local/lib/python3.6/dist-packages/bert/modeling.py:93: The name tf.gfile.GFile is deprecated. Please use tf.io.gfile.GFile instead.\n",
            "\n",
            "WARNING:tensorflow:From /usr/local/lib/python3.6/dist-packages/bert/modeling.py:171: The name tf.variable_scope is deprecated. Please use tf.compat.v1.variable_scope instead.\n",
            "\n",
            "WARNING:tensorflow:From /usr/local/lib/python3.6/dist-packages/bert/modeling.py:409: The name tf.get_variable is deprecated. Please use tf.compat.v1.get_variable instead.\n",
            "\n",
            "WARNING:tensorflow:From /usr/local/lib/python3.6/dist-packages/bert/modeling.py:490: The name tf.assert_less_equal is deprecated. Please use tf.compat.v1.assert_less_equal instead.\n",
            "\n",
            "WARNING:tensorflow:From /usr/local/lib/python3.6/dist-packages/bert/modeling.py:358: calling dropout (from tensorflow.python.ops.nn_ops) with keep_prob is deprecated and will be removed in a future version.\n",
            "Instructions for updating:\n",
            "Please use `rate` instead of `keep_prob`. Rate should be set to `rate = 1 - keep_prob`.\n",
            "WARNING:tensorflow:From /usr/local/lib/python3.6/dist-packages/bert/modeling.py:671: dense (from tensorflow.python.layers.core) is deprecated and will be removed in a future version.\n",
            "Instructions for updating:\n",
            "Use keras.layers.Dense instead.\n",
            "WARNING:tensorflow:From /usr/local/lib/python3.6/dist-packages/tensorflow_core/python/layers/core.py:187: Layer.apply (from tensorflow.python.keras.engine.base_layer) is deprecated and will be removed in a future version.\n",
            "Instructions for updating:\n",
            "Please use `layer.__call__` method instead.\n",
            "WARNING:tensorflow:From /usr/local/lib/python3.6/dist-packages/ludwig/models/modules/sequence_encoders.py:1731: The name tf.trainable_variables is deprecated. Please use tf.compat.v1.trainable_variables instead.\n",
            "\n",
            "WARNING:tensorflow:From /usr/local/lib/python3.6/dist-packages/ludwig/models/modules/sequence_encoders.py:1742: The name tf.train.init_from_checkpoint is deprecated. Please use tf.compat.v1.train.init_from_checkpoint instead.\n",
            "\n",
            "WARNING:tensorflow:From /usr/local/lib/python3.6/dist-packages/ludwig/models/modules/sequence_encoders.py:1749: dropout (from tensorflow.python.layers.core) is deprecated and will be removed in a future version.\n",
            "Instructions for updating:\n",
            "Use keras.layers.dropout instead.\n",
            "WARNING:tensorflow:From /usr/local/lib/python3.6/dist-packages/tensorflow_core/python/ops/math_grad.py:1375: where (from tensorflow.python.ops.array_ops) is deprecated and will be removed in a future version.\n",
            "Instructions for updating:\n",
            "Use tf.where in 2.0, which has the same broadcast rule as np.where\n",
            "\n",
            "╒══════════╕\n",
            "│ TRAINING │\n",
            "╘══════════╛\n",
            "\n",
            "2020-07-29 04:35:03.552109: I tensorflow/core/platform/cpu_feature_guard.cc:142] Your CPU supports instructions that this TensorFlow binary was not compiled to use: AVX2 FMA\n",
            "2020-07-29 04:35:03.555648: I tensorflow/core/platform/profile_utils/cpu_utils.cc:94] CPU Frequency: 2300000000 Hz\n",
            "2020-07-29 04:35:03.555841: I tensorflow/compiler/xla/service/service.cc:168] XLA service 0x2ad7800 initialized for platform Host (this does not guarantee that XLA will be used). Devices:\n",
            "2020-07-29 04:35:03.555870: I tensorflow/compiler/xla/service/service.cc:176]   StreamExecutor device (0): Host, Default Version\n",
            "\n",
            "Epoch   1\n",
            "Training: 100% 40/40 [02:49<00:00,  4.25s/it]\n",
            "Evaluation train: 100% 40/40 [00:51<00:00,  1.30s/it]\n",
            "Evaluation vali : 100% 5/5 [00:06<00:00,  1.31s/it]\n",
            "Evaluation test : 100% 12/12 [00:14<00:00,  1.25s/it]\n",
            "Took 4m 3.3776s\n",
            "╒══════════╤════════╤════════════╤═════════════╕\n",
            "│ intent   │   loss │   accuracy │   hits_at_k │\n",
            "╞══════════╪════════╪════════════╪═════════════╡\n",
            "│ training │ 0.6413 │     0.8215 │      0.9656 │\n",
            "├──────────┼────────┼────────────┼─────────────┤\n",
            "│ vali     │ 0.7107 │     0.7750 │      0.9688 │\n",
            "├──────────┼────────┼────────────┼─────────────┤\n",
            "│ test     │ 0.6515 │     0.8132 │      0.9753 │\n",
            "╘══════════╧════════╧════════════╧═════════════╛\n",
            "Validation loss on combined improved, model saved\n",
            "\n",
            "\n",
            "Epoch   2\n",
            "Training: 100% 40/40 [02:56<00:00,  4.42s/it]\n",
            "Evaluation train: 100% 40/40 [00:53<00:00,  1.33s/it]\n",
            "Evaluation vali : 100% 5/5 [00:06<00:00,  1.36s/it]\n",
            "Evaluation test : 100% 12/12 [00:15<00:00,  1.31s/it]\n",
            "Took 4m 12.4018s\n",
            "╒══════════╤════════╤════════════╤═════════════╕\n",
            "│ intent   │   loss │   accuracy │   hits_at_k │\n",
            "╞══════════╪════════╪════════════╪═════════════╡\n",
            "│ training │ 0.5589 │     0.8215 │      0.9696 │\n",
            "├──────────┼────────┼────────────┼─────────────┤\n",
            "│ vali     │ 0.6854 │     0.7750 │      0.9688 │\n",
            "├──────────┼────────┼────────────┼─────────────┤\n",
            "│ test     │ 0.6055 │     0.8132 │      0.9698 │\n",
            "╘══════════╧════════╧════════════╧═════════════╛\n",
            "Validation loss on combined improved, model saved\n",
            "\n",
            "\n",
            "Epoch   3\n",
            "Training: 100% 40/40 [03:06<00:00,  4.65s/it]\n",
            "Evaluation train: 100% 40/40 [00:54<00:00,  1.35s/it]\n",
            "Evaluation vali : 100% 5/5 [00:06<00:00,  1.38s/it]\n",
            "Evaluation test : 100% 12/12 [00:15<00:00,  1.31s/it]\n",
            "Took 4m 22.7710s\n",
            "╒══════════╤════════╤════════════╤═════════════╕\n",
            "│ intent   │   loss │   accuracy │   hits_at_k │\n",
            "╞══════════╪════════╪════════════╪═════════════╡\n",
            "│ training │ 0.4770 │     0.8343 │      0.9728 │\n",
            "├──────────┼────────┼────────────┼─────────────┤\n",
            "│ vali     │ 0.6429 │     0.7812 │      0.9563 │\n",
            "├──────────┼────────┼────────────┼─────────────┤\n",
            "│ test     │ 0.5428 │     0.8159 │      0.9670 │\n",
            "╘══════════╧════════╧════════════╧═════════════╛\n",
            "Validation loss on combined improved, model saved\n",
            "\n",
            "\n",
            "Epoch   4\n",
            "Training:  15% 6/40 [00:40<03:37,  6.41s/it]^C\n"
          ],
          "name": "stdout"
        }
      ]
    },
    {
      "cell_type": "markdown",
      "metadata": {
        "id": "S_ZKH5EODnYZ",
        "colab_type": "text"
      },
      "source": [
        "## Test predictive model on competing site"
      ]
    },
    {
      "cell_type": "code",
      "metadata": {
        "id": "QG1BL1866W-M",
        "colab_type": "code",
        "colab": {
          "base_uri": "https://localhost:8080/",
          "height": 204
        },
        "outputId": "b2bc885a-4f49-45db-ab52-4802e11fe064"
      },
      "source": [
        "#test_df = get_keywords(\"eachnight.com\")\n",
        "!wget https://raw.githubusercontent.com/hamletbatista/daanyc/master/eachnight.csv"
      ],
      "execution_count": null,
      "outputs": [
        {
          "output_type": "stream",
          "text": [
            "--2020-07-29 15:32:08--  https://raw.githubusercontent.com/hamletbatista/daanyc/master/eachnight.csv\n",
            "Resolving raw.githubusercontent.com (raw.githubusercontent.com)... 151.101.0.133, 151.101.64.133, 151.101.128.133, ...\n",
            "Connecting to raw.githubusercontent.com (raw.githubusercontent.com)|151.101.0.133|:443... connected.\n",
            "HTTP request sent, awaiting response... 200 OK\n",
            "Length: 362277 (354K) [text/plain]\n",
            "Saving to: ‘eachnight.csv.1’\n",
            "\n",
            "eachnight.csv.1     100%[===================>] 353.79K  --.-KB/s    in 0.06s   \n",
            "\n",
            "2020-07-29 15:32:09 (5.69 MB/s) - ‘eachnight.csv.1’ saved [362277/362277]\n",
            "\n"
          ],
          "name": "stdout"
        }
      ]
    },
    {
      "cell_type": "code",
      "metadata": {
        "id": "OL9gD5L8M9fD",
        "colab_type": "code",
        "colab": {}
      },
      "source": [
        "test_df = pd.read_csv(\"eachnight.csv\")"
      ],
      "execution_count": null,
      "outputs": []
    },
    {
      "cell_type": "code",
      "metadata": {
        "id": "ZPDg-hop7W26",
        "colab_type": "code",
        "colab": {
          "base_uri": "https://localhost:8080/",
          "height": 419
        },
        "outputId": "af281dae-51aa-4afc-d578-84faf12bcc2c"
      },
      "source": [
        "test_df"
      ],
      "execution_count": null,
      "outputs": [
        {
          "output_type": "execute_result",
          "data": {
            "text/html": [
              "<div>\n",
              "<style scoped>\n",
              "    .dataframe tbody tr th:only-of-type {\n",
              "        vertical-align: middle;\n",
              "    }\n",
              "\n",
              "    .dataframe tbody tr th {\n",
              "        vertical-align: top;\n",
              "    }\n",
              "\n",
              "    .dataframe thead th {\n",
              "        text-align: right;\n",
              "    }\n",
              "</style>\n",
              "<table border=\"1\" class=\"dataframe\">\n",
              "  <thead>\n",
              "    <tr style=\"text-align: right;\">\n",
              "      <th></th>\n",
              "      <th>Unnamed: 0</th>\n",
              "      <th>Keyword</th>\n",
              "    </tr>\n",
              "  </thead>\n",
              "  <tbody>\n",
              "    <tr>\n",
              "      <th>0</th>\n",
              "      <td>0</td>\n",
              "      <td>california king bed</td>\n",
              "    </tr>\n",
              "    <tr>\n",
              "      <th>1</th>\n",
              "      <td>1</td>\n",
              "      <td>california king vs king</td>\n",
              "    </tr>\n",
              "    <tr>\n",
              "      <th>2</th>\n",
              "      <td>2</td>\n",
              "      <td>adjustable beds</td>\n",
              "    </tr>\n",
              "    <tr>\n",
              "      <th>3</th>\n",
              "      <td>3</td>\n",
              "      <td>cal king vs king</td>\n",
              "    </tr>\n",
              "    <tr>\n",
              "      <th>4</th>\n",
              "      <td>4</td>\n",
              "      <td>queen mattress</td>\n",
              "    </tr>\n",
              "    <tr>\n",
              "      <th>...</th>\n",
              "      <td>...</td>\n",
              "      <td>...</td>\n",
              "    </tr>\n",
              "    <tr>\n",
              "      <th>9996</th>\n",
              "      <td>9996</td>\n",
              "      <td>best mattress for healthy sleep</td>\n",
              "    </tr>\n",
              "    <tr>\n",
              "      <th>9997</th>\n",
              "      <td>9997</td>\n",
              "      <td>bed and mattress difference</td>\n",
              "    </tr>\n",
              "    <tr>\n",
              "      <th>9998</th>\n",
              "      <td>9998</td>\n",
              "      <td>best down mattress pad</td>\n",
              "    </tr>\n",
              "    <tr>\n",
              "      <th>9999</th>\n",
              "      <td>9999</td>\n",
              "      <td>mattress off gassing and pregnancy</td>\n",
              "    </tr>\n",
              "    <tr>\n",
              "      <th>10000</th>\n",
              "      <td>10000</td>\n",
              "      <td>NaN</td>\n",
              "    </tr>\n",
              "  </tbody>\n",
              "</table>\n",
              "<p>10001 rows × 2 columns</p>\n",
              "</div>"
            ],
            "text/plain": [
              "       Unnamed: 0                             Keyword\n",
              "0               0                 california king bed\n",
              "1               1             california king vs king\n",
              "2               2                     adjustable beds\n",
              "3               3                    cal king vs king\n",
              "4               4                      queen mattress\n",
              "...           ...                                 ...\n",
              "9996         9996     best mattress for healthy sleep\n",
              "9997         9997         bed and mattress difference\n",
              "9998         9998              best down mattress pad\n",
              "9999         9999  mattress off gassing and pregnancy\n",
              "10000       10000                                 NaN\n",
              "\n",
              "[10001 rows x 2 columns]"
            ]
          },
          "metadata": {
            "tags": []
          },
          "execution_count": 22
        }
      ]
    },
    {
      "cell_type": "code",
      "metadata": {
        "id": "xrXtE7v68Tno",
        "colab_type": "code",
        "colab": {
          "base_uri": "https://localhost:8080/",
          "height": 34
        },
        "outputId": "8e201828-ecfe-4236-eff1-674339a7e94a"
      },
      "source": [
        "!ls results"
      ],
      "execution_count": null,
      "outputs": [
        {
          "output_type": "stream",
          "text": [
            "experiment_run\texperiment_run_0\n"
          ],
          "name": "stdout"
        }
      ]
    },
    {
      "cell_type": "code",
      "metadata": {
        "id": "Xmoz7qZN77ot",
        "colab_type": "code",
        "colab": {
          "base_uri": "https://localhost:8080/",
          "height": 649
        },
        "outputId": "915feb93-834f-40d0-e2b8-c4c3198b992d"
      },
      "source": [
        "from ludwig.api import LudwigModel\n",
        "model = LudwigModel.load(\"results/experiment_run_0/model\")"
      ],
      "execution_count": null,
      "outputs": [
        {
          "output_type": "stream",
          "text": [
            "WARNING:tensorflow:\n",
            "The TensorFlow contrib module will not be included in TensorFlow 2.0.\n",
            "For more information, please see:\n",
            "  * https://github.com/tensorflow/community/blob/master/rfcs/20180907-contrib-sunset.md\n",
            "  * https://github.com/tensorflow/addons\n",
            "  * https://github.com/tensorflow/io (for I/O related ops)\n",
            "If you depend on functionality not listed there, please file an issue.\n",
            "\n",
            "WARNING:tensorflow:From /usr/local/lib/python3.6/dist-packages/bert/modeling.py:93: The name tf.gfile.GFile is deprecated. Please use tf.io.gfile.GFile instead.\n",
            "\n",
            "WARNING:tensorflow:From /usr/local/lib/python3.6/dist-packages/bert/modeling.py:171: The name tf.variable_scope is deprecated. Please use tf.compat.v1.variable_scope instead.\n",
            "\n",
            "WARNING:tensorflow:From /usr/local/lib/python3.6/dist-packages/bert/modeling.py:409: The name tf.get_variable is deprecated. Please use tf.compat.v1.get_variable instead.\n",
            "\n",
            "WARNING:tensorflow:From /usr/local/lib/python3.6/dist-packages/bert/modeling.py:490: The name tf.assert_less_equal is deprecated. Please use tf.compat.v1.assert_less_equal instead.\n",
            "\n",
            "WARNING:tensorflow:From /usr/local/lib/python3.6/dist-packages/bert/modeling.py:358: calling dropout (from tensorflow.python.ops.nn_ops) with keep_prob is deprecated and will be removed in a future version.\n",
            "Instructions for updating:\n",
            "Please use `rate` instead of `keep_prob`. Rate should be set to `rate = 1 - keep_prob`.\n",
            "WARNING:tensorflow:From /usr/local/lib/python3.6/dist-packages/bert/modeling.py:671: dense (from tensorflow.python.layers.core) is deprecated and will be removed in a future version.\n",
            "Instructions for updating:\n",
            "Use keras.layers.Dense instead.\n",
            "WARNING:tensorflow:From /usr/local/lib/python3.6/dist-packages/tensorflow_core/python/layers/core.py:187: Layer.apply (from tensorflow.python.keras.engine.base_layer) is deprecated and will be removed in a future version.\n",
            "Instructions for updating:\n",
            "Please use `layer.__call__` method instead.\n",
            "WARNING:tensorflow:From /usr/local/lib/python3.6/dist-packages/ludwig/models/modules/sequence_encoders.py:1731: The name tf.trainable_variables is deprecated. Please use tf.compat.v1.trainable_variables instead.\n",
            "\n",
            "WARNING:tensorflow:From /usr/local/lib/python3.6/dist-packages/ludwig/models/modules/sequence_encoders.py:1742: The name tf.train.init_from_checkpoint is deprecated. Please use tf.compat.v1.train.init_from_checkpoint instead.\n",
            "\n",
            "WARNING:tensorflow:From /usr/local/lib/python3.6/dist-packages/ludwig/models/modules/sequence_encoders.py:1749: dropout (from tensorflow.python.layers.core) is deprecated and will be removed in a future version.\n",
            "Instructions for updating:\n",
            "Use keras.layers.dropout instead.\n",
            "WARNING:tensorflow:From /usr/local/lib/python3.6/dist-packages/tensorflow_core/python/ops/math_grad.py:1375: where (from tensorflow.python.ops.array_ops) is deprecated and will be removed in a future version.\n",
            "Instructions for updating:\n",
            "Use tf.where in 2.0, which has the same broadcast rule as np.where\n",
            "INFO:tensorflow:Restoring parameters from results/experiment_run_0/model/model_weights\n"
          ],
          "name": "stdout"
        }
      ]
    },
    {
      "cell_type": "code",
      "metadata": {
        "id": "nhX0aPC6Tlzi",
        "colab_type": "code",
        "colab": {
          "base_uri": "https://localhost:8080/",
          "height": 445
        },
        "outputId": "06fb41ee-a089-4a68-9c94-8a2896dba1ad"
      },
      "source": [
        "#alternative\n",
        "#download from https://www.dropbox.com/s/xvqpe34ocxyhk34/results-20200729T150959Z-001.zip?dl=0\n",
        "!wget https://www.dropbox.com/s/xvqpe34ocxyhk34/results-20200729T150959Z-001.zip?dl=0"
      ],
      "execution_count": null,
      "outputs": [
        {
          "output_type": "stream",
          "text": [
            "--2020-07-29 16:02:14--  https://www.dropbox.com/s/xvqpe34ocxyhk34/results-20200729T150959Z-001.zip?dl=0\n",
            "Resolving www.dropbox.com (www.dropbox.com)... 162.125.80.1, 2620:100:6030:1::a27d:5001\n",
            "Connecting to www.dropbox.com (www.dropbox.com)|162.125.80.1|:443... connected.\n",
            "HTTP request sent, awaiting response... 301 Moved Permanently\n",
            "Location: /s/raw/xvqpe34ocxyhk34/results-20200729T150959Z-001.zip [following]\n",
            "--2020-07-29 16:02:14--  https://www.dropbox.com/s/raw/xvqpe34ocxyhk34/results-20200729T150959Z-001.zip\n",
            "Reusing existing connection to www.dropbox.com:443.\n",
            "HTTP request sent, awaiting response... 302 Found\n",
            "Location: https://uc8aee8e42951839437cfc195182.dl.dropboxusercontent.com/cd/0/inline/A8flJldELJCN5u1RArnn8q0EHgQAnifwgcLJtg0VqPC-fiGpMbu6Dp6tiL8_dT-kc8RZWnvnoMFZIwGIFSDoW74DGH7yn87QluOTjKYgGNCcKpgDFIqMzZQh98QHJ41ejw4/file# [following]\n",
            "--2020-07-29 16:02:15--  https://uc8aee8e42951839437cfc195182.dl.dropboxusercontent.com/cd/0/inline/A8flJldELJCN5u1RArnn8q0EHgQAnifwgcLJtg0VqPC-fiGpMbu6Dp6tiL8_dT-kc8RZWnvnoMFZIwGIFSDoW74DGH7yn87QluOTjKYgGNCcKpgDFIqMzZQh98QHJ41ejw4/file\n",
            "Resolving uc8aee8e42951839437cfc195182.dl.dropboxusercontent.com (uc8aee8e42951839437cfc195182.dl.dropboxusercontent.com)... 162.125.80.15, 2620:100:6030:15::a27d:500f\n",
            "Connecting to uc8aee8e42951839437cfc195182.dl.dropboxusercontent.com (uc8aee8e42951839437cfc195182.dl.dropboxusercontent.com)|162.125.80.15|:443... connected.\n",
            "HTTP request sent, awaiting response... 302 Found\n",
            "Location: /cd/0/inline2/A8cgKrzy-wVq7TjfA5_c-77fNIPMAiShxC3olzYReBBHrZxMmEyyQ5YkTQ0yXZzgYvITYbpAraN53wMg5Av7JFhA5maJFs26G5gIxDwwMtoRXdFFZ14MN8rSdAjbLVQGpFLl6x08aEyo84TL2JIUqLCp9oalQpftUFfVBcSM-shnxH-X4cQJXtfptbRJr-S8xPbzBTjiSh4013mEchTLqx1SGA5o0SfKPwi4aKN25laCm4QYo0JCQmUJY8yQnGdO84LarfC2jGeyaQcog3AXDOXHwgXHcyIdRWgS_EYZ3gnwjhDYnjOrREU73tdMDg32VhwhL52Yr971ygQI_89o8LwOkrR4FsDs_911c0d6mdUpvg/file [following]\n",
            "--2020-07-29 16:02:16--  https://uc8aee8e42951839437cfc195182.dl.dropboxusercontent.com/cd/0/inline2/A8cgKrzy-wVq7TjfA5_c-77fNIPMAiShxC3olzYReBBHrZxMmEyyQ5YkTQ0yXZzgYvITYbpAraN53wMg5Av7JFhA5maJFs26G5gIxDwwMtoRXdFFZ14MN8rSdAjbLVQGpFLl6x08aEyo84TL2JIUqLCp9oalQpftUFfVBcSM-shnxH-X4cQJXtfptbRJr-S8xPbzBTjiSh4013mEchTLqx1SGA5o0SfKPwi4aKN25laCm4QYo0JCQmUJY8yQnGdO84LarfC2jGeyaQcog3AXDOXHwgXHcyIdRWgS_EYZ3gnwjhDYnjOrREU73tdMDg32VhwhL52Yr971ygQI_89o8LwOkrR4FsDs_911c0d6mdUpvg/file\n",
            "Reusing existing connection to uc8aee8e42951839437cfc195182.dl.dropboxusercontent.com:443.\n",
            "HTTP request sent, awaiting response... 200 OK\n",
            "Length: 1041799256 (994M) [application/zip]\n",
            "Saving to: ‘results-20200729T150959Z-001.zip?dl=0’\n",
            "\n",
            "results-20200729T15 100%[===================>] 993.54M  19.7MB/s    in 52s     \n",
            "\n",
            "2020-07-29 16:03:08 (19.3 MB/s) - ‘results-20200729T150959Z-001.zip?dl=0’ saved [1041799256/1041799256]\n",
            "\n"
          ],
          "name": "stdout"
        }
      ]
    },
    {
      "cell_type": "code",
      "metadata": {
        "id": "WdfwrRaNT99a",
        "colab_type": "code",
        "colab": {
          "base_uri": "https://localhost:8080/",
          "height": 51
        },
        "outputId": "49c3c7fd-6bb0-4fb5-be61-5eb4a10ae690"
      },
      "source": [
        "!unzip results-20200729T150959Z-001.zip?dl=0"
      ],
      "execution_count": null,
      "outputs": [
        {
          "output_type": "stream",
          "text": [
            "Archive:  results-20200729T150959Z-001.zip?dl=0\n",
            "replace results/experiment_run_0/description.json? [y]es, [n]o, [A]ll, [N]one, [r]ename: N\n"
          ],
          "name": "stdout"
        }
      ]
    },
    {
      "cell_type": "code",
      "metadata": {
        "id": "EmtiSXpiDpiK",
        "colab_type": "code",
        "colab": {}
      },
      "source": [
        "\n",
        "predictions = model.predict(test_df.head(1000).rename(columns={'Keyword': 'query'} ))\n",
        "\n"
      ],
      "execution_count": null,
      "outputs": []
    },
    {
      "cell_type": "code",
      "metadata": {
        "id": "VdlYlAYp73gL",
        "colab_type": "code",
        "colab": {
          "base_uri": "https://localhost:8080/",
          "height": 419
        },
        "outputId": "1d95ec61-1479-40af-d27c-b55d88aa6fed"
      },
      "source": [
        "test_df.head(1000).join(predictions)[[\"Keyword\", \"intent_predictions\"]]"
      ],
      "execution_count": null,
      "outputs": [
        {
          "output_type": "execute_result",
          "data": {
            "text/html": [
              "<div>\n",
              "<style scoped>\n",
              "    .dataframe tbody tr th:only-of-type {\n",
              "        vertical-align: middle;\n",
              "    }\n",
              "\n",
              "    .dataframe tbody tr th {\n",
              "        vertical-align: top;\n",
              "    }\n",
              "\n",
              "    .dataframe thead th {\n",
              "        text-align: right;\n",
              "    }\n",
              "</style>\n",
              "<table border=\"1\" class=\"dataframe\">\n",
              "  <thead>\n",
              "    <tr style=\"text-align: right;\">\n",
              "      <th></th>\n",
              "      <th>Keyword</th>\n",
              "      <th>intent_predictions</th>\n",
              "    </tr>\n",
              "  </thead>\n",
              "  <tbody>\n",
              "    <tr>\n",
              "      <th>0</th>\n",
              "      <td>california king bed</td>\n",
              "      <td>Informational</td>\n",
              "    </tr>\n",
              "    <tr>\n",
              "      <th>1</th>\n",
              "      <td>california king vs king</td>\n",
              "      <td>Informational</td>\n",
              "    </tr>\n",
              "    <tr>\n",
              "      <th>2</th>\n",
              "      <td>adjustable beds</td>\n",
              "      <td>Informational</td>\n",
              "    </tr>\n",
              "    <tr>\n",
              "      <th>3</th>\n",
              "      <td>cal king vs king</td>\n",
              "      <td>Informational</td>\n",
              "    </tr>\n",
              "    <tr>\n",
              "      <th>4</th>\n",
              "      <td>queen mattress</td>\n",
              "      <td>Informational</td>\n",
              "    </tr>\n",
              "    <tr>\n",
              "      <th>...</th>\n",
              "      <td>...</td>\n",
              "      <td>...</td>\n",
              "    </tr>\n",
              "    <tr>\n",
              "      <th>995</th>\n",
              "      <td>best mattress 2020</td>\n",
              "      <td>Informational</td>\n",
              "    </tr>\n",
              "    <tr>\n",
              "      <th>996</th>\n",
              "      <td>how do i clean my memory foam mattress</td>\n",
              "      <td>Informational</td>\n",
              "    </tr>\n",
              "    <tr>\n",
              "      <th>997</th>\n",
              "      <td>best gel mattress for side sleepers</td>\n",
              "      <td>Informational</td>\n",
              "    </tr>\n",
              "    <tr>\n",
              "      <th>998</th>\n",
              "      <td>what sort of mattress is best for a child</td>\n",
              "      <td>Informational</td>\n",
              "    </tr>\n",
              "    <tr>\n",
              "      <th>999</th>\n",
              "      <td>full mattress size in inches</td>\n",
              "      <td>Informational</td>\n",
              "    </tr>\n",
              "  </tbody>\n",
              "</table>\n",
              "<p>1000 rows × 2 columns</p>\n",
              "</div>"
            ],
            "text/plain": [
              "                                       Keyword intent_predictions\n",
              "0                          california king bed      Informational\n",
              "1                      california king vs king      Informational\n",
              "2                              adjustable beds      Informational\n",
              "3                             cal king vs king      Informational\n",
              "4                               queen mattress      Informational\n",
              "..                                         ...                ...\n",
              "995                         best mattress 2020      Informational\n",
              "996     how do i clean my memory foam mattress      Informational\n",
              "997        best gel mattress for side sleepers      Informational\n",
              "998  what sort of mattress is best for a child      Informational\n",
              "999               full mattress size in inches      Informational\n",
              "\n",
              "[1000 rows x 2 columns]"
            ]
          },
          "metadata": {
            "tags": []
          },
          "execution_count": 19
        }
      ]
    },
    {
      "cell_type": "code",
      "metadata": {
        "id": "7g6pVACIA-fy",
        "colab_type": "code",
        "colab": {
          "base_uri": "https://localhost:8080/",
          "height": 173
        },
        "outputId": "fcc63c02-37c5-4ce5-ec6d-a71fb089df4e"
      },
      "source": [
        "test_df.head(1000).join(predictions)[[\"Keyword\", \"intent_predictions\"]].groupby(\"intent_predictions\").count()"
      ],
      "execution_count": null,
      "outputs": [
        {
          "output_type": "execute_result",
          "data": {
            "text/html": [
              "<div>\n",
              "<style scoped>\n",
              "    .dataframe tbody tr th:only-of-type {\n",
              "        vertical-align: middle;\n",
              "    }\n",
              "\n",
              "    .dataframe tbody tr th {\n",
              "        vertical-align: top;\n",
              "    }\n",
              "\n",
              "    .dataframe thead th {\n",
              "        text-align: right;\n",
              "    }\n",
              "</style>\n",
              "<table border=\"1\" class=\"dataframe\">\n",
              "  <thead>\n",
              "    <tr style=\"text-align: right;\">\n",
              "      <th></th>\n",
              "      <th>Keyword</th>\n",
              "    </tr>\n",
              "    <tr>\n",
              "      <th>intent_predictions</th>\n",
              "      <th></th>\n",
              "    </tr>\n",
              "  </thead>\n",
              "  <tbody>\n",
              "    <tr>\n",
              "      <th>Informational</th>\n",
              "      <td>989</td>\n",
              "    </tr>\n",
              "    <tr>\n",
              "      <th>Transactional</th>\n",
              "      <td>9</td>\n",
              "    </tr>\n",
              "    <tr>\n",
              "      <th>Unknown</th>\n",
              "      <td>2</td>\n",
              "    </tr>\n",
              "  </tbody>\n",
              "</table>\n",
              "</div>"
            ],
            "text/plain": [
              "                    Keyword\n",
              "intent_predictions         \n",
              "Informational           989\n",
              "Transactional             9\n",
              "Unknown                   2"
            ]
          },
          "metadata": {
            "tags": []
          },
          "execution_count": 20
        }
      ]
    },
    {
      "cell_type": "code",
      "metadata": {
        "id": "PsRd709zBlIr",
        "colab_type": "code",
        "colab": {}
      },
      "source": [
        "test_df.to_csv(\"competitor_predictions.csv\")"
      ],
      "execution_count": null,
      "outputs": []
    }
  ]
}